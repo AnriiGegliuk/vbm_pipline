{
 "cells": [
  {
   "cell_type": "code",
   "execution_count": 21,
   "metadata": {},
   "outputs": [
    {
     "name": "stdout",
     "output_type": "stream",
     "text": [
      "The autoreload extension is already loaded. To reload it, use:\n",
      "  %reload_ext autoreload\n"
     ]
    }
   ],
   "source": [
    "%load_ext autoreload\n",
    "%autoreload 2\n",
    "from modalities.segmentation_1 import segment_brain_images\n",
    "from modalities.brain_mask_1 import mask_brain_images"
   ]
  },
  {
   "cell_type": "code",
   "execution_count": 3,
   "metadata": {},
   "outputs": [
    {
     "name": "stderr",
     "output_type": "stream",
     "text": [
      "stty: 'standard input': Inappropriate ioctl for device\n"
     ]
    },
    {
     "name": "stdout",
     "output_type": "stream",
     "text": [
      "<nipype.interfaces.base.support.InterfaceResult object at 0x7f62f5182cd0>\n"
     ]
    },
    {
     "name": "stderr",
     "output_type": "stream",
     "text": [
      "stty: 'standard input': Inappropriate ioctl for device\n"
     ]
    }
   ],
   "source": [
    "from nipype.interfaces.spm import NewSegment\n",
    "import os\n",
    "\n",
    "# paths for segmentation\n",
    "alignment_file = os.path.abspath('data/segmentation/cross_hair_4_24_39 - Copy/crosshair_4_24_39.nii')\n",
    "tpm_files = [\n",
    "    os.path.abspath('data/TPM/01_GM.nii'),\n",
    "    os.path.abspath('data/TPM/02_WM.nii'),\n",
    "    os.path.abspath('data/TPM/03_CSF.nii'),\n",
    "    os.path.abspath('data/TPM/04.nii'),\n",
    "    os.path.abspath('data/TPM/05.nii'),\n",
    "    os.path.abspath('data/TPM/06.nii')\n",
    "]\n",
    "\n",
    "for f in [alignment_file] + tpm_files: # checking if the .nii files exist\n",
    "    if not os.path.exists(f):\n",
    "        raise FileNotFoundError(f\"File not found: {f}\")\n",
    "\n",
    "\n",
    "segment = NewSegment() # runnign segmentation \n",
    "segment.inputs.channel_files = alignment_file\n",
    "segment.inputs.tissues = [\n",
    "    ((tpm_files[0], 1), 1, (True, True), (True, True)),\n",
    "    ((tpm_files[1], 1), 1, (True, True), (True, True)),\n",
    "    ((tpm_files[2], 1), 2, (True, True), (True, True)),\n",
    "    ((tpm_files[3], 1), 3, (True, False), (False, False)),\n",
    "    ((tpm_files[4], 1), 4, (True, False), (False, False)),\n",
    "    ((tpm_files[5], 1), 2, (False, False), (False, False))\n",
    "]\n",
    "\n",
    "result = segment.run()\n",
    "print(result)\n"
   ]
  },
  {
   "cell_type": "code",
   "execution_count": 4,
   "metadata": {},
   "outputs": [],
   "source": [
    "# input_folder = 'data/alignment/'\n",
    "# tpm_path = 'data/TPM/'\n",
    "\n",
    "# output_files = segment_brain_images(input_folder, tpm_path)\n",
    "# print(output_files)"
   ]
  },
  {
   "cell_type": "code",
   "execution_count": 13,
   "metadata": {},
   "outputs": [
    {
     "name": "stdout",
     "output_type": "stream",
     "text": [
      "['data/segmentation_pipline/AA011/mask.nii', 'data/segmentation_pipline/AA011/masked_T2_H482_AA011.nii']\n"
     ]
    }
   ],
   "source": [
    "output_files = mask_brain_images('data/segmentation_pipline/AA011', 'T2_H482_AA011')\n",
    "print(output_files)\n"
   ]
  },
  {
   "cell_type": "code",
   "execution_count": 23,
   "metadata": {},
   "outputs": [
    {
     "name": "stdout",
     "output_type": "stream",
     "text": [
      "240701-18:18:38,219 nipype.workflow INFO:\n",
      "\t Workflow vbm_segment_1_T2_H482_AA011 settings: ['check', 'execution', 'logging', 'monitoring']\n",
      "240701-18:18:38,228 nipype.workflow INFO:\n",
      "\t Running serially.\n",
      "240701-18:18:38,230 nipype.workflow INFO:\n",
      "\t [Node] Setting-up \"vbm_segment_1_T2_H482_AA011.segment_T2_H482_AA011_1\" in \"/home/sharapova/vbm_pipline/data/3_segmentations/1_segment/vbm_segment_1_T2_H482_AA011/segment_T2_H482_AA011_1\".\n",
      "240701-18:18:38,238 nipype.workflow INFO:\n",
      "\t [Node] Executing \"segment_T2_H482_AA011_1\" <nipype.interfaces.spm.preprocess.NewSegment>\n"
     ]
    },
    {
     "name": "stdout",
     "output_type": "stream",
     "text": [
      "240701-18:19:32,825 nipype.workflow INFO:\n",
      "\t [Node] Finished \"segment_T2_H482_AA011_1\", elapsed time 54.584337s.\n",
      "240701-18:19:32,829 nipype.workflow INFO:\n",
      "\t [Node] Setting-up \"vbm_segment_1_T2_H482_AA011.data_sink_T2_H482_AA011_1\" in \"/home/sharapova/vbm_pipline/data/3_segmentations/1_segment/vbm_segment_1_T2_H482_AA011/data_sink_T2_H482_AA011_1\".\n",
      "240701-18:19:32,833 nipype.workflow INFO:\n",
      "\t [Node] Executing \"data_sink_T2_H482_AA011_1\" <nipype.interfaces.io.DataSink>\n",
      "240701-18:19:32,839 nipype.workflow INFO:\n",
      "\t [Node] Finished \"data_sink_T2_H482_AA011_1\", elapsed time 0.002127s.\n"
     ]
    },
    {
     "name": "stderr",
     "output_type": "stream",
     "text": [
      "stty: 'standard input': Inappropriate ioctl for device\n"
     ]
    },
    {
     "name": "stdout",
     "output_type": "stream",
     "text": [
      "240701-18:19:33,592 nipype.workflow INFO:\n",
      "\t Workflow vbm_segment_2_masked_T2_H482_AA011 settings: ['check', 'execution', 'logging', 'monitoring']\n",
      "240701-18:19:33,595 nipype.workflow INFO:\n",
      "\t Running serially.\n",
      "240701-18:19:33,595 nipype.workflow INFO:\n",
      "\t [Node] Setting-up \"vbm_segment_2_masked_T2_H482_AA011.segment_masked_T2_H482_AA011_2\" in \"/home/sharapova/vbm_pipline/data/3_segmentations/2_segment/vbm_segment_2_masked_T2_H482_AA011/segment_masked_T2_H482_AA011_2\".\n",
      "240701-18:19:33,598 nipype.workflow INFO:\n",
      "\t [Node] Executing \"segment_masked_T2_H482_AA011_2\" <nipype.interfaces.spm.preprocess.NewSegment>\n",
      "240701-18:20:16,586 nipype.workflow INFO:\n",
      "\t [Node] Finished \"segment_masked_T2_H482_AA011_2\", elapsed time 42.987205s.\n",
      "240701-18:20:16,589 nipype.workflow INFO:\n",
      "\t [Node] Setting-up \"vbm_segment_2_masked_T2_H482_AA011.data_sink_masked_T2_H482_AA011_2\" in \"/home/sharapova/vbm_pipline/data/3_segmentations/2_segment/vbm_segment_2_masked_T2_H482_AA011/data_sink_masked_T2_H482_AA011_2\".\n",
      "240701-18:20:16,593 nipype.workflow INFO:\n",
      "\t [Node] Executing \"data_sink_masked_T2_H482_AA011_2\" <nipype.interfaces.io.DataSink>\n",
      "240701-18:20:16,597 nipype.workflow INFO:\n",
      "\t [Node] Finished \"data_sink_masked_T2_H482_AA011_2\", elapsed time 0.001688s.\n"
     ]
    },
    {
     "name": "stderr",
     "output_type": "stream",
     "text": [
      "stty: 'standard input': Inappropriate ioctl for device\n"
     ]
    },
    {
     "ename": "FileNotFoundError",
     "evalue": "No such file or no access: 'data/3_segmentations/2_segment/native_class_images/c1T2_H482_AA011.nii'",
     "output_type": "error",
     "traceback": [
      "\u001b[0;31m---------------------------------------------------------------------------\u001b[0m",
      "\u001b[0;31mFileNotFoundError\u001b[0m                         Traceback (most recent call last)",
      "File \u001b[0;32m~/fsl/lib/python3.11/site-packages/nibabel/loadsave.py:100\u001b[0m, in \u001b[0;36mload\u001b[0;34m(filename, **kwargs)\u001b[0m\n\u001b[1;32m     99\u001b[0m \u001b[38;5;28;01mtry\u001b[39;00m:\n\u001b[0;32m--> 100\u001b[0m     stat_result \u001b[38;5;241m=\u001b[39m os\u001b[38;5;241m.\u001b[39mstat(filename)\n\u001b[1;32m    101\u001b[0m \u001b[38;5;28;01mexcept\u001b[39;00m \u001b[38;5;167;01mOSError\u001b[39;00m:\n",
      "\u001b[0;31mFileNotFoundError\u001b[0m: [Errno 2] No such file or directory: 'data/3_segmentations/2_segment/native_class_images/c1T2_H482_AA011.nii'",
      "\nDuring handling of the above exception, another exception occurred:\n",
      "\u001b[0;31mFileNotFoundError\u001b[0m                         Traceback (most recent call last)",
      "Cell \u001b[0;32mIn[23], line 16\u001b[0m\n\u001b[1;32m     14\u001b[0m tpm_path \u001b[38;5;241m=\u001b[39m \u001b[38;5;124m'\u001b[39m\u001b[38;5;124mdata/TPM\u001b[39m\u001b[38;5;124m'\u001b[39m\n\u001b[1;32m     15\u001b[0m output_folder \u001b[38;5;241m=\u001b[39m \u001b[38;5;124m'\u001b[39m\u001b[38;5;124mdata/3_segmentations/\u001b[39m\u001b[38;5;124m'\u001b[39m\n\u001b[0;32m---> 16\u001b[0m \u001b[43mrun_segmentation_and_masking\u001b[49m\u001b[43m(\u001b[49m\u001b[43minput_folder\u001b[49m\u001b[43m,\u001b[49m\u001b[43m \u001b[49m\u001b[43mtpm_path\u001b[49m\u001b[43m,\u001b[49m\u001b[43m \u001b[49m\u001b[43moutput_folder\u001b[49m\u001b[43m)\u001b[49m\n",
      "Cell \u001b[0;32mIn[23], line 9\u001b[0m, in \u001b[0;36mrun_segmentation_and_masking\u001b[0;34m(input_folder, tpm_path, output_folder)\u001b[0m\n\u001b[1;32m      7\u001b[0m segmentation_output \u001b[38;5;241m=\u001b[39m segment_brain_images(input_file, tpm_path, output_folder, iteration)\n\u001b[1;32m      8\u001b[0m segmentation_dir \u001b[38;5;241m=\u001b[39m os\u001b[38;5;241m.\u001b[39mpath\u001b[38;5;241m.\u001b[39mjoin(output_folder, \u001b[38;5;124mf\u001b[39m\u001b[38;5;124m'\u001b[39m\u001b[38;5;132;01m{\u001b[39;00miteration\u001b[38;5;132;01m}\u001b[39;00m\u001b[38;5;124m_segment\u001b[39m\u001b[38;5;124m'\u001b[39m)\n\u001b[0;32m----> 9\u001b[0m mask_output \u001b[38;5;241m=\u001b[39m \u001b[43mmask_brain_images\u001b[49m\u001b[43m(\u001b[49m\u001b[43msegmentation_dir\u001b[49m\u001b[43m,\u001b[49m\u001b[43m \u001b[49m\u001b[43moutput_folder\u001b[49m\u001b[43m,\u001b[49m\u001b[43m \u001b[49m\u001b[43msubject_id\u001b[49m\u001b[43m,\u001b[49m\u001b[43m \u001b[49m\u001b[43miteration\u001b[49m\u001b[43m)\u001b[49m\n\u001b[1;32m     10\u001b[0m input_file \u001b[38;5;241m=\u001b[39m mask_output[\u001b[38;5;241m1\u001b[39m]\n",
      "File \u001b[0;32m~/vbm_pipline/modalities/brain_mask_1.py:15\u001b[0m, in \u001b[0;36mmask_brain_images\u001b[0;34m(segmentation_dir, output_dir, subject_id, iteration)\u001b[0m\n\u001b[1;32m     12\u001b[0m segment1_c3_path \u001b[38;5;241m=\u001b[39m os\u001b[38;5;241m.\u001b[39mpath\u001b[38;5;241m.\u001b[39mjoin(segmentation_dir, \u001b[38;5;124m'\u001b[39m\u001b[38;5;124mnative_class_images\u001b[39m\u001b[38;5;124m'\u001b[39m, \u001b[38;5;124mf\u001b[39m\u001b[38;5;124m'\u001b[39m\u001b[38;5;124mc3\u001b[39m\u001b[38;5;132;01m{\u001b[39;00msubject_id\u001b[38;5;132;01m}\u001b[39;00m\u001b[38;5;124m.nii\u001b[39m\u001b[38;5;124m'\u001b[39m)\n\u001b[1;32m     14\u001b[0m \u001b[38;5;66;03m# Load image data from NIfTI files\u001b[39;00m\n\u001b[0;32m---> 15\u001b[0m c1_nifti \u001b[38;5;241m=\u001b[39m \u001b[43mnb\u001b[49m\u001b[38;5;241;43m.\u001b[39;49m\u001b[43mload\u001b[49m\u001b[43m(\u001b[49m\u001b[43msegment1_c1_path\u001b[49m\u001b[43m)\u001b[49m\n\u001b[1;32m     16\u001b[0m c2_nifti \u001b[38;5;241m=\u001b[39m nb\u001b[38;5;241m.\u001b[39mload(segment1_c2_path)\n\u001b[1;32m     17\u001b[0m c3_nifti \u001b[38;5;241m=\u001b[39m nb\u001b[38;5;241m.\u001b[39mload(segment1_c3_path)\n",
      "File \u001b[0;32m~/fsl/lib/python3.11/site-packages/nibabel/loadsave.py:102\u001b[0m, in \u001b[0;36mload\u001b[0;34m(filename, **kwargs)\u001b[0m\n\u001b[1;32m    100\u001b[0m     stat_result \u001b[38;5;241m=\u001b[39m os\u001b[38;5;241m.\u001b[39mstat(filename)\n\u001b[1;32m    101\u001b[0m \u001b[38;5;28;01mexcept\u001b[39;00m \u001b[38;5;167;01mOSError\u001b[39;00m:\n\u001b[0;32m--> 102\u001b[0m     \u001b[38;5;28;01mraise\u001b[39;00m \u001b[38;5;167;01mFileNotFoundError\u001b[39;00m(\u001b[38;5;124mf\u001b[39m\u001b[38;5;124m\"\u001b[39m\u001b[38;5;124mNo such file or no access: \u001b[39m\u001b[38;5;124m'\u001b[39m\u001b[38;5;132;01m{\u001b[39;00mfilename\u001b[38;5;132;01m}\u001b[39;00m\u001b[38;5;124m'\u001b[39m\u001b[38;5;124m\"\u001b[39m)\n\u001b[1;32m    103\u001b[0m \u001b[38;5;28;01mif\u001b[39;00m stat_result\u001b[38;5;241m.\u001b[39mst_size \u001b[38;5;241m<\u001b[39m\u001b[38;5;241m=\u001b[39m \u001b[38;5;241m0\u001b[39m:\n\u001b[1;32m    104\u001b[0m     \u001b[38;5;28;01mraise\u001b[39;00m ImageFileError(\u001b[38;5;124mf\u001b[39m\u001b[38;5;124m\"\u001b[39m\u001b[38;5;124mEmpty file: \u001b[39m\u001b[38;5;124m'\u001b[39m\u001b[38;5;132;01m{\u001b[39;00mfilename\u001b[38;5;132;01m}\u001b[39;00m\u001b[38;5;124m'\u001b[39m\u001b[38;5;124m\"\u001b[39m)\n",
      "\u001b[0;31mFileNotFoundError\u001b[0m: No such file or no access: 'data/3_segmentations/2_segment/native_class_images/c1T2_H482_AA011.nii'"
     ]
    }
   ],
   "source": [
    "def run_segmentation_and_masking(input_folder: str, tpm_path: str, output_folder: str):\n",
    "    subject_ids = [os.path.basename(f).split('.')[0] for f in os.listdir(input_folder) if f.endswith('.nii')]\n",
    "\n",
    "    for subject_id in subject_ids:\n",
    "        input_file = os.path.join(input_folder, f'{subject_id}.nii')\n",
    "        for iteration in range(1, 4):\n",
    "            segmentation_output = segment_brain_images(input_file, tpm_path, output_folder, iteration)\n",
    "            segmentation_dir = os.path.join(output_folder, f'{iteration}_segment')\n",
    "            mask_output = mask_brain_images(segmentation_dir, output_folder, subject_id, iteration)\n",
    "            input_file = mask_output[1]  # Use the masked output as input for the next iteration\n",
    "\n",
    "# Example usage:\n",
    "input_folder = 'data/3_segmentations/AA011/'\n",
    "tpm_path = 'data/TPM'\n",
    "output_folder = 'data/3_segmentations/'\n",
    "run_segmentation_and_masking(input_folder, tpm_path, output_folder)\n"
   ]
  },
  {
   "cell_type": "code",
   "execution_count": 29,
   "metadata": {},
   "outputs": [
    {
     "name": "stdout",
     "output_type": "stream",
     "text": [
      "The autoreload extension is already loaded. To reload it, use:\n",
      "  %reload_ext autoreload\n"
     ]
    }
   ],
   "source": [
    "%load_ext autoreload\n",
    "%autoreload 2\n",
    "# from modalities.segmentation_1 import segment_brain_images\n",
    "# from modalities.brain_mask_1 import mask_brain_images\n",
    "from modalities.segment_masking import  segment_brain_images, mask_brain_images"
   ]
  },
  {
   "cell_type": "code",
   "execution_count": 25,
   "metadata": {},
   "outputs": [
    {
     "name": "stdout",
     "output_type": "stream",
     "text": [
      "240702-13:38:30,476 nipype.workflow INFO:\n",
      "\t Workflow vbm_segment_1_T2_H482_AA011 settings: ['check', 'execution', 'logging', 'monitoring']\n",
      "240702-13:38:30,490 nipype.workflow INFO:\n",
      "\t Running serially.\n",
      "240702-13:38:30,492 nipype.workflow INFO:\n",
      "\t [Node] Setting-up \"vbm_segment_1_T2_H482_AA011.segment_T2_H482_AA011_1\" in \"/home/sharapova/vbm_pipline/data/3_segmentations/1_segment/vbm_segment_1_T2_H482_AA011/segment_T2_H482_AA011_1\".\n",
      "240702-13:38:30,499 nipype.workflow INFO:\n",
      "\t [Node] Executing \"segment_T2_H482_AA011_1\" <nipype.interfaces.spm.preprocess.NewSegment>\n",
      "240702-13:39:24,175 nipype.workflow INFO:\n",
      "\t [Node] Finished \"segment_T2_H482_AA011_1\", elapsed time 53.674193s.\n",
      "240702-13:39:24,180 nipype.workflow INFO:\n",
      "\t [Node] Setting-up \"vbm_segment_1_T2_H482_AA011.data_sink_T2_H482_AA011_1\" in \"/home/sharapova/vbm_pipline/data/3_segmentations/1_segment/vbm_segment_1_T2_H482_AA011/data_sink_T2_H482_AA011_1\".\n",
      "240702-13:39:24,188 nipype.workflow INFO:\n",
      "\t [Node] Executing \"data_sink_T2_H482_AA011_1\" <nipype.interfaces.io.DataSink>\n",
      "240702-13:39:24,192 nipype.workflow INFO:\n",
      "\t [Node] Finished \"data_sink_T2_H482_AA011_1\", elapsed time 0.003055s.\n"
     ]
    },
    {
     "name": "stderr",
     "output_type": "stream",
     "text": [
      "stty: 'standard input': Inappropriate ioctl for device\n"
     ]
    },
    {
     "name": "stdout",
     "output_type": "stream",
     "text": [
      "240702-13:39:24,951 nipype.workflow INFO:\n",
      "\t Workflow vbm_segment_2_T2_H482_AA011 settings: ['check', 'execution', 'logging', 'monitoring']\n",
      "240702-13:39:24,955 nipype.workflow INFO:\n",
      "\t Running serially.\n",
      "240702-13:39:24,956 nipype.workflow INFO:\n",
      "\t [Node] Setting-up \"vbm_segment_2_T2_H482_AA011.segment_T2_H482_AA011_2\" in \"/home/sharapova/vbm_pipline/data/3_segmentations/2_segment/vbm_segment_2_T2_H482_AA011/segment_T2_H482_AA011_2\".\n",
      "240702-13:39:24,961 nipype.workflow INFO:\n",
      "\t [Node] Executing \"segment_T2_H482_AA011_2\" <nipype.interfaces.spm.preprocess.NewSegment>\n",
      "240702-13:40:03,789 nipype.workflow INFO:\n",
      "\t [Node] Finished \"segment_T2_H482_AA011_2\", elapsed time 38.826984s.\n",
      "240702-13:40:03,795 nipype.workflow INFO:\n",
      "\t [Node] Setting-up \"vbm_segment_2_T2_H482_AA011.data_sink_T2_H482_AA011_2\" in \"/home/sharapova/vbm_pipline/data/3_segmentations/2_segment/vbm_segment_2_T2_H482_AA011/data_sink_T2_H482_AA011_2\".\n",
      "240702-13:40:03,801 nipype.workflow INFO:\n",
      "\t [Node] Executing \"data_sink_T2_H482_AA011_2\" <nipype.interfaces.io.DataSink>\n",
      "240702-13:40:03,806 nipype.workflow INFO:\n",
      "\t [Node] Finished \"data_sink_T2_H482_AA011_2\", elapsed time 0.003179s.\n"
     ]
    },
    {
     "name": "stderr",
     "output_type": "stream",
     "text": [
      "stty: 'standard input': Inappropriate ioctl for device\n"
     ]
    },
    {
     "name": "stdout",
     "output_type": "stream",
     "text": [
      "240702-13:40:04,549 nipype.workflow INFO:\n",
      "\t Workflow vbm_segment_3_T2_H482_AA011 settings: ['check', 'execution', 'logging', 'monitoring']\n",
      "240702-13:40:04,553 nipype.workflow INFO:\n",
      "\t Running serially.\n",
      "240702-13:40:04,554 nipype.workflow INFO:\n",
      "\t [Node] Setting-up \"vbm_segment_3_T2_H482_AA011.segment_T2_H482_AA011_3\" in \"/home/sharapova/vbm_pipline/data/3_segmentations/3_segment/vbm_segment_3_T2_H482_AA011/segment_T2_H482_AA011_3\".\n",
      "240702-13:40:04,558 nipype.workflow INFO:\n",
      "\t [Node] Executing \"segment_T2_H482_AA011_3\" <nipype.interfaces.spm.preprocess.NewSegment>\n",
      "240702-13:40:41,972 nipype.workflow INFO:\n",
      "\t [Node] Finished \"segment_T2_H482_AA011_3\", elapsed time 37.412259s.\n",
      "240702-13:40:41,976 nipype.workflow INFO:\n",
      "\t [Node] Setting-up \"vbm_segment_3_T2_H482_AA011.data_sink_T2_H482_AA011_3\" in \"/home/sharapova/vbm_pipline/data/3_segmentations/3_segment/vbm_segment_3_T2_H482_AA011/data_sink_T2_H482_AA011_3\".\n",
      "240702-13:40:41,982 nipype.workflow INFO:\n",
      "\t [Node] Executing \"data_sink_T2_H482_AA011_3\" <nipype.interfaces.io.DataSink>\n",
      "240702-13:40:41,987 nipype.workflow INFO:\n",
      "\t [Node] Finished \"data_sink_T2_H482_AA011_3\", elapsed time 0.002726s.\n"
     ]
    },
    {
     "name": "stderr",
     "output_type": "stream",
     "text": [
      "stty: 'standard input': Inappropriate ioctl for device\n"
     ]
    }
   ],
   "source": [
    "# this logic is working but segmentation and masking ouside of the folder\n",
    "\n",
    "def run_segmentation_and_masking(input_folder: str, tpm_path: str, output_folder: str):\n",
    "    subject_ids = [os.path.basename(f).split('.')[0] for f in os.listdir(input_folder) if f.endswith('.nii')]\n",
    "\n",
    "    for subject_id in subject_ids:\n",
    "        input_file = os.path.join(input_folder, f'{subject_id}.nii')\n",
    "        for iteration in range(1, 4):\n",
    "            segmentation_output = segment_brain_images(input_file, tpm_path, output_folder, iteration)\n",
    "            if not segmentation_output:\n",
    "                print(f\"Segmentation failed for {input_file} in iteration {iteration}\")\n",
    "                break\n",
    "            mask_output = mask_brain_images(os.path.join(output_folder, f'{iteration}_segment'), output_folder, subject_id, iteration)\n",
    "            input_file = os.path.join(output_folder, f'{iteration}_mask', f'masked_{subject_id}.nii')\n",
    "            \n",
    "            # Rename the masked output to the original file name for the next iteration\n",
    "            next_input_file = os.path.join(output_folder, f'{iteration}_mask', f'{subject_id}.nii')\n",
    "            os.rename(input_file, next_input_file)\n",
    "            input_file = next_input_file\n",
    "\n",
    "# Example usage:\n",
    "input_folder = 'data/3_segmentations/AA011/'\n",
    "tpm_path = 'data/TPM'\n",
    "output_folder = 'data/3_segmentations/'\n",
    "run_segmentation_and_masking(input_folder, tpm_path, output_folder)"
   ]
  },
  {
   "cell_type": "code",
   "execution_count": 26,
   "metadata": {},
   "outputs": [
    {
     "name": "stdout",
     "output_type": "stream",
     "text": [
      "240702-13:51:00,216 nipype.workflow INFO:\n",
      "\t Workflow vbm_segment_1_T2_H482_AA011 settings: ['check', 'execution', 'logging', 'monitoring']\n",
      "240702-13:51:00,223 nipype.workflow INFO:\n",
      "\t Running serially.\n",
      "240702-13:51:00,223 nipype.workflow INFO:\n",
      "\t [Node] Setting-up \"vbm_segment_1_T2_H482_AA011.segment_T2_H482_AA011_1\" in \"/home/sharapova/vbm_pipline/data/3_segmentations/T2_H482_AA011/1_segment/vbm_segment_1_T2_H482_AA011/segment_T2_H482_AA011_1\".\n",
      "240702-13:51:00,227 nipype.workflow INFO:\n",
      "\t [Node] Executing \"segment_T2_H482_AA011_1\" <nipype.interfaces.spm.preprocess.NewSegment>\n",
      "240702-13:51:52,818 nipype.workflow INFO:\n",
      "\t [Node] Finished \"segment_T2_H482_AA011_1\", elapsed time 52.589996s.\n",
      "240702-13:51:52,822 nipype.workflow INFO:\n",
      "\t [Node] Setting-up \"vbm_segment_1_T2_H482_AA011.data_sink_T2_H482_AA011_1\" in \"/home/sharapova/vbm_pipline/data/3_segmentations/T2_H482_AA011/1_segment/vbm_segment_1_T2_H482_AA011/data_sink_T2_H482_AA011_1\".\n",
      "240702-13:51:52,828 nipype.workflow INFO:\n",
      "\t [Node] Executing \"data_sink_T2_H482_AA011_1\" <nipype.interfaces.io.DataSink>\n",
      "240702-13:51:52,832 nipype.workflow INFO:\n",
      "\t [Node] Finished \"data_sink_T2_H482_AA011_1\", elapsed time 0.003413s.\n"
     ]
    },
    {
     "name": "stderr",
     "output_type": "stream",
     "text": [
      "stty: 'standard input': Inappropriate ioctl for device\n"
     ]
    },
    {
     "name": "stdout",
     "output_type": "stream",
     "text": [
      "240702-13:51:53,651 nipype.workflow INFO:\n",
      "\t Workflow vbm_segment_2_T2_H482_AA011 settings: ['check', 'execution', 'logging', 'monitoring']\n",
      "240702-13:51:53,656 nipype.workflow INFO:\n",
      "\t Running serially.\n",
      "240702-13:51:53,657 nipype.workflow INFO:\n",
      "\t [Node] Setting-up \"vbm_segment_2_T2_H482_AA011.segment_T2_H482_AA011_2\" in \"/home/sharapova/vbm_pipline/data/3_segmentations/T2_H482_AA011/2_segment/vbm_segment_2_T2_H482_AA011/segment_T2_H482_AA011_2\".\n",
      "240702-13:51:53,661 nipype.workflow INFO:\n",
      "\t [Node] Executing \"segment_T2_H482_AA011_2\" <nipype.interfaces.spm.preprocess.NewSegment>\n",
      "240702-13:52:32,85 nipype.workflow INFO:\n",
      "\t [Node] Finished \"segment_T2_H482_AA011_2\", elapsed time 38.422168s.\n",
      "240702-13:52:32,88 nipype.workflow INFO:\n",
      "\t [Node] Setting-up \"vbm_segment_2_T2_H482_AA011.data_sink_T2_H482_AA011_2\" in \"/home/sharapova/vbm_pipline/data/3_segmentations/T2_H482_AA011/2_segment/vbm_segment_2_T2_H482_AA011/data_sink_T2_H482_AA011_2\".\n",
      "240702-13:52:32,91 nipype.workflow INFO:\n",
      "\t [Node] Executing \"data_sink_T2_H482_AA011_2\" <nipype.interfaces.io.DataSink>\n",
      "240702-13:52:32,94 nipype.workflow INFO:\n",
      "\t [Node] Finished \"data_sink_T2_H482_AA011_2\", elapsed time 0.001787s.\n"
     ]
    },
    {
     "name": "stderr",
     "output_type": "stream",
     "text": [
      "stty: 'standard input': Inappropriate ioctl for device\n"
     ]
    },
    {
     "name": "stdout",
     "output_type": "stream",
     "text": [
      "240702-13:52:32,811 nipype.workflow INFO:\n",
      "\t Workflow vbm_segment_3_T2_H482_AA011 settings: ['check', 'execution', 'logging', 'monitoring']\n",
      "240702-13:52:32,814 nipype.workflow INFO:\n",
      "\t Running serially.\n",
      "240702-13:52:32,815 nipype.workflow INFO:\n",
      "\t [Node] Setting-up \"vbm_segment_3_T2_H482_AA011.segment_T2_H482_AA011_3\" in \"/home/sharapova/vbm_pipline/data/3_segmentations/T2_H482_AA011/3_segment/vbm_segment_3_T2_H482_AA011/segment_T2_H482_AA011_3\".\n",
      "240702-13:52:32,819 nipype.workflow INFO:\n",
      "\t [Node] Executing \"segment_T2_H482_AA011_3\" <nipype.interfaces.spm.preprocess.NewSegment>\n",
      "240702-13:53:11,862 nipype.workflow INFO:\n",
      "\t [Node] Finished \"segment_T2_H482_AA011_3\", elapsed time 39.041642s.\n",
      "240702-13:53:11,866 nipype.workflow INFO:\n",
      "\t [Node] Setting-up \"vbm_segment_3_T2_H482_AA011.data_sink_T2_H482_AA011_3\" in \"/home/sharapova/vbm_pipline/data/3_segmentations/T2_H482_AA011/3_segment/vbm_segment_3_T2_H482_AA011/data_sink_T2_H482_AA011_3\".\n",
      "240702-13:53:11,870 nipype.workflow INFO:\n",
      "\t [Node] Executing \"data_sink_T2_H482_AA011_3\" <nipype.interfaces.io.DataSink>\n",
      "240702-13:53:11,873 nipype.workflow INFO:\n",
      "\t [Node] Finished \"data_sink_T2_H482_AA011_3\", elapsed time 0.001722s.\n"
     ]
    },
    {
     "name": "stderr",
     "output_type": "stream",
     "text": [
      "stty: 'standard input': Inappropriate ioctl for device\n"
     ]
    }
   ],
   "source": [
    "# working but not ideal data stucture\n",
    "\n",
    "def run_segmentation_and_masking(input_folder: str, tpm_path: str, output_folder: str):\n",
    "    subject_ids = [os.path.basename(f).split('.')[0] for f in os.listdir(input_folder) if f.endswith('.nii')]\n",
    "\n",
    "    for subject_id in subject_ids:\n",
    "        input_file = os.path.join(input_folder, f'{subject_id}.nii')\n",
    "        for iteration in range(1, 4):\n",
    "            segmentation_output = segment_brain_images(input_file, tpm_path, output_folder, iteration)\n",
    "            if not segmentation_output:\n",
    "                print(f\"Segmentation failed for {input_file} in iteration {iteration}\")\n",
    "                break\n",
    "            mask_output = mask_brain_images(os.path.join(output_folder, subject_id, f'{iteration}_segment'), output_folder, subject_id, iteration)\n",
    "            input_file = os.path.join(output_folder, subject_id, f'{iteration}_mask', f'masked_{subject_id}.nii')\n",
    "            \n",
    "            # Rename the masked output to the original file name for the next iteration\n",
    "            next_input_file = os.path.join(output_folder, subject_id, f'{iteration}_mask', f'{subject_id}.nii')\n",
    "            os.rename(input_file, next_input_file)\n",
    "            input_file = next_input_file\n",
    "\n",
    "# Example usage:\n",
    "input_folder = 'data/3_segmentations/AA011/'\n",
    "tpm_path = 'data/TPM'\n",
    "output_folder = 'data/3_segmentations/'\n",
    "run_segmentation_and_masking(input_folder, tpm_path, output_folder)"
   ]
  },
  {
   "cell_type": "code",
   "execution_count": 33,
   "metadata": {},
   "outputs": [
    {
     "name": "stdout",
     "output_type": "stream",
     "text": [
      "240702-14:01:45,660 nipype.workflow INFO:\n",
      "\t Workflow vbm_segment_1_T2_H482_AA011 settings: ['check', 'execution', 'logging', 'monitoring']\n",
      "240702-14:01:45,667 nipype.workflow INFO:\n",
      "\t Running serially.\n",
      "240702-14:01:45,668 nipype.workflow INFO:\n",
      "\t [Node] Setting-up \"vbm_segment_1_T2_H482_AA011.segment_T2_H482_AA011_1\" in \"/home/sharapova/vbm_pipline/data/segmentation_test_3_times/AA011/T2_H482_AA011/1_segment/vbm_segment_1_T2_H482_AA011/segment_T2_H482_AA011_1\".\n",
      "240702-14:01:45,672 nipype.workflow INFO:\n",
      "\t [Node] Executing \"segment_T2_H482_AA011_1\" <nipype.interfaces.spm.preprocess.NewSegment>\n",
      "240702-14:02:35,513 nipype.workflow INFO:\n",
      "\t [Node] Finished \"segment_T2_H482_AA011_1\", elapsed time 49.838166s.\n",
      "240702-14:02:35,516 nipype.workflow INFO:\n",
      "\t [Node] Setting-up \"vbm_segment_1_T2_H482_AA011.data_sink_T2_H482_AA011_1\" in \"/home/sharapova/vbm_pipline/data/segmentation_test_3_times/AA011/T2_H482_AA011/1_segment/vbm_segment_1_T2_H482_AA011/data_sink_T2_H482_AA011_1\".\n",
      "240702-14:02:35,523 nipype.workflow INFO:\n",
      "\t [Node] Executing \"data_sink_T2_H482_AA011_1\" <nipype.interfaces.io.DataSink>\n",
      "240702-14:02:35,527 nipype.workflow INFO:\n",
      "\t [Node] Finished \"data_sink_T2_H482_AA011_1\", elapsed time 0.001664s.\n"
     ]
    },
    {
     "name": "stderr",
     "output_type": "stream",
     "text": [
      "stty: 'standard input': Inappropriate ioctl for device\n"
     ]
    },
    {
     "name": "stdout",
     "output_type": "stream",
     "text": [
      "240702-14:02:36,328 nipype.workflow INFO:\n",
      "\t Workflow vbm_segment_2_T2_H482_AA011 settings: ['check', 'execution', 'logging', 'monitoring']\n",
      "240702-14:02:36,333 nipype.workflow INFO:\n",
      "\t Running serially.\n",
      "240702-14:02:36,334 nipype.workflow INFO:\n",
      "\t [Node] Setting-up \"vbm_segment_2_T2_H482_AA011.segment_T2_H482_AA011_2\" in \"/home/sharapova/vbm_pipline/data/segmentation_test_3_times/AA011/T2_H482_AA011/2_segment/vbm_segment_2_T2_H482_AA011/segment_T2_H482_AA011_2\".\n",
      "240702-14:02:36,338 nipype.workflow INFO:\n",
      "\t [Node] Executing \"segment_T2_H482_AA011_2\" <nipype.interfaces.spm.preprocess.NewSegment>\n",
      "240702-14:03:15,799 nipype.workflow INFO:\n",
      "\t [Node] Finished \"segment_T2_H482_AA011_2\", elapsed time 39.46006s.\n",
      "240702-14:03:15,803 nipype.workflow INFO:\n",
      "\t [Node] Setting-up \"vbm_segment_2_T2_H482_AA011.data_sink_T2_H482_AA011_2\" in \"/home/sharapova/vbm_pipline/data/segmentation_test_3_times/AA011/T2_H482_AA011/2_segment/vbm_segment_2_T2_H482_AA011/data_sink_T2_H482_AA011_2\".\n",
      "240702-14:03:15,808 nipype.workflow INFO:\n",
      "\t [Node] Executing \"data_sink_T2_H482_AA011_2\" <nipype.interfaces.io.DataSink>\n",
      "240702-14:03:15,811 nipype.workflow INFO:\n",
      "\t [Node] Finished \"data_sink_T2_H482_AA011_2\", elapsed time 0.00227s.\n"
     ]
    },
    {
     "name": "stderr",
     "output_type": "stream",
     "text": [
      "stty: 'standard input': Inappropriate ioctl for device\n"
     ]
    },
    {
     "name": "stdout",
     "output_type": "stream",
     "text": [
      "240702-14:03:16,578 nipype.workflow INFO:\n",
      "\t Workflow vbm_segment_3_T2_H482_AA011 settings: ['check', 'execution', 'logging', 'monitoring']\n",
      "240702-14:03:16,582 nipype.workflow INFO:\n",
      "\t Running serially.\n",
      "240702-14:03:16,583 nipype.workflow INFO:\n",
      "\t [Node] Setting-up \"vbm_segment_3_T2_H482_AA011.segment_T2_H482_AA011_3\" in \"/home/sharapova/vbm_pipline/data/segmentation_test_3_times/AA011/T2_H482_AA011/3_segment/vbm_segment_3_T2_H482_AA011/segment_T2_H482_AA011_3\".\n",
      "240702-14:03:16,586 nipype.workflow INFO:\n",
      "\t [Node] Executing \"segment_T2_H482_AA011_3\" <nipype.interfaces.spm.preprocess.NewSegment>\n",
      "240702-14:03:51,660 nipype.workflow INFO:\n",
      "\t [Node] Finished \"segment_T2_H482_AA011_3\", elapsed time 35.072782s.\n",
      "240702-14:03:51,663 nipype.workflow INFO:\n",
      "\t [Node] Setting-up \"vbm_segment_3_T2_H482_AA011.data_sink_T2_H482_AA011_3\" in \"/home/sharapova/vbm_pipline/data/segmentation_test_3_times/AA011/T2_H482_AA011/3_segment/vbm_segment_3_T2_H482_AA011/data_sink_T2_H482_AA011_3\".\n",
      "240702-14:03:51,670 nipype.workflow INFO:\n",
      "\t [Node] Executing \"data_sink_T2_H482_AA011_3\" <nipype.interfaces.io.DataSink>\n",
      "240702-14:03:51,673 nipype.workflow INFO:\n",
      "\t [Node] Finished \"data_sink_T2_H482_AA011_3\", elapsed time 0.001566s.\n"
     ]
    },
    {
     "name": "stderr",
     "output_type": "stream",
     "text": [
      "stty: 'standard input': Inappropriate ioctl for device\n"
     ]
    }
   ],
   "source": [
    "# working but on single subject in directory\n",
    "# from modalities.segment_masking import  segment_brain_images, mask_brain_images\n",
    "\n",
    "# def run_segmentation_and_masking(input_folder: str, tpm_path: str, output_folder: str):\n",
    "#     subject_ids = [os.path.basename(f).split('.')[0] for f in os.listdir(input_folder) if f.endswith('.nii')]\n",
    "\n",
    "#     for subject_id in subject_ids:\n",
    "#         input_file = os.path.join(input_folder, f'{subject_id}.nii')\n",
    "#         for iteration in range(1, 4):\n",
    "#             segmentation_output = segment_brain_images(input_file, tpm_path, output_folder, iteration, subject_id)\n",
    "#             if not segmentation_output:\n",
    "#                 print(f\"Segmentation failed for {input_file} in iteration {iteration}\")\n",
    "#                 break\n",
    "#             mask_output = mask_brain_images(os.path.join(output_folder, subject_id, f'{iteration}_segment'), output_folder, subject_id, iteration)\n",
    "#             input_file = os.path.join(output_folder, subject_id, f'{iteration}_mask', f'masked_{subject_id}.nii')\n",
    "            \n",
    "#             # Rename the masked output to the original file name for the next iteration\n",
    "#             next_input_file = os.path.join(output_folder, subject_id, f'{iteration}_mask', f'{subject_id}.nii')\n",
    "#             os.rename(input_file, next_input_file)\n",
    "#             input_file = next_input_file\n",
    "\n",
    "# # Example usage:\n",
    "# input_folder = 'data/segmentation_test_3_times/AA011/'\n",
    "# tpm_path = 'data/TPM'\n",
    "# output_folder = 'data/segmentation_test_3_times/AA011/'\n",
    "# run_segmentation_and_masking(input_folder, tpm_path, output_folder)"
   ]
  },
  {
   "cell_type": "code",
   "execution_count": 2,
   "metadata": {},
   "outputs": [],
   "source": [
    "import os\n",
    "from modalities.segment_masking import  segment_brain_images, mask_brain_images"
   ]
  },
  {
   "cell_type": "code",
   "execution_count": 3,
   "metadata": {},
   "outputs": [
    {
     "name": "stdout",
     "output_type": "stream",
     "text": [
      "['data/test_matlab/AA013/T2_H483_AA013.nii']\n"
     ]
    },
    {
     "name": "stderr",
     "output_type": "stream",
     "text": [
      "stty: 'standard input': Inappropriate ioctl for device\n"
     ]
    },
    {
     "name": "stdout",
     "output_type": "stream",
     "text": [
      "240705-15:15:58,31 nipype.workflow INFO:\n",
      "\t Workflow vbm_segment_1_T2_H483_AA013 settings: ['check', 'execution', 'logging', 'monitoring']\n",
      "240705-15:15:58,38 nipype.workflow INFO:\n",
      "\t Running serially.\n",
      "240705-15:15:58,38 nipype.workflow INFO:\n",
      "\t [Node] Setting-up \"vbm_segment_1_T2_H483_AA013.segment_T2_H483_AA013_1\" in \"/home/sharapova/vbm_pipline/data/test_matlab/AA013/1_segment/vbm_segment_1_T2_H483_AA013/segment_T2_H483_AA013_1\".\n",
      "240705-15:15:58,41 nipype.workflow INFO:\n",
      "\t [Node] Executing \"segment_T2_H483_AA013_1\" <nipype.interfaces.spm.preprocess.NewSegment>\n",
      "240705-15:16:39,405 nipype.workflow INFO:\n",
      "\t [Node] Finished \"segment_T2_H483_AA013_1\", elapsed time 41.362959s.\n",
      "240705-15:16:39,413 nipype.workflow INFO:\n",
      "\t [Node] Setting-up \"vbm_segment_1_T2_H483_AA013.data_sink_T2_H483_AA013_1\" in \"/home/sharapova/vbm_pipline/data/test_matlab/AA013/1_segment/vbm_segment_1_T2_H483_AA013/data_sink_T2_H483_AA013_1\".\n",
      "240705-15:16:39,420 nipype.workflow INFO:\n",
      "\t [Node] Executing \"data_sink_T2_H483_AA013_1\" <nipype.interfaces.io.DataSink>\n",
      "240705-15:16:39,427 nipype.workflow INFO:\n",
      "\t [Node] Finished \"data_sink_T2_H483_AA013_1\", elapsed time 0.004725s.\n"
     ]
    },
    {
     "name": "stderr",
     "output_type": "stream",
     "text": [
      "stty: 'standard input': Inappropriate ioctl for device\n"
     ]
    },
    {
     "name": "stdout",
     "output_type": "stream",
     "text": [
      "240705-15:16:40,80 nipype.workflow INFO:\n",
      "\t Workflow vbm_segment_2_T2_H483_AA013 settings: ['check', 'execution', 'logging', 'monitoring']\n",
      "240705-15:16:40,85 nipype.workflow INFO:\n",
      "\t Running serially.\n",
      "240705-15:16:40,86 nipype.workflow INFO:\n",
      "\t [Node] Setting-up \"vbm_segment_2_T2_H483_AA013.segment_T2_H483_AA013_2\" in \"/home/sharapova/vbm_pipline/data/test_matlab/AA013/1_mask/2_segment/vbm_segment_2_T2_H483_AA013/segment_T2_H483_AA013_2\".\n",
      "240705-15:16:40,95 nipype.workflow INFO:\n",
      "\t [Node] Executing \"segment_T2_H483_AA013_2\" <nipype.interfaces.spm.preprocess.NewSegment>\n",
      "240705-15:17:07,233 nipype.workflow INFO:\n",
      "\t [Node] Finished \"segment_T2_H483_AA013_2\", elapsed time 27.13354s.\n",
      "240705-15:17:07,233 nipype.workflow WARNING:\n",
      "\t Storing result file without outputs\n",
      "240705-15:17:07,235 nipype.workflow WARNING:\n",
      "\t [Node] Error on \"vbm_segment_2_T2_H483_AA013.segment_T2_H483_AA013_2\" (/home/sharapova/vbm_pipline/data/test_matlab/AA013/1_mask/2_segment/vbm_segment_2_T2_H483_AA013/segment_T2_H483_AA013_2)\n",
      "240705-15:17:07,238 nipype.workflow ERROR:\n",
      "\t Node segment_T2_H483_AA013_2 failed to run on host mri.\n",
      "240705-15:17:07,239 nipype.workflow ERROR:\n",
      "\t Saving crash info to /home/sharapova/vbm_pipline/crash-20240705-151707-sharapova-segment_T2_H483_AA013_2-4ce52a29-9f7c-48ea-9a9a-2d1cd9786379.pklz\n",
      "Traceback (most recent call last):\n",
      "  File \"/home/sharapova/fsl/lib/python3.11/site-packages/nipype/pipeline/plugins/linear.py\", line 47, in run\n",
      "    node.run(updatehash=updatehash)\n",
      "  File \"/home/sharapova/fsl/lib/python3.11/site-packages/nipype/pipeline/engine/nodes.py\", line 527, in run\n",
      "    result = self._run_interface(execute=True)\n",
      "             ^^^^^^^^^^^^^^^^^^^^^^^^^^^^^^^^^\n",
      "  File \"/home/sharapova/fsl/lib/python3.11/site-packages/nipype/pipeline/engine/nodes.py\", line 645, in _run_interface\n",
      "    return self._run_command(execute)\n",
      "           ^^^^^^^^^^^^^^^^^^^^^^^^^^\n",
      "  File \"/home/sharapova/fsl/lib/python3.11/site-packages/nipype/pipeline/engine/nodes.py\", line 771, in _run_command\n",
      "    raise NodeExecutionError(msg)\n",
      "nipype.pipeline.engine.nodes.NodeExecutionError: Exception raised while executing Node segment_T2_H483_AA013_2.\n",
      "\n",
      "Traceback:\n",
      "\tTraceback (most recent call last):\n",
      "\t  File \"/home/sharapova/fsl/lib/python3.11/site-packages/nipype/interfaces/base/core.py\", line 397, in run\n",
      "\t    runtime = self._run_interface(runtime)\n",
      "\t              ^^^^^^^^^^^^^^^^^^^^^^^^^^^^\n",
      "\t  File \"/home/sharapova/fsl/lib/python3.11/site-packages/nipype/interfaces/spm/base.py\", line 386, in _run_interface\n",
      "\t    results = self.mlab.run()\n",
      "\t              ^^^^^^^^^^^^^^^\n",
      "\t  File \"/home/sharapova/fsl/lib/python3.11/site-packages/nipype/interfaces/base/core.py\", line 397, in run\n",
      "\t    runtime = self._run_interface(runtime)\n",
      "\t              ^^^^^^^^^^^^^^^^^^^^^^^^^^^^\n",
      "\t  File \"/home/sharapova/fsl/lib/python3.11/site-packages/nipype/interfaces/matlab.py\", line 156, in _run_interface\n",
      "\t    runtime = super(MatlabCommand, self)._run_interface(runtime)\n",
      "\t              ^^^^^^^^^^^^^^^^^^^^^^^^^^^^^^^^^^^^^^^^^^^^^^^^^^\n",
      "\t  File \"/home/sharapova/fsl/lib/python3.11/site-packages/nipype/interfaces/base/core.py\", line 764, in _run_interface\n",
      "\t    runtime = run_command(\n",
      "\t              ^^^^^^^^^^^^\n",
      "\t  File \"/home/sharapova/fsl/lib/python3.11/site-packages/nipype/utils/subprocess.py\", line 177, in run_command\n",
      "\t    stdout, stderr = proc.communicate()\n",
      "\t                     ^^^^^^^^^^^^^^^^^^\n",
      "\t  File \"/home/sharapova/fsl/lib/python3.11/subprocess.py\", line 1209, in communicate\n",
      "\t    stdout, stderr = self._communicate(input, endtime, timeout)\n",
      "\t                     ^^^^^^^^^^^^^^^^^^^^^^^^^^^^^^^^^^^^^^^^^^\n",
      "\t  File \"/home/sharapova/fsl/lib/python3.11/subprocess.py\", line 2108, in _communicate\n",
      "\t    ready = selector.select(timeout)\n",
      "\t            ^^^^^^^^^^^^^^^^^^^^^^^^\n",
      "\t  File \"/home/sharapova/fsl/lib/python3.11/selectors.py\", line 415, in select\n",
      "\t    fd_event_list = self._selector.poll(timeout)\n",
      "\t                    ^^^^^^^^^^^^^^^^^^^^^^^^^^^^\n",
      "\tKeyboardInterrupt\n",
      "\n",
      "\n",
      "240705-15:17:07,240 nipype.workflow INFO:\n",
      "\t ***********************************\n",
      "240705-15:17:07,241 nipype.workflow ERROR:\n",
      "\t could not run node: vbm_segment_2_T2_H483_AA013.segment_T2_H483_AA013_2\n",
      "240705-15:17:07,241 nipype.workflow INFO:\n",
      "\t crashfile: /home/sharapova/vbm_pipline/crash-20240705-151707-sharapova-segment_T2_H483_AA013_2-4ce52a29-9f7c-48ea-9a9a-2d1cd9786379.pklz\n",
      "240705-15:17:07,242 nipype.workflow INFO:\n",
      "\t ***********************************\n",
      "Error running workflow for data/test_matlab/AA013/1_mask/T2_H483_AA013.nii: Exception raised while executing Node segment_T2_H483_AA013_2.\n",
      "\n",
      "Traceback:\n",
      "\tTraceback (most recent call last):\n",
      "\t  File \"/home/sharapova/fsl/lib/python3.11/site-packages/nipype/interfaces/base/core.py\", line 397, in run\n",
      "\t    runtime = self._run_interface(runtime)\n",
      "\t              ^^^^^^^^^^^^^^^^^^^^^^^^^^^^\n",
      "\t  File \"/home/sharapova/fsl/lib/python3.11/site-packages/nipype/interfaces/spm/base.py\", line 386, in _run_interface\n",
      "\t    results = self.mlab.run()\n",
      "\t              ^^^^^^^^^^^^^^^\n",
      "\t  File \"/home/sharapova/fsl/lib/python3.11/site-packages/nipype/interfaces/base/core.py\", line 397, in run\n",
      "\t    runtime = self._run_interface(runtime)\n",
      "\t              ^^^^^^^^^^^^^^^^^^^^^^^^^^^^\n",
      "\t  File \"/home/sharapova/fsl/lib/python3.11/site-packages/nipype/interfaces/matlab.py\", line 156, in _run_interface\n",
      "\t    runtime = super(MatlabCommand, self)._run_interface(runtime)\n",
      "\t              ^^^^^^^^^^^^^^^^^^^^^^^^^^^^^^^^^^^^^^^^^^^^^^^^^^\n",
      "\t  File \"/home/sharapova/fsl/lib/python3.11/site-packages/nipype/interfaces/base/core.py\", line 764, in _run_interface\n",
      "\t    runtime = run_command(\n",
      "\t              ^^^^^^^^^^^^\n",
      "\t  File \"/home/sharapova/fsl/lib/python3.11/site-packages/nipype/utils/subprocess.py\", line 177, in run_command\n",
      "\t    stdout, stderr = proc.communicate()\n",
      "\t                     ^^^^^^^^^^^^^^^^^^\n",
      "\t  File \"/home/sharapova/fsl/lib/python3.11/subprocess.py\", line 1209, in communicate\n",
      "\t    stdout, stderr = self._communicate(input, endtime, timeout)\n",
      "\t                     ^^^^^^^^^^^^^^^^^^^^^^^^^^^^^^^^^^^^^^^^^^\n",
      "\t  File \"/home/sharapova/fsl/lib/python3.11/subprocess.py\", line 2108, in _communicate\n",
      "\t    ready = selector.select(timeout)\n",
      "\t            ^^^^^^^^^^^^^^^^^^^^^^^^\n",
      "\t  File \"/home/sharapova/fsl/lib/python3.11/selectors.py\", line 415, in select\n",
      "\t    fd_event_list = self._selector.poll(timeout)\n",
      "\t                    ^^^^^^^^^^^^^^^^^^^^^^^^^^^^\n",
      "\tKeyboardInterrupt\n",
      "\n",
      "Segmentation failed for data/test_matlab/AA013/1_mask/T2_H483_AA013.nii in iteration 2\n"
     ]
    }
   ],
   "source": [
    "from modalities.segment_masking import  segment_brain_images, mask_brain_images\n",
    "\n",
    "def run_segmentation_and_masking(input_folder: str, tpm_path: str):\n",
    "    # Search for .nii files within the subdirectories of input_folder\n",
    "    subject_ids = []\n",
    "    for root, _, files in os.walk(input_folder):\n",
    "        for file in files:\n",
    "            if file.endswith('.nii'):\n",
    "                subject_ids.append(os.path.join(root, file))\n",
    "    \n",
    "    print(subject_ids)  # To check the identified .nii files\n",
    "\n",
    "    for input_file in subject_ids:\n",
    "        subject_id = os.path.basename(input_file).split('.')[0]\n",
    "        subject_folder = os.path.dirname(input_file)\n",
    "        for iteration in range(1, 4):\n",
    "            segmentation_output = segment_brain_images(input_file, tpm_path, iteration, subject_id)\n",
    "            if not segmentation_output:\n",
    "                print(f\"Segmentation failed for {input_file} in iteration {iteration}\")\n",
    "                break\n",
    "            mask_output = mask_brain_images(os.path.join(subject_folder, f'{iteration}_segment'), subject_folder, subject_id, iteration)\n",
    "            input_file = os.path.join(subject_folder, f'{iteration}_mask', f'masked_{subject_id}.nii')\n",
    "            \n",
    "            # Rename the masked output to the original file name for the next iteration\n",
    "            next_input_file = os.path.join(subject_folder, f'{iteration}_mask', f'{subject_id}.nii')\n",
    "            os.rename(input_file, next_input_file)\n",
    "            input_file = next_input_file\n",
    "\n",
    "# Example usage:\n",
    "input_folder = 'data/test_matlab/'\n",
    "tpm_path = 'data/TPM'\n",
    "run_segmentation_and_masking(input_folder, tpm_path)"
   ]
  },
  {
   "cell_type": "code",
   "execution_count": 3,
   "metadata": {},
   "outputs": [],
   "source": [
    "import os\n",
    "from modalities.test_mask_segment import  segment_brain_images, mask_brain_images"
   ]
  },
  {
   "cell_type": "code",
   "execution_count": 4,
   "metadata": {},
   "outputs": [
    {
     "name": "stdout",
     "output_type": "stream",
     "text": [
      "['data/analysis/AA013/T2_H483_AA013.nii', 'data/analysis/SU003/T2_H473_SU003.nii', 'data/analysis/SU004/T2_H474_SU004.nii']\n",
      "240708-11:11:23,980 nipype.workflow INFO:\n",
      "\t Workflow vbm_segment_1_T2_H483_AA013 settings: ['check', 'execution', 'logging', 'monitoring']\n",
      "240708-11:11:23,984 nipype.workflow INFO:\n",
      "\t Running serially.\n",
      "240708-11:11:23,984 nipype.workflow INFO:\n",
      "\t [Node] Setting-up \"vbm_segment_1_T2_H483_AA013.segment_T2_H483_AA013_1\" in \"/home/sharapova/vbm_pipline/data/analysis/AA013/segmentation/1_segment/vbm_segment_1_T2_H483_AA013/segment_T2_H483_AA013_1\".\n",
      "240708-11:11:23,989 nipype.workflow INFO:\n",
      "\t [Node] Executing \"segment_T2_H483_AA013_1\" <nipype.interfaces.spm.preprocess.NewSegment>\n"
     ]
    },
    {
     "name": "stderr",
     "output_type": "stream",
     "text": [
      "stty: 'standard input': Inappropriate ioctl for device\n"
     ]
    },
    {
     "name": "stdout",
     "output_type": "stream",
     "text": [
      "240708-11:12:06,998 nipype.workflow INFO:\n",
      "\t [Node] Finished \"segment_T2_H483_AA013_1\", elapsed time 43.008156s.\n",
      "240708-11:12:07,5 nipype.workflow INFO:\n",
      "\t [Node] Setting-up \"vbm_segment_1_T2_H483_AA013.data_sink_T2_H483_AA013_1\" in \"/home/sharapova/vbm_pipline/data/analysis/AA013/segmentation/1_segment/vbm_segment_1_T2_H483_AA013/data_sink_T2_H483_AA013_1\".\n",
      "240708-11:12:07,12 nipype.workflow INFO:\n",
      "\t [Node] Executing \"data_sink_T2_H483_AA013_1\" <nipype.interfaces.io.DataSink>\n",
      "240708-11:12:07,18 nipype.workflow INFO:\n",
      "\t [Node] Finished \"data_sink_T2_H483_AA013_1\", elapsed time 0.003738s.\n"
     ]
    },
    {
     "name": "stderr",
     "output_type": "stream",
     "text": [
      "stty: 'standard input': Inappropriate ioctl for device\n"
     ]
    },
    {
     "name": "stdout",
     "output_type": "stream",
     "text": [
      "240708-11:12:07,727 nipype.workflow INFO:\n",
      "\t Workflow vbm_segment_2_T2_H483_AA013 settings: ['check', 'execution', 'logging', 'monitoring']\n",
      "240708-11:12:07,731 nipype.workflow INFO:\n",
      "\t Running serially.\n",
      "240708-11:12:07,731 nipype.workflow INFO:\n",
      "\t [Node] Setting-up \"vbm_segment_2_T2_H483_AA013.segment_T2_H483_AA013_2\" in \"/home/sharapova/vbm_pipline/data/analysis/AA013/segmentation/2_segment/vbm_segment_2_T2_H483_AA013/segment_T2_H483_AA013_2\".\n",
      "240708-11:12:07,734 nipype.workflow INFO:\n",
      "\t [Node] Executing \"segment_T2_H483_AA013_2\" <nipype.interfaces.spm.preprocess.NewSegment>\n",
      "240708-11:12:43,60 nipype.workflow INFO:\n",
      "\t [Node] Finished \"segment_T2_H483_AA013_2\", elapsed time 35.324432s.\n",
      "240708-11:12:43,64 nipype.workflow INFO:\n",
      "\t [Node] Setting-up \"vbm_segment_2_T2_H483_AA013.data_sink_T2_H483_AA013_2\" in \"/home/sharapova/vbm_pipline/data/analysis/AA013/segmentation/2_segment/vbm_segment_2_T2_H483_AA013/data_sink_T2_H483_AA013_2\".\n",
      "240708-11:12:43,69 nipype.workflow INFO:\n",
      "\t [Node] Executing \"data_sink_T2_H483_AA013_2\" <nipype.interfaces.io.DataSink>\n",
      "240708-11:12:43,72 nipype.workflow INFO:\n",
      "\t [Node] Finished \"data_sink_T2_H483_AA013_2\", elapsed time 0.001477s.\n"
     ]
    },
    {
     "name": "stderr",
     "output_type": "stream",
     "text": [
      "stty: 'standard input': Inappropriate ioctl for device\n"
     ]
    },
    {
     "name": "stdout",
     "output_type": "stream",
     "text": [
      "240708-11:12:43,676 nipype.workflow INFO:\n",
      "\t Workflow vbm_segment_3_T2_H483_AA013 settings: ['check', 'execution', 'logging', 'monitoring']\n",
      "240708-11:12:43,679 nipype.workflow INFO:\n",
      "\t Running serially.\n",
      "240708-11:12:43,679 nipype.workflow INFO:\n",
      "\t [Node] Setting-up \"vbm_segment_3_T2_H483_AA013.segment_T2_H483_AA013_3\" in \"/home/sharapova/vbm_pipline/data/analysis/AA013/segmentation/3_segment/vbm_segment_3_T2_H483_AA013/segment_T2_H483_AA013_3\".\n",
      "240708-11:12:43,683 nipype.workflow INFO:\n",
      "\t [Node] Executing \"segment_T2_H483_AA013_3\" <nipype.interfaces.spm.preprocess.NewSegment>\n",
      "240708-11:13:14,444 nipype.workflow INFO:\n",
      "\t [Node] Finished \"segment_T2_H483_AA013_3\", elapsed time 30.759444s.\n",
      "240708-11:13:14,447 nipype.workflow INFO:\n",
      "\t [Node] Setting-up \"vbm_segment_3_T2_H483_AA013.data_sink_T2_H483_AA013_3\" in \"/home/sharapova/vbm_pipline/data/analysis/AA013/segmentation/3_segment/vbm_segment_3_T2_H483_AA013/data_sink_T2_H483_AA013_3\".\n",
      "240708-11:13:14,451 nipype.workflow INFO:\n",
      "\t [Node] Executing \"data_sink_T2_H483_AA013_3\" <nipype.interfaces.io.DataSink>\n",
      "240708-11:13:14,454 nipype.workflow INFO:\n",
      "\t [Node] Finished \"data_sink_T2_H483_AA013_3\", elapsed time 0.001497s.\n"
     ]
    },
    {
     "name": "stderr",
     "output_type": "stream",
     "text": [
      "stty: 'standard input': Inappropriate ioctl for device\n"
     ]
    },
    {
     "name": "stdout",
     "output_type": "stream",
     "text": [
      "240708-11:13:15,123 nipype.workflow INFO:\n",
      "\t Workflow vbm_segment_1_T2_H473_SU003 settings: ['check', 'execution', 'logging', 'monitoring']\n",
      "240708-11:13:15,127 nipype.workflow INFO:\n",
      "\t Running serially.\n",
      "240708-11:13:15,127 nipype.workflow INFO:\n",
      "\t [Node] Setting-up \"vbm_segment_1_T2_H473_SU003.segment_T2_H473_SU003_1\" in \"/home/sharapova/vbm_pipline/data/analysis/SU003/segmentation/1_segment/vbm_segment_1_T2_H473_SU003/segment_T2_H473_SU003_1\".\n",
      "240708-11:13:15,131 nipype.workflow INFO:\n",
      "\t [Node] Executing \"segment_T2_H473_SU003_1\" <nipype.interfaces.spm.preprocess.NewSegment>\n",
      "240708-11:14:05,635 nipype.workflow INFO:\n",
      "\t [Node] Finished \"segment_T2_H473_SU003_1\", elapsed time 50.502892s.\n",
      "240708-11:14:05,638 nipype.workflow INFO:\n",
      "\t [Node] Setting-up \"vbm_segment_1_T2_H473_SU003.data_sink_T2_H473_SU003_1\" in \"/home/sharapova/vbm_pipline/data/analysis/SU003/segmentation/1_segment/vbm_segment_1_T2_H473_SU003/data_sink_T2_H473_SU003_1\".\n",
      "240708-11:14:05,641 nipype.workflow INFO:\n",
      "\t [Node] Executing \"data_sink_T2_H473_SU003_1\" <nipype.interfaces.io.DataSink>\n",
      "240708-11:14:05,644 nipype.workflow INFO:\n",
      "\t [Node] Finished \"data_sink_T2_H473_SU003_1\", elapsed time 0.00167s.\n"
     ]
    },
    {
     "name": "stderr",
     "output_type": "stream",
     "text": [
      "stty: 'standard input': Inappropriate ioctl for device\n"
     ]
    },
    {
     "name": "stdout",
     "output_type": "stream",
     "text": [
      "240708-11:14:06,257 nipype.workflow INFO:\n",
      "\t Workflow vbm_segment_2_T2_H473_SU003 settings: ['check', 'execution', 'logging', 'monitoring']\n",
      "240708-11:14:06,260 nipype.workflow INFO:\n",
      "\t Running serially.\n",
      "240708-11:14:06,260 nipype.workflow INFO:\n",
      "\t [Node] Setting-up \"vbm_segment_2_T2_H473_SU003.segment_T2_H473_SU003_2\" in \"/home/sharapova/vbm_pipline/data/analysis/SU003/segmentation/2_segment/vbm_segment_2_T2_H473_SU003/segment_T2_H473_SU003_2\".\n",
      "240708-11:14:06,262 nipype.workflow INFO:\n",
      "\t [Node] Executing \"segment_T2_H473_SU003_2\" <nipype.interfaces.spm.preprocess.NewSegment>\n",
      "240708-11:14:41,456 nipype.workflow INFO:\n",
      "\t [Node] Finished \"segment_T2_H473_SU003_2\", elapsed time 35.192841s.\n",
      "240708-11:14:41,459 nipype.workflow INFO:\n",
      "\t [Node] Setting-up \"vbm_segment_2_T2_H473_SU003.data_sink_T2_H473_SU003_2\" in \"/home/sharapova/vbm_pipline/data/analysis/SU003/segmentation/2_segment/vbm_segment_2_T2_H473_SU003/data_sink_T2_H473_SU003_2\".\n",
      "240708-11:14:41,463 nipype.workflow INFO:\n",
      "\t [Node] Executing \"data_sink_T2_H473_SU003_2\" <nipype.interfaces.io.DataSink>\n",
      "240708-11:14:41,465 nipype.workflow INFO:\n",
      "\t [Node] Finished \"data_sink_T2_H473_SU003_2\", elapsed time 0.00138s.\n"
     ]
    },
    {
     "name": "stderr",
     "output_type": "stream",
     "text": [
      "stty: 'standard input': Inappropriate ioctl for device\n"
     ]
    },
    {
     "name": "stdout",
     "output_type": "stream",
     "text": [
      "240708-11:14:42,32 nipype.workflow INFO:\n",
      "\t Workflow vbm_segment_3_T2_H473_SU003 settings: ['check', 'execution', 'logging', 'monitoring']\n",
      "240708-11:14:42,34 nipype.workflow INFO:\n",
      "\t Running serially.\n",
      "240708-11:14:42,35 nipype.workflow INFO:\n",
      "\t [Node] Setting-up \"vbm_segment_3_T2_H473_SU003.segment_T2_H473_SU003_3\" in \"/home/sharapova/vbm_pipline/data/analysis/SU003/segmentation/3_segment/vbm_segment_3_T2_H473_SU003/segment_T2_H473_SU003_3\".\n",
      "240708-11:14:42,37 nipype.workflow INFO:\n",
      "\t [Node] Executing \"segment_T2_H473_SU003_3\" <nipype.interfaces.spm.preprocess.NewSegment>\n",
      "240708-11:15:15,915 nipype.workflow INFO:\n",
      "\t [Node] Finished \"segment_T2_H473_SU003_3\", elapsed time 33.876434s.\n",
      "240708-11:15:15,918 nipype.workflow INFO:\n",
      "\t [Node] Setting-up \"vbm_segment_3_T2_H473_SU003.data_sink_T2_H473_SU003_3\" in \"/home/sharapova/vbm_pipline/data/analysis/SU003/segmentation/3_segment/vbm_segment_3_T2_H473_SU003/data_sink_T2_H473_SU003_3\".\n",
      "240708-11:15:15,923 nipype.workflow INFO:\n",
      "\t [Node] Executing \"data_sink_T2_H473_SU003_3\" <nipype.interfaces.io.DataSink>\n",
      "240708-11:15:15,926 nipype.workflow INFO:\n",
      "\t [Node] Finished \"data_sink_T2_H473_SU003_3\", elapsed time 0.002025s.\n"
     ]
    },
    {
     "name": "stderr",
     "output_type": "stream",
     "text": [
      "stty: 'standard input': Inappropriate ioctl for device\n"
     ]
    },
    {
     "name": "stdout",
     "output_type": "stream",
     "text": [
      "240708-11:15:16,547 nipype.workflow INFO:\n",
      "\t Workflow vbm_segment_1_T2_H474_SU004 settings: ['check', 'execution', 'logging', 'monitoring']\n",
      "240708-11:15:16,550 nipype.workflow INFO:\n",
      "\t Running serially.\n",
      "240708-11:15:16,551 nipype.workflow INFO:\n",
      "\t [Node] Setting-up \"vbm_segment_1_T2_H474_SU004.segment_T2_H474_SU004_1\" in \"/home/sharapova/vbm_pipline/data/analysis/SU004/segmentation/1_segment/vbm_segment_1_T2_H474_SU004/segment_T2_H474_SU004_1\".\n",
      "240708-11:15:16,553 nipype.workflow INFO:\n",
      "\t [Node] Executing \"segment_T2_H474_SU004_1\" <nipype.interfaces.spm.preprocess.NewSegment>\n",
      "240708-11:16:04,355 nipype.workflow INFO:\n",
      "\t [Node] Finished \"segment_T2_H474_SU004_1\", elapsed time 47.800501s.\n",
      "240708-11:16:04,358 nipype.workflow INFO:\n",
      "\t [Node] Setting-up \"vbm_segment_1_T2_H474_SU004.data_sink_T2_H474_SU004_1\" in \"/home/sharapova/vbm_pipline/data/analysis/SU004/segmentation/1_segment/vbm_segment_1_T2_H474_SU004/data_sink_T2_H474_SU004_1\".\n",
      "240708-11:16:04,362 nipype.workflow INFO:\n",
      "\t [Node] Executing \"data_sink_T2_H474_SU004_1\" <nipype.interfaces.io.DataSink>\n",
      "240708-11:16:04,365 nipype.workflow INFO:\n",
      "\t [Node] Finished \"data_sink_T2_H474_SU004_1\", elapsed time 0.001732s.\n"
     ]
    },
    {
     "name": "stderr",
     "output_type": "stream",
     "text": [
      "stty: 'standard input': Inappropriate ioctl for device\n"
     ]
    },
    {
     "name": "stdout",
     "output_type": "stream",
     "text": [
      "240708-11:16:05,64 nipype.workflow INFO:\n",
      "\t Workflow vbm_segment_2_T2_H474_SU004 settings: ['check', 'execution', 'logging', 'monitoring']\n",
      "240708-11:16:05,66 nipype.workflow INFO:\n",
      "\t Running serially.\n",
      "240708-11:16:05,67 nipype.workflow INFO:\n",
      "\t [Node] Setting-up \"vbm_segment_2_T2_H474_SU004.segment_T2_H474_SU004_2\" in \"/home/sharapova/vbm_pipline/data/analysis/SU004/segmentation/2_segment/vbm_segment_2_T2_H474_SU004/segment_T2_H474_SU004_2\".\n",
      "240708-11:16:05,70 nipype.workflow INFO:\n",
      "\t [Node] Executing \"segment_T2_H474_SU004_2\" <nipype.interfaces.spm.preprocess.NewSegment>\n",
      "240708-11:16:40,726 nipype.workflow INFO:\n",
      "\t [Node] Finished \"segment_T2_H474_SU004_2\", elapsed time 35.65473s.\n",
      "240708-11:16:40,729 nipype.workflow INFO:\n",
      "\t [Node] Setting-up \"vbm_segment_2_T2_H474_SU004.data_sink_T2_H474_SU004_2\" in \"/home/sharapova/vbm_pipline/data/analysis/SU004/segmentation/2_segment/vbm_segment_2_T2_H474_SU004/data_sink_T2_H474_SU004_2\".\n",
      "240708-11:16:40,733 nipype.workflow INFO:\n",
      "\t [Node] Executing \"data_sink_T2_H474_SU004_2\" <nipype.interfaces.io.DataSink>\n",
      "240708-11:16:40,735 nipype.workflow INFO:\n",
      "\t [Node] Finished \"data_sink_T2_H474_SU004_2\", elapsed time 0.00123s.\n"
     ]
    },
    {
     "name": "stderr",
     "output_type": "stream",
     "text": [
      "stty: 'standard input': Inappropriate ioctl for device\n"
     ]
    },
    {
     "name": "stdout",
     "output_type": "stream",
     "text": [
      "240708-11:16:41,338 nipype.workflow INFO:\n",
      "\t Workflow vbm_segment_3_T2_H474_SU004 settings: ['check', 'execution', 'logging', 'monitoring']\n",
      "240708-11:16:41,340 nipype.workflow INFO:\n",
      "\t Running serially.\n",
      "240708-11:16:41,341 nipype.workflow INFO:\n",
      "\t [Node] Setting-up \"vbm_segment_3_T2_H474_SU004.segment_T2_H474_SU004_3\" in \"/home/sharapova/vbm_pipline/data/analysis/SU004/segmentation/3_segment/vbm_segment_3_T2_H474_SU004/segment_T2_H474_SU004_3\".\n",
      "240708-11:16:41,343 nipype.workflow INFO:\n",
      "\t [Node] Executing \"segment_T2_H474_SU004_3\" <nipype.interfaces.spm.preprocess.NewSegment>\n",
      "240708-11:17:12,278 nipype.workflow INFO:\n",
      "\t [Node] Finished \"segment_T2_H474_SU004_3\", elapsed time 30.934249s.\n",
      "240708-11:17:12,281 nipype.workflow INFO:\n",
      "\t [Node] Setting-up \"vbm_segment_3_T2_H474_SU004.data_sink_T2_H474_SU004_3\" in \"/home/sharapova/vbm_pipline/data/analysis/SU004/segmentation/3_segment/vbm_segment_3_T2_H474_SU004/data_sink_T2_H474_SU004_3\".\n",
      "240708-11:17:12,284 nipype.workflow INFO:\n",
      "\t [Node] Executing \"data_sink_T2_H474_SU004_3\" <nipype.interfaces.io.DataSink>\n",
      "240708-11:17:12,287 nipype.workflow INFO:\n",
      "\t [Node] Finished \"data_sink_T2_H474_SU004_3\", elapsed time 0.001544s.\n"
     ]
    },
    {
     "name": "stderr",
     "output_type": "stream",
     "text": [
      "stty: 'standard input': Inappropriate ioctl for device\n"
     ]
    }
   ],
   "source": [
    "def run_segmentation_and_masking(input_folder: str, tpm_path: str):\n",
    "    # searching for .nii files within the subdirectories of input_folder\n",
    "    subject_ids = []\n",
    "    for root, _, files in os.walk(input_folder):\n",
    "        for file in files:\n",
    "            if file.endswith('.nii'):\n",
    "                subject_ids.append(os.path.join(root, file))\n",
    "    \n",
    "    print(subject_ids)  # check .nii files\n",
    "\n",
    "    for input_file in subject_ids:\n",
    "        subject_id = os.path.basename(input_file).split('.')[0]\n",
    "        subject_folder = os.path.dirname(input_file)\n",
    "        segmentation_folder = os.path.join(subject_folder, 'segmentation')\n",
    "        os.makedirs(segmentation_folder, exist_ok=True)\n",
    "        \n",
    "        for iteration in range(1, 4):\n",
    "            segmentation_output = segment_brain_images(input_file, tpm_path, iteration, subject_id, subject_folder)\n",
    "            if not segmentation_output:\n",
    "                print(f\"Segmentation failed for {input_file} in iteration {iteration}\")\n",
    "                break\n",
    "            mask_output = mask_brain_images(os.path.join(segmentation_folder, f'{iteration}_segment'), subject_folder, subject_id, iteration)\n",
    "            input_file = os.path.join(segmentation_folder, f'{iteration}_mask', f'masked_{subject_id}.nii')\n",
    "            \n",
    "            # renaming the masked output to the original file name for the next iter\n",
    "            next_input_file = os.path.join(segmentation_folder, f'{iteration}_mask', f'{subject_id}.nii') \n",
    "            os.rename(input_file, next_input_file)\n",
    "            input_file = next_input_file\n",
    "\n",
    "# Example usage:\n",
    "input_folder = 'data/analysis/'\n",
    "tpm_path = 'data/TPM'\n",
    "run_segmentation_and_masking(input_folder, tpm_path)"
   ]
  }
 ],
 "metadata": {
  "kernelspec": {
   "display_name": "base",
   "language": "python",
   "name": "python3"
  },
  "language_info": {
   "codemirror_mode": {
    "name": "ipython",
    "version": 3
   },
   "file_extension": ".py",
   "mimetype": "text/x-python",
   "name": "python",
   "nbconvert_exporter": "python",
   "pygments_lexer": "ipython3",
   "version": "3.11.5"
  }
 },
 "nbformat": 4,
 "nbformat_minor": 2
}
