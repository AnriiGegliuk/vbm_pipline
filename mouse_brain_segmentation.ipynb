{
 "cells": [
  {
   "cell_type": "code",
   "execution_count": 1,
   "metadata": {},
   "outputs": [],
   "source": [
    "%load_ext autoreload\n",
    "%autoreload 2\n",
    "from modalities.segmentation_1 import segment_brain_images"
   ]
  },
  {
   "cell_type": "code",
   "execution_count": 3,
   "metadata": {},
   "outputs": [
    {
     "name": "stderr",
     "output_type": "stream",
     "text": [
      "stty: 'standard input': Inappropriate ioctl for device\n"
     ]
    },
    {
     "name": "stdout",
     "output_type": "stream",
     "text": [
      "<nipype.interfaces.base.support.InterfaceResult object at 0x7f62f5182cd0>\n"
     ]
    },
    {
     "name": "stderr",
     "output_type": "stream",
     "text": [
      "stty: 'standard input': Inappropriate ioctl for device\n"
     ]
    }
   ],
   "source": [
    "from nipype.interfaces.spm import NewSegment\n",
    "import os\n",
    "\n",
    "# paths for segmentation\n",
    "alignment_file = os.path.abspath('data/segmentation/cross_hair_4_24_39 - Copy/crosshair_4_24_39.nii')\n",
    "tpm_files = [\n",
    "    os.path.abspath('data/TPM/01_GM.nii'),\n",
    "    os.path.abspath('data/TPM/02_WM.nii'),\n",
    "    os.path.abspath('data/TPM/03_CSF.nii'),\n",
    "    os.path.abspath('data/TPM/04.nii'),\n",
    "    os.path.abspath('data/TPM/05.nii'),\n",
    "    os.path.abspath('data/TPM/06.nii')\n",
    "]\n",
    "\n",
    "for f in [alignment_file] + tpm_files: # checking if the .nii files exist\n",
    "    if not os.path.exists(f):\n",
    "        raise FileNotFoundError(f\"File not found: {f}\")\n",
    "\n",
    "\n",
    "segment = NewSegment() # runnign segmentation \n",
    "segment.inputs.channel_files = alignment_file\n",
    "segment.inputs.tissues = [\n",
    "    ((tpm_files[0], 1), 1, (True, True), (True, True)),\n",
    "    ((tpm_files[1], 1), 1, (True, True), (True, True)),\n",
    "    ((tpm_files[2], 1), 2, (True, True), (True, True)),\n",
    "    ((tpm_files[3], 1), 3, (True, False), (False, False)),\n",
    "    ((tpm_files[4], 1), 4, (True, False), (False, False)),\n",
    "    ((tpm_files[5], 1), 2, (False, False), (False, False))\n",
    "]\n",
    "\n",
    "result = segment.run()\n",
    "print(result)\n"
   ]
  },
  {
   "cell_type": "code",
   "execution_count": 4,
   "metadata": {},
   "outputs": [],
   "source": [
    "# input_folder = 'data/alignment/'\n",
    "# tpm_path = 'data/TPM/'\n",
    "\n",
    "# output_files = segment_brain_images(input_folder, tpm_path)\n",
    "# print(output_files)"
   ]
  }
 ],
 "metadata": {
  "kernelspec": {
   "display_name": "base",
   "language": "python",
   "name": "python3"
  },
  "language_info": {
   "codemirror_mode": {
    "name": "ipython",
    "version": 3
   },
   "file_extension": ".py",
   "mimetype": "text/x-python",
   "name": "python",
   "nbconvert_exporter": "python",
   "pygments_lexer": "ipython3",
   "version": "3.11.5"
  }
 },
 "nbformat": 4,
 "nbformat_minor": 2
}
