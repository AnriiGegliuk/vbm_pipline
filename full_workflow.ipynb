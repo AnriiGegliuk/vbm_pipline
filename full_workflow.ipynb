{
 "cells": [
  {
   "cell_type": "markdown",
   "metadata": {},
   "source": [
    "# Segmentation"
   ]
  },
  {
   "cell_type": "code",
   "execution_count": 6,
   "metadata": {},
   "outputs": [
    {
     "name": "stdout",
     "output_type": "stream",
     "text": [
      "['data/analysis_conditions/Treated_by_psilocin_analysis/T2_176/T2_176.nii', 'data/analysis_conditions/Treated_by_psilocin_analysis/T2_177/T2_177.nii', 'data/analysis_conditions/Treated_by_psilocin_analysis/T2_175/T2_175.nii', 'data/analysis_conditions/Treated_by_psilocin_analysis/T2_174/T2_174.nii', 'data/analysis_conditions/Treated_by_psilocin_analysis/T2_178/T2_178.nii', 'data/analysis_conditions/Treated_by_psilocin_analysis/T2_201/T2_201.nii', 'data/analysis_conditions/control_analysis/T2_227/T2_227.nii', 'data/analysis_conditions/control_analysis/T2_223/T2_223.nii', 'data/analysis_conditions/control_analysis/T2_226/T2_226.nii', 'data/analysis_conditions/control_analysis/T2_228/T2_228.nii', 'data/analysis_conditions/control_analysis/T2_225/T2_225.nii', 'data/analysis_conditions/control_analysis/T2_224/T2_224.nii']\n",
      "240711-13:04:47,91 nipype.workflow INFO:\n",
      "\t Workflow vbm_segment_1_T2_176 settings: ['check', 'execution', 'logging', 'monitoring']\n",
      "240711-13:04:47,101 nipype.workflow INFO:\n",
      "\t Running serially.\n",
      "240711-13:04:47,102 nipype.workflow INFO:\n",
      "\t [Node] Setting-up \"vbm_segment_1_T2_176.segment_T2_176_1\" in \"/home/sharapova/vbm_pipline/data/analysis_conditions/Treated_by_psilocin_analysis/T2_176/segmentation/1_segment/vbm_segment_1_T2_176/segment_T2_176_1\".\n",
      "240711-13:04:47,109 nipype.workflow INFO:\n",
      "\t [Node] Executing \"segment_T2_176_1\" <nipype.interfaces.spm.preprocess.NewSegment>\n",
      "240711-13:05:40,372 nipype.workflow INFO:\n",
      "\t [Node] Finished \"segment_T2_176_1\", elapsed time 53.260775s.\n",
      "240711-13:05:40,375 nipype.workflow INFO:\n",
      "\t [Node] Setting-up \"vbm_segment_1_T2_176.data_sink_T2_176_1\" in \"/home/sharapova/vbm_pipline/data/analysis_conditions/Treated_by_psilocin_analysis/T2_176/segmentation/1_segment/vbm_segment_1_T2_176/data_sink_T2_176_1\".\n",
      "240711-13:05:40,381 nipype.workflow INFO:\n",
      "\t [Node] Executing \"data_sink_T2_176_1\" <nipype.interfaces.io.DataSink>\n",
      "240711-13:05:40,384 nipype.workflow INFO:\n",
      "\t [Node] Finished \"data_sink_T2_176_1\", elapsed time 0.001531s.\n"
     ]
    },
    {
     "name": "stderr",
     "output_type": "stream",
     "text": [
      "stty: 'standard input': Inappropriate ioctl for device\n"
     ]
    },
    {
     "name": "stdout",
     "output_type": "stream",
     "text": [
      "240711-13:05:41,161 nipype.workflow INFO:\n",
      "\t Workflow vbm_segment_2_T2_176 settings: ['check', 'execution', 'logging', 'monitoring']\n",
      "240711-13:05:41,164 nipype.workflow INFO:\n",
      "\t Running serially.\n",
      "240711-13:05:41,165 nipype.workflow INFO:\n",
      "\t [Node] Setting-up \"vbm_segment_2_T2_176.segment_T2_176_2\" in \"/home/sharapova/vbm_pipline/data/analysis_conditions/Treated_by_psilocin_analysis/T2_176/segmentation/2_segment/vbm_segment_2_T2_176/segment_T2_176_2\".\n",
      "240711-13:05:41,168 nipype.workflow INFO:\n",
      "\t [Node] Executing \"segment_T2_176_2\" <nipype.interfaces.spm.preprocess.NewSegment>\n",
      "240711-13:06:16,208 nipype.workflow INFO:\n",
      "\t [Node] Finished \"segment_T2_176_2\", elapsed time 35.039662s.\n",
      "240711-13:06:16,212 nipype.workflow INFO:\n",
      "\t [Node] Setting-up \"vbm_segment_2_T2_176.data_sink_T2_176_2\" in \"/home/sharapova/vbm_pipline/data/analysis_conditions/Treated_by_psilocin_analysis/T2_176/segmentation/2_segment/vbm_segment_2_T2_176/data_sink_T2_176_2\".\n",
      "240711-13:06:16,220 nipype.workflow INFO:\n",
      "\t [Node] Executing \"data_sink_T2_176_2\" <nipype.interfaces.io.DataSink>\n",
      "240711-13:06:16,223 nipype.workflow INFO:\n",
      "\t [Node] Finished \"data_sink_T2_176_2\", elapsed time 0.001736s.\n"
     ]
    },
    {
     "name": "stderr",
     "output_type": "stream",
     "text": [
      "stty: 'standard input': Inappropriate ioctl for device\n"
     ]
    },
    {
     "name": "stdout",
     "output_type": "stream",
     "text": [
      "240711-13:06:16,912 nipype.workflow INFO:\n",
      "\t Workflow vbm_segment_3_T2_176 settings: ['check', 'execution', 'logging', 'monitoring']\n",
      "240711-13:06:16,917 nipype.workflow INFO:\n",
      "\t Running serially.\n",
      "240711-13:06:16,918 nipype.workflow INFO:\n",
      "\t [Node] Setting-up \"vbm_segment_3_T2_176.segment_T2_176_3\" in \"/home/sharapova/vbm_pipline/data/analysis_conditions/Treated_by_psilocin_analysis/T2_176/segmentation/3_segment/vbm_segment_3_T2_176/segment_T2_176_3\".\n",
      "240711-13:06:16,921 nipype.workflow INFO:\n",
      "\t [Node] Executing \"segment_T2_176_3\" <nipype.interfaces.spm.preprocess.NewSegment>\n",
      "240711-13:06:53,874 nipype.workflow INFO:\n",
      "\t [Node] Finished \"segment_T2_176_3\", elapsed time 36.952624s.\n",
      "240711-13:06:53,880 nipype.workflow INFO:\n",
      "\t [Node] Setting-up \"vbm_segment_3_T2_176.data_sink_T2_176_3\" in \"/home/sharapova/vbm_pipline/data/analysis_conditions/Treated_by_psilocin_analysis/T2_176/segmentation/3_segment/vbm_segment_3_T2_176/data_sink_T2_176_3\".\n",
      "240711-13:06:53,884 nipype.workflow INFO:\n",
      "\t [Node] Executing \"data_sink_T2_176_3\" <nipype.interfaces.io.DataSink>\n",
      "240711-13:06:53,888 nipype.workflow INFO:\n",
      "\t [Node] Finished \"data_sink_T2_176_3\", elapsed time 0.002522s.\n"
     ]
    },
    {
     "name": "stderr",
     "output_type": "stream",
     "text": [
      "stty: 'standard input': Inappropriate ioctl for device\n"
     ]
    },
    {
     "name": "stdout",
     "output_type": "stream",
     "text": [
      "240711-13:06:54,566 nipype.workflow INFO:\n",
      "\t Workflow vbm_segment_1_T2_177 settings: ['check', 'execution', 'logging', 'monitoring']\n",
      "240711-13:06:54,569 nipype.workflow INFO:\n",
      "\t Running serially.\n",
      "240711-13:06:54,569 nipype.workflow INFO:\n",
      "\t [Node] Setting-up \"vbm_segment_1_T2_177.segment_T2_177_1\" in \"/home/sharapova/vbm_pipline/data/analysis_conditions/Treated_by_psilocin_analysis/T2_177/segmentation/1_segment/vbm_segment_1_T2_177/segment_T2_177_1\".\n",
      "240711-13:06:54,572 nipype.workflow INFO:\n",
      "\t [Node] Executing \"segment_T2_177_1\" <nipype.interfaces.spm.preprocess.NewSegment>\n",
      "240711-13:08:01,313 nipype.workflow INFO:\n",
      "\t [Node] Finished \"segment_T2_177_1\", elapsed time 66.740327s.\n",
      "240711-13:08:01,316 nipype.workflow INFO:\n",
      "\t [Node] Setting-up \"vbm_segment_1_T2_177.data_sink_T2_177_1\" in \"/home/sharapova/vbm_pipline/data/analysis_conditions/Treated_by_psilocin_analysis/T2_177/segmentation/1_segment/vbm_segment_1_T2_177/data_sink_T2_177_1\".\n",
      "240711-13:08:01,322 nipype.workflow INFO:\n",
      "\t [Node] Executing \"data_sink_T2_177_1\" <nipype.interfaces.io.DataSink>\n",
      "240711-13:08:01,325 nipype.workflow INFO:\n",
      "\t [Node] Finished \"data_sink_T2_177_1\", elapsed time 0.002009s.\n"
     ]
    },
    {
     "name": "stderr",
     "output_type": "stream",
     "text": [
      "stty: 'standard input': Inappropriate ioctl for device\n"
     ]
    },
    {
     "name": "stdout",
     "output_type": "stream",
     "text": [
      "240711-13:08:02,10 nipype.workflow INFO:\n",
      "\t Workflow vbm_segment_2_T2_177 settings: ['check', 'execution', 'logging', 'monitoring']\n",
      "240711-13:08:02,14 nipype.workflow INFO:\n",
      "\t Running serially.\n",
      "240711-13:08:02,14 nipype.workflow INFO:\n",
      "\t [Node] Setting-up \"vbm_segment_2_T2_177.segment_T2_177_2\" in \"/home/sharapova/vbm_pipline/data/analysis_conditions/Treated_by_psilocin_analysis/T2_177/segmentation/2_segment/vbm_segment_2_T2_177/segment_T2_177_2\".\n",
      "240711-13:08:02,17 nipype.workflow INFO:\n",
      "\t [Node] Executing \"segment_T2_177_2\" <nipype.interfaces.spm.preprocess.NewSegment>\n",
      "240711-13:08:43,426 nipype.workflow INFO:\n",
      "\t [Node] Finished \"segment_T2_177_2\", elapsed time 41.407208s.\n",
      "240711-13:08:43,430 nipype.workflow INFO:\n",
      "\t [Node] Setting-up \"vbm_segment_2_T2_177.data_sink_T2_177_2\" in \"/home/sharapova/vbm_pipline/data/analysis_conditions/Treated_by_psilocin_analysis/T2_177/segmentation/2_segment/vbm_segment_2_T2_177/data_sink_T2_177_2\".\n",
      "240711-13:08:43,439 nipype.workflow INFO:\n",
      "\t [Node] Executing \"data_sink_T2_177_2\" <nipype.interfaces.io.DataSink>\n",
      "240711-13:08:43,444 nipype.workflow INFO:\n",
      "\t [Node] Finished \"data_sink_T2_177_2\", elapsed time 0.002886s.\n"
     ]
    },
    {
     "name": "stderr",
     "output_type": "stream",
     "text": [
      "stty: 'standard input': Inappropriate ioctl for device\n"
     ]
    },
    {
     "name": "stdout",
     "output_type": "stream",
     "text": [
      "240711-13:08:44,111 nipype.workflow INFO:\n",
      "\t Workflow vbm_segment_3_T2_177 settings: ['check', 'execution', 'logging', 'monitoring']\n",
      "240711-13:08:44,122 nipype.workflow INFO:\n",
      "\t Running serially.\n",
      "240711-13:08:44,123 nipype.workflow INFO:\n",
      "\t [Node] Setting-up \"vbm_segment_3_T2_177.segment_T2_177_3\" in \"/home/sharapova/vbm_pipline/data/analysis_conditions/Treated_by_psilocin_analysis/T2_177/segmentation/3_segment/vbm_segment_3_T2_177/segment_T2_177_3\".\n",
      "240711-13:08:44,127 nipype.workflow INFO:\n",
      "\t [Node] Executing \"segment_T2_177_3\" <nipype.interfaces.spm.preprocess.NewSegment>\n",
      "240711-13:09:21,824 nipype.workflow INFO:\n",
      "\t [Node] Finished \"segment_T2_177_3\", elapsed time 37.695448999999996s.\n",
      "240711-13:09:21,828 nipype.workflow INFO:\n",
      "\t [Node] Setting-up \"vbm_segment_3_T2_177.data_sink_T2_177_3\" in \"/home/sharapova/vbm_pipline/data/analysis_conditions/Treated_by_psilocin_analysis/T2_177/segmentation/3_segment/vbm_segment_3_T2_177/data_sink_T2_177_3\".\n",
      "240711-13:09:21,837 nipype.workflow INFO:\n",
      "\t [Node] Executing \"data_sink_T2_177_3\" <nipype.interfaces.io.DataSink>\n",
      "240711-13:09:21,842 nipype.workflow INFO:\n",
      "\t [Node] Finished \"data_sink_T2_177_3\", elapsed time 0.003254s.\n"
     ]
    },
    {
     "name": "stderr",
     "output_type": "stream",
     "text": [
      "stty: 'standard input': Inappropriate ioctl for device\n"
     ]
    },
    {
     "name": "stdout",
     "output_type": "stream",
     "text": [
      "240711-13:09:22,483 nipype.workflow INFO:\n",
      "\t Workflow vbm_segment_1_T2_175 settings: ['check', 'execution', 'logging', 'monitoring']\n",
      "240711-13:09:22,488 nipype.workflow INFO:\n",
      "\t Running serially.\n",
      "240711-13:09:22,489 nipype.workflow INFO:\n",
      "\t [Node] Setting-up \"vbm_segment_1_T2_175.segment_T2_175_1\" in \"/home/sharapova/vbm_pipline/data/analysis_conditions/Treated_by_psilocin_analysis/T2_175/segmentation/1_segment/vbm_segment_1_T2_175/segment_T2_175_1\".\n",
      "240711-13:09:22,493 nipype.workflow INFO:\n",
      "\t [Node] Executing \"segment_T2_175_1\" <nipype.interfaces.spm.preprocess.NewSegment>\n",
      "240711-13:10:16,779 nipype.workflow INFO:\n",
      "\t [Node] Finished \"segment_T2_175_1\", elapsed time 54.285225s.\n",
      "240711-13:10:16,783 nipype.workflow INFO:\n",
      "\t [Node] Setting-up \"vbm_segment_1_T2_175.data_sink_T2_175_1\" in \"/home/sharapova/vbm_pipline/data/analysis_conditions/Treated_by_psilocin_analysis/T2_175/segmentation/1_segment/vbm_segment_1_T2_175/data_sink_T2_175_1\".\n",
      "240711-13:10:16,790 nipype.workflow INFO:\n",
      "\t [Node] Executing \"data_sink_T2_175_1\" <nipype.interfaces.io.DataSink>\n",
      "240711-13:10:16,793 nipype.workflow INFO:\n",
      "\t [Node] Finished \"data_sink_T2_175_1\", elapsed time 0.001553s.\n"
     ]
    },
    {
     "name": "stderr",
     "output_type": "stream",
     "text": [
      "stty: 'standard input': Inappropriate ioctl for device\n"
     ]
    },
    {
     "name": "stdout",
     "output_type": "stream",
     "text": [
      "240711-13:10:17,442 nipype.workflow INFO:\n",
      "\t Workflow vbm_segment_2_T2_175 settings: ['check', 'execution', 'logging', 'monitoring']\n",
      "240711-13:10:17,446 nipype.workflow INFO:\n",
      "\t Running serially.\n",
      "240711-13:10:17,447 nipype.workflow INFO:\n",
      "\t [Node] Setting-up \"vbm_segment_2_T2_175.segment_T2_175_2\" in \"/home/sharapova/vbm_pipline/data/analysis_conditions/Treated_by_psilocin_analysis/T2_175/segmentation/2_segment/vbm_segment_2_T2_175/segment_T2_175_2\".\n",
      "240711-13:10:17,450 nipype.workflow INFO:\n",
      "\t [Node] Executing \"segment_T2_175_2\" <nipype.interfaces.spm.preprocess.NewSegment>\n",
      "240711-13:10:58,721 nipype.workflow INFO:\n",
      "\t [Node] Finished \"segment_T2_175_2\", elapsed time 41.270396s.\n",
      "240711-13:10:58,727 nipype.workflow INFO:\n",
      "\t [Node] Setting-up \"vbm_segment_2_T2_175.data_sink_T2_175_2\" in \"/home/sharapova/vbm_pipline/data/analysis_conditions/Treated_by_psilocin_analysis/T2_175/segmentation/2_segment/vbm_segment_2_T2_175/data_sink_T2_175_2\".\n",
      "240711-13:10:58,733 nipype.workflow INFO:\n",
      "\t [Node] Executing \"data_sink_T2_175_2\" <nipype.interfaces.io.DataSink>\n",
      "240711-13:10:58,736 nipype.workflow INFO:\n",
      "\t [Node] Finished \"data_sink_T2_175_2\", elapsed time 0.001807s.\n"
     ]
    },
    {
     "name": "stderr",
     "output_type": "stream",
     "text": [
      "stty: 'standard input': Inappropriate ioctl for device\n"
     ]
    },
    {
     "name": "stdout",
     "output_type": "stream",
     "text": [
      "240711-13:10:59,332 nipype.workflow INFO:\n",
      "\t Workflow vbm_segment_3_T2_175 settings: ['check', 'execution', 'logging', 'monitoring']\n",
      "240711-13:10:59,335 nipype.workflow INFO:\n",
      "\t Running serially.\n",
      "240711-13:10:59,336 nipype.workflow INFO:\n",
      "\t [Node] Setting-up \"vbm_segment_3_T2_175.segment_T2_175_3\" in \"/home/sharapova/vbm_pipline/data/analysis_conditions/Treated_by_psilocin_analysis/T2_175/segmentation/3_segment/vbm_segment_3_T2_175/segment_T2_175_3\".\n",
      "240711-13:10:59,340 nipype.workflow INFO:\n",
      "\t [Node] Executing \"segment_T2_175_3\" <nipype.interfaces.spm.preprocess.NewSegment>\n",
      "240711-13:11:33,816 nipype.workflow INFO:\n",
      "\t [Node] Finished \"segment_T2_175_3\", elapsed time 34.475902s.\n",
      "240711-13:11:33,822 nipype.workflow INFO:\n",
      "\t [Node] Setting-up \"vbm_segment_3_T2_175.data_sink_T2_175_3\" in \"/home/sharapova/vbm_pipline/data/analysis_conditions/Treated_by_psilocin_analysis/T2_175/segmentation/3_segment/vbm_segment_3_T2_175/data_sink_T2_175_3\".\n",
      "240711-13:11:33,830 nipype.workflow INFO:\n",
      "\t [Node] Executing \"data_sink_T2_175_3\" <nipype.interfaces.io.DataSink>\n",
      "240711-13:11:33,835 nipype.workflow INFO:\n",
      "\t [Node] Finished \"data_sink_T2_175_3\", elapsed time 0.002439s.\n"
     ]
    },
    {
     "name": "stderr",
     "output_type": "stream",
     "text": [
      "stty: 'standard input': Inappropriate ioctl for device\n"
     ]
    },
    {
     "name": "stdout",
     "output_type": "stream",
     "text": [
      "240711-13:11:34,486 nipype.workflow INFO:\n",
      "\t Workflow vbm_segment_1_T2_174 settings: ['check', 'execution', 'logging', 'monitoring']\n",
      "240711-13:11:34,490 nipype.workflow INFO:\n",
      "\t Running serially.\n",
      "240711-13:11:34,491 nipype.workflow INFO:\n",
      "\t [Node] Setting-up \"vbm_segment_1_T2_174.segment_T2_174_1\" in \"/home/sharapova/vbm_pipline/data/analysis_conditions/Treated_by_psilocin_analysis/T2_174/segmentation/1_segment/vbm_segment_1_T2_174/segment_T2_174_1\".\n",
      "240711-13:11:34,496 nipype.workflow INFO:\n",
      "\t [Node] Executing \"segment_T2_174_1\" <nipype.interfaces.spm.preprocess.NewSegment>\n",
      "240711-13:12:36,837 nipype.workflow INFO:\n",
      "\t [Node] Finished \"segment_T2_174_1\", elapsed time 62.33941s.\n",
      "240711-13:12:36,842 nipype.workflow INFO:\n",
      "\t [Node] Setting-up \"vbm_segment_1_T2_174.data_sink_T2_174_1\" in \"/home/sharapova/vbm_pipline/data/analysis_conditions/Treated_by_psilocin_analysis/T2_174/segmentation/1_segment/vbm_segment_1_T2_174/data_sink_T2_174_1\".\n",
      "240711-13:12:36,849 nipype.workflow INFO:\n",
      "\t [Node] Executing \"data_sink_T2_174_1\" <nipype.interfaces.io.DataSink>\n",
      "240711-13:12:36,853 nipype.workflow INFO:\n",
      "\t [Node] Finished \"data_sink_T2_174_1\", elapsed time 0.002171s.\n"
     ]
    },
    {
     "name": "stderr",
     "output_type": "stream",
     "text": [
      "stty: 'standard input': Inappropriate ioctl for device\n"
     ]
    },
    {
     "name": "stdout",
     "output_type": "stream",
     "text": [
      "240711-13:12:37,518 nipype.workflow INFO:\n",
      "\t Workflow vbm_segment_2_T2_174 settings: ['check', 'execution', 'logging', 'monitoring']\n",
      "240711-13:12:37,521 nipype.workflow INFO:\n",
      "\t Running serially.\n",
      "240711-13:12:37,521 nipype.workflow INFO:\n",
      "\t [Node] Setting-up \"vbm_segment_2_T2_174.segment_T2_174_2\" in \"/home/sharapova/vbm_pipline/data/analysis_conditions/Treated_by_psilocin_analysis/T2_174/segmentation/2_segment/vbm_segment_2_T2_174/segment_T2_174_2\".\n",
      "240711-13:12:37,524 nipype.workflow INFO:\n",
      "\t [Node] Executing \"segment_T2_174_2\" <nipype.interfaces.spm.preprocess.NewSegment>\n",
      "240711-13:13:13,440 nipype.workflow INFO:\n",
      "\t [Node] Finished \"segment_T2_174_2\", elapsed time 35.914891s.\n",
      "240711-13:13:13,443 nipype.workflow INFO:\n",
      "\t [Node] Setting-up \"vbm_segment_2_T2_174.data_sink_T2_174_2\" in \"/home/sharapova/vbm_pipline/data/analysis_conditions/Treated_by_psilocin_analysis/T2_174/segmentation/2_segment/vbm_segment_2_T2_174/data_sink_T2_174_2\".\n",
      "240711-13:13:13,447 nipype.workflow INFO:\n",
      "\t [Node] Executing \"data_sink_T2_174_2\" <nipype.interfaces.io.DataSink>\n",
      "240711-13:13:13,451 nipype.workflow INFO:\n",
      "\t [Node] Finished \"data_sink_T2_174_2\", elapsed time 0.002272s.\n"
     ]
    },
    {
     "name": "stderr",
     "output_type": "stream",
     "text": [
      "stty: 'standard input': Inappropriate ioctl for device\n"
     ]
    },
    {
     "name": "stdout",
     "output_type": "stream",
     "text": [
      "240711-13:13:14,56 nipype.workflow INFO:\n",
      "\t Workflow vbm_segment_3_T2_174 settings: ['check', 'execution', 'logging', 'monitoring']\n",
      "240711-13:13:14,59 nipype.workflow INFO:\n",
      "\t Running serially.\n",
      "240711-13:13:14,60 nipype.workflow INFO:\n",
      "\t [Node] Setting-up \"vbm_segment_3_T2_174.segment_T2_174_3\" in \"/home/sharapova/vbm_pipline/data/analysis_conditions/Treated_by_psilocin_analysis/T2_174/segmentation/3_segment/vbm_segment_3_T2_174/segment_T2_174_3\".\n",
      "240711-13:13:14,64 nipype.workflow INFO:\n",
      "\t [Node] Executing \"segment_T2_174_3\" <nipype.interfaces.spm.preprocess.NewSegment>\n",
      "240711-13:13:50,695 nipype.workflow INFO:\n",
      "\t [Node] Finished \"segment_T2_174_3\", elapsed time 36.629208s.\n",
      "240711-13:13:50,697 nipype.workflow INFO:\n",
      "\t [Node] Setting-up \"vbm_segment_3_T2_174.data_sink_T2_174_3\" in \"/home/sharapova/vbm_pipline/data/analysis_conditions/Treated_by_psilocin_analysis/T2_174/segmentation/3_segment/vbm_segment_3_T2_174/data_sink_T2_174_3\".\n",
      "240711-13:13:50,701 nipype.workflow INFO:\n",
      "\t [Node] Executing \"data_sink_T2_174_3\" <nipype.interfaces.io.DataSink>\n",
      "240711-13:13:50,705 nipype.workflow INFO:\n",
      "\t [Node] Finished \"data_sink_T2_174_3\", elapsed time 0.002443s.\n"
     ]
    },
    {
     "name": "stderr",
     "output_type": "stream",
     "text": [
      "stty: 'standard input': Inappropriate ioctl for device\n"
     ]
    },
    {
     "name": "stdout",
     "output_type": "stream",
     "text": [
      "240711-13:13:51,382 nipype.workflow INFO:\n",
      "\t Workflow vbm_segment_1_T2_178 settings: ['check', 'execution', 'logging', 'monitoring']\n",
      "240711-13:13:51,385 nipype.workflow INFO:\n",
      "\t Running serially.\n",
      "240711-13:13:51,385 nipype.workflow INFO:\n",
      "\t [Node] Setting-up \"vbm_segment_1_T2_178.segment_T2_178_1\" in \"/home/sharapova/vbm_pipline/data/analysis_conditions/Treated_by_psilocin_analysis/T2_178/segmentation/1_segment/vbm_segment_1_T2_178/segment_T2_178_1\".\n",
      "240711-13:13:51,389 nipype.workflow INFO:\n",
      "\t [Node] Executing \"segment_T2_178_1\" <nipype.interfaces.spm.preprocess.NewSegment>\n",
      "240711-13:14:39,420 nipype.workflow INFO:\n",
      "\t [Node] Finished \"segment_T2_178_1\", elapsed time 48.030941s.\n",
      "240711-13:14:39,424 nipype.workflow INFO:\n",
      "\t [Node] Setting-up \"vbm_segment_1_T2_178.data_sink_T2_178_1\" in \"/home/sharapova/vbm_pipline/data/analysis_conditions/Treated_by_psilocin_analysis/T2_178/segmentation/1_segment/vbm_segment_1_T2_178/data_sink_T2_178_1\".\n",
      "240711-13:14:39,432 nipype.workflow INFO:\n",
      "\t [Node] Executing \"data_sink_T2_178_1\" <nipype.interfaces.io.DataSink>\n",
      "240711-13:14:39,436 nipype.workflow INFO:\n",
      "\t [Node] Finished \"data_sink_T2_178_1\", elapsed time 0.002338s.\n"
     ]
    },
    {
     "name": "stderr",
     "output_type": "stream",
     "text": [
      "stty: 'standard input': Inappropriate ioctl for device\n"
     ]
    },
    {
     "name": "stdout",
     "output_type": "stream",
     "text": [
      "240711-13:14:40,91 nipype.workflow INFO:\n",
      "\t Workflow vbm_segment_2_T2_178 settings: ['check', 'execution', 'logging', 'monitoring']\n",
      "240711-13:14:40,96 nipype.workflow INFO:\n",
      "\t Running serially.\n",
      "240711-13:14:40,97 nipype.workflow INFO:\n",
      "\t [Node] Setting-up \"vbm_segment_2_T2_178.segment_T2_178_2\" in \"/home/sharapova/vbm_pipline/data/analysis_conditions/Treated_by_psilocin_analysis/T2_178/segmentation/2_segment/vbm_segment_2_T2_178/segment_T2_178_2\".\n",
      "240711-13:14:40,99 nipype.workflow INFO:\n",
      "\t [Node] Executing \"segment_T2_178_2\" <nipype.interfaces.spm.preprocess.NewSegment>\n",
      "240711-13:15:19,981 nipype.workflow INFO:\n",
      "\t [Node] Finished \"segment_T2_178_2\", elapsed time 39.880611s.\n",
      "240711-13:15:19,986 nipype.workflow INFO:\n",
      "\t [Node] Setting-up \"vbm_segment_2_T2_178.data_sink_T2_178_2\" in \"/home/sharapova/vbm_pipline/data/analysis_conditions/Treated_by_psilocin_analysis/T2_178/segmentation/2_segment/vbm_segment_2_T2_178/data_sink_T2_178_2\".\n",
      "240711-13:15:19,992 nipype.workflow INFO:\n",
      "\t [Node] Executing \"data_sink_T2_178_2\" <nipype.interfaces.io.DataSink>\n",
      "240711-13:15:19,994 nipype.workflow INFO:\n",
      "\t [Node] Finished \"data_sink_T2_178_2\", elapsed time 0.001575s.\n"
     ]
    },
    {
     "name": "stderr",
     "output_type": "stream",
     "text": [
      "stty: 'standard input': Inappropriate ioctl for device\n"
     ]
    },
    {
     "name": "stdout",
     "output_type": "stream",
     "text": [
      "240711-13:15:20,593 nipype.workflow INFO:\n",
      "\t Workflow vbm_segment_3_T2_178 settings: ['check', 'execution', 'logging', 'monitoring']\n",
      "240711-13:15:20,597 nipype.workflow INFO:\n",
      "\t Running serially.\n",
      "240711-13:15:20,598 nipype.workflow INFO:\n",
      "\t [Node] Setting-up \"vbm_segment_3_T2_178.segment_T2_178_3\" in \"/home/sharapova/vbm_pipline/data/analysis_conditions/Treated_by_psilocin_analysis/T2_178/segmentation/3_segment/vbm_segment_3_T2_178/segment_T2_178_3\".\n",
      "240711-13:15:20,601 nipype.workflow INFO:\n",
      "\t [Node] Executing \"segment_T2_178_3\" <nipype.interfaces.spm.preprocess.NewSegment>\n",
      "240711-13:15:57,169 nipype.workflow INFO:\n",
      "\t [Node] Finished \"segment_T2_178_3\", elapsed time 36.566334s.\n",
      "240711-13:15:57,172 nipype.workflow INFO:\n",
      "\t [Node] Setting-up \"vbm_segment_3_T2_178.data_sink_T2_178_3\" in \"/home/sharapova/vbm_pipline/data/analysis_conditions/Treated_by_psilocin_analysis/T2_178/segmentation/3_segment/vbm_segment_3_T2_178/data_sink_T2_178_3\".\n",
      "240711-13:15:57,176 nipype.workflow INFO:\n",
      "\t [Node] Executing \"data_sink_T2_178_3\" <nipype.interfaces.io.DataSink>\n",
      "240711-13:15:57,179 nipype.workflow INFO:\n",
      "\t [Node] Finished \"data_sink_T2_178_3\", elapsed time 0.001726s.\n"
     ]
    },
    {
     "name": "stderr",
     "output_type": "stream",
     "text": [
      "stty: 'standard input': Inappropriate ioctl for device\n"
     ]
    },
    {
     "name": "stdout",
     "output_type": "stream",
     "text": [
      "240711-13:15:57,863 nipype.workflow INFO:\n",
      "\t Workflow vbm_segment_1_T2_201 settings: ['check', 'execution', 'logging', 'monitoring']\n",
      "240711-13:15:57,866 nipype.workflow INFO:\n",
      "\t Running serially.\n",
      "240711-13:15:57,867 nipype.workflow INFO:\n",
      "\t [Node] Setting-up \"vbm_segment_1_T2_201.segment_T2_201_1\" in \"/home/sharapova/vbm_pipline/data/analysis_conditions/Treated_by_psilocin_analysis/T2_201/segmentation/1_segment/vbm_segment_1_T2_201/segment_T2_201_1\".\n",
      "240711-13:15:57,879 nipype.workflow INFO:\n",
      "\t [Node] Executing \"segment_T2_201_1\" <nipype.interfaces.spm.preprocess.NewSegment>\n",
      "240711-13:16:48,640 nipype.workflow INFO:\n",
      "\t [Node] Finished \"segment_T2_201_1\", elapsed time 50.757783s.\n",
      "240711-13:16:48,649 nipype.workflow INFO:\n",
      "\t [Node] Setting-up \"vbm_segment_1_T2_201.data_sink_T2_201_1\" in \"/home/sharapova/vbm_pipline/data/analysis_conditions/Treated_by_psilocin_analysis/T2_201/segmentation/1_segment/vbm_segment_1_T2_201/data_sink_T2_201_1\".\n",
      "240711-13:16:48,662 nipype.workflow INFO:\n",
      "\t [Node] Executing \"data_sink_T2_201_1\" <nipype.interfaces.io.DataSink>\n",
      "240711-13:16:48,666 nipype.workflow INFO:\n",
      "\t [Node] Finished \"data_sink_T2_201_1\", elapsed time 0.002064s.\n"
     ]
    },
    {
     "name": "stderr",
     "output_type": "stream",
     "text": [
      "stty: 'standard input': Inappropriate ioctl for device\n"
     ]
    },
    {
     "name": "stdout",
     "output_type": "stream",
     "text": [
      "240711-13:16:49,398 nipype.workflow INFO:\n",
      "\t Workflow vbm_segment_2_T2_201 settings: ['check', 'execution', 'logging', 'monitoring']\n",
      "240711-13:16:49,402 nipype.workflow INFO:\n",
      "\t Running serially.\n",
      "240711-13:16:49,402 nipype.workflow INFO:\n",
      "\t [Node] Setting-up \"vbm_segment_2_T2_201.segment_T2_201_2\" in \"/home/sharapova/vbm_pipline/data/analysis_conditions/Treated_by_psilocin_analysis/T2_201/segmentation/2_segment/vbm_segment_2_T2_201/segment_T2_201_2\".\n",
      "240711-13:16:49,406 nipype.workflow INFO:\n",
      "\t [Node] Executing \"segment_T2_201_2\" <nipype.interfaces.spm.preprocess.NewSegment>\n",
      "240711-13:17:25,880 nipype.workflow INFO:\n",
      "\t [Node] Finished \"segment_T2_201_2\", elapsed time 36.47328s.\n",
      "240711-13:17:25,883 nipype.workflow INFO:\n",
      "\t [Node] Setting-up \"vbm_segment_2_T2_201.data_sink_T2_201_2\" in \"/home/sharapova/vbm_pipline/data/analysis_conditions/Treated_by_psilocin_analysis/T2_201/segmentation/2_segment/vbm_segment_2_T2_201/data_sink_T2_201_2\".\n",
      "240711-13:17:25,889 nipype.workflow INFO:\n",
      "\t [Node] Executing \"data_sink_T2_201_2\" <nipype.interfaces.io.DataSink>\n",
      "240711-13:17:25,892 nipype.workflow INFO:\n",
      "\t [Node] Finished \"data_sink_T2_201_2\", elapsed time 0.001402s.\n"
     ]
    },
    {
     "name": "stderr",
     "output_type": "stream",
     "text": [
      "stty: 'standard input': Inappropriate ioctl for device\n"
     ]
    },
    {
     "name": "stdout",
     "output_type": "stream",
     "text": [
      "240711-13:17:26,536 nipype.workflow INFO:\n",
      "\t Workflow vbm_segment_3_T2_201 settings: ['check', 'execution', 'logging', 'monitoring']\n",
      "240711-13:17:26,548 nipype.workflow INFO:\n",
      "\t Running serially.\n",
      "240711-13:17:26,550 nipype.workflow INFO:\n",
      "\t [Node] Setting-up \"vbm_segment_3_T2_201.segment_T2_201_3\" in \"/home/sharapova/vbm_pipline/data/analysis_conditions/Treated_by_psilocin_analysis/T2_201/segmentation/3_segment/vbm_segment_3_T2_201/segment_T2_201_3\".\n",
      "240711-13:17:26,558 nipype.workflow INFO:\n",
      "\t [Node] Executing \"segment_T2_201_3\" <nipype.interfaces.spm.preprocess.NewSegment>\n",
      "240711-13:18:05,116 nipype.workflow INFO:\n",
      "\t [Node] Finished \"segment_T2_201_3\", elapsed time 38.555476s.\n",
      "240711-13:18:05,120 nipype.workflow INFO:\n",
      "\t [Node] Setting-up \"vbm_segment_3_T2_201.data_sink_T2_201_3\" in \"/home/sharapova/vbm_pipline/data/analysis_conditions/Treated_by_psilocin_analysis/T2_201/segmentation/3_segment/vbm_segment_3_T2_201/data_sink_T2_201_3\".\n",
      "240711-13:18:05,126 nipype.workflow INFO:\n",
      "\t [Node] Executing \"data_sink_T2_201_3\" <nipype.interfaces.io.DataSink>\n",
      "240711-13:18:05,130 nipype.workflow INFO:\n",
      "\t [Node] Finished \"data_sink_T2_201_3\", elapsed time 0.002514s.\n"
     ]
    },
    {
     "name": "stderr",
     "output_type": "stream",
     "text": [
      "stty: 'standard input': Inappropriate ioctl for device\n"
     ]
    },
    {
     "name": "stdout",
     "output_type": "stream",
     "text": [
      "240711-13:18:05,722 nipype.workflow INFO:\n",
      "\t Workflow vbm_segment_1_T2_227 settings: ['check', 'execution', 'logging', 'monitoring']\n",
      "240711-13:18:05,725 nipype.workflow INFO:\n",
      "\t Running serially.\n",
      "240711-13:18:05,726 nipype.workflow INFO:\n",
      "\t [Node] Setting-up \"vbm_segment_1_T2_227.segment_T2_227_1\" in \"/home/sharapova/vbm_pipline/data/analysis_conditions/control_analysis/T2_227/segmentation/1_segment/vbm_segment_1_T2_227/segment_T2_227_1\".\n",
      "240711-13:18:05,728 nipype.workflow INFO:\n",
      "\t [Node] Executing \"segment_T2_227_1\" <nipype.interfaces.spm.preprocess.NewSegment>\n",
      "240711-13:18:54,500 nipype.workflow INFO:\n",
      "\t [Node] Finished \"segment_T2_227_1\", elapsed time 48.770065s.\n",
      "240711-13:18:54,509 nipype.workflow INFO:\n",
      "\t [Node] Setting-up \"vbm_segment_1_T2_227.data_sink_T2_227_1\" in \"/home/sharapova/vbm_pipline/data/analysis_conditions/control_analysis/T2_227/segmentation/1_segment/vbm_segment_1_T2_227/data_sink_T2_227_1\".\n",
      "240711-13:18:54,518 nipype.workflow INFO:\n",
      "\t [Node] Executing \"data_sink_T2_227_1\" <nipype.interfaces.io.DataSink>\n",
      "240711-13:18:54,522 nipype.workflow INFO:\n",
      "\t [Node] Finished \"data_sink_T2_227_1\", elapsed time 0.002397s.\n"
     ]
    },
    {
     "name": "stderr",
     "output_type": "stream",
     "text": [
      "stty: 'standard input': Inappropriate ioctl for device\n"
     ]
    },
    {
     "name": "stdout",
     "output_type": "stream",
     "text": [
      "240711-13:18:55,176 nipype.workflow INFO:\n",
      "\t Workflow vbm_segment_2_T2_227 settings: ['check', 'execution', 'logging', 'monitoring']\n",
      "240711-13:18:55,179 nipype.workflow INFO:\n",
      "\t Running serially.\n",
      "240711-13:18:55,179 nipype.workflow INFO:\n",
      "\t [Node] Setting-up \"vbm_segment_2_T2_227.segment_T2_227_2\" in \"/home/sharapova/vbm_pipline/data/analysis_conditions/control_analysis/T2_227/segmentation/2_segment/vbm_segment_2_T2_227/segment_T2_227_2\".\n",
      "240711-13:18:55,182 nipype.workflow INFO:\n",
      "\t [Node] Executing \"segment_T2_227_2\" <nipype.interfaces.spm.preprocess.NewSegment>\n",
      "240711-13:19:35,694 nipype.workflow INFO:\n",
      "\t [Node] Finished \"segment_T2_227_2\", elapsed time 40.511897s.\n",
      "240711-13:19:35,698 nipype.workflow INFO:\n",
      "\t [Node] Setting-up \"vbm_segment_2_T2_227.data_sink_T2_227_2\" in \"/home/sharapova/vbm_pipline/data/analysis_conditions/control_analysis/T2_227/segmentation/2_segment/vbm_segment_2_T2_227/data_sink_T2_227_2\".\n",
      "240711-13:19:35,702 nipype.workflow INFO:\n",
      "\t [Node] Executing \"data_sink_T2_227_2\" <nipype.interfaces.io.DataSink>\n",
      "240711-13:19:35,705 nipype.workflow INFO:\n",
      "\t [Node] Finished \"data_sink_T2_227_2\", elapsed time 0.001548s.\n"
     ]
    },
    {
     "name": "stderr",
     "output_type": "stream",
     "text": [
      "stty: 'standard input': Inappropriate ioctl for device\n"
     ]
    },
    {
     "name": "stdout",
     "output_type": "stream",
     "text": [
      "240711-13:19:36,409 nipype.workflow INFO:\n",
      "\t Workflow vbm_segment_3_T2_227 settings: ['check', 'execution', 'logging', 'monitoring']\n",
      "240711-13:19:36,414 nipype.workflow INFO:\n",
      "\t Running serially.\n",
      "240711-13:19:36,415 nipype.workflow INFO:\n",
      "\t [Node] Setting-up \"vbm_segment_3_T2_227.segment_T2_227_3\" in \"/home/sharapova/vbm_pipline/data/analysis_conditions/control_analysis/T2_227/segmentation/3_segment/vbm_segment_3_T2_227/segment_T2_227_3\".\n",
      "240711-13:19:36,419 nipype.workflow INFO:\n",
      "\t [Node] Executing \"segment_T2_227_3\" <nipype.interfaces.spm.preprocess.NewSegment>\n",
      "240711-13:20:14,289 nipype.workflow INFO:\n",
      "\t [Node] Finished \"segment_T2_227_3\", elapsed time 37.869659s.\n",
      "240711-13:20:14,293 nipype.workflow INFO:\n",
      "\t [Node] Setting-up \"vbm_segment_3_T2_227.data_sink_T2_227_3\" in \"/home/sharapova/vbm_pipline/data/analysis_conditions/control_analysis/T2_227/segmentation/3_segment/vbm_segment_3_T2_227/data_sink_T2_227_3\".\n",
      "240711-13:20:14,297 nipype.workflow INFO:\n",
      "\t [Node] Executing \"data_sink_T2_227_3\" <nipype.interfaces.io.DataSink>\n",
      "240711-13:20:14,301 nipype.workflow INFO:\n",
      "\t [Node] Finished \"data_sink_T2_227_3\", elapsed time 0.002028s.\n"
     ]
    },
    {
     "name": "stderr",
     "output_type": "stream",
     "text": [
      "stty: 'standard input': Inappropriate ioctl for device\n"
     ]
    },
    {
     "name": "stdout",
     "output_type": "stream",
     "text": [
      "240711-13:20:14,952 nipype.workflow INFO:\n",
      "\t Workflow vbm_segment_1_T2_223 settings: ['check', 'execution', 'logging', 'monitoring']\n",
      "240711-13:20:14,955 nipype.workflow INFO:\n",
      "\t Running serially.\n",
      "240711-13:20:14,955 nipype.workflow INFO:\n",
      "\t [Node] Setting-up \"vbm_segment_1_T2_223.segment_T2_223_1\" in \"/home/sharapova/vbm_pipline/data/analysis_conditions/control_analysis/T2_223/segmentation/1_segment/vbm_segment_1_T2_223/segment_T2_223_1\".\n",
      "240711-13:20:14,959 nipype.workflow INFO:\n",
      "\t [Node] Executing \"segment_T2_223_1\" <nipype.interfaces.spm.preprocess.NewSegment>\n",
      "240711-13:21:09,980 nipype.workflow INFO:\n",
      "\t [Node] Finished \"segment_T2_223_1\", elapsed time 55.020029s.\n",
      "240711-13:21:09,984 nipype.workflow INFO:\n",
      "\t [Node] Setting-up \"vbm_segment_1_T2_223.data_sink_T2_223_1\" in \"/home/sharapova/vbm_pipline/data/analysis_conditions/control_analysis/T2_223/segmentation/1_segment/vbm_segment_1_T2_223/data_sink_T2_223_1\".\n",
      "240711-13:21:09,989 nipype.workflow INFO:\n",
      "\t [Node] Executing \"data_sink_T2_223_1\" <nipype.interfaces.io.DataSink>\n",
      "240711-13:21:09,993 nipype.workflow INFO:\n",
      "\t [Node] Finished \"data_sink_T2_223_1\", elapsed time 0.001894s.\n"
     ]
    },
    {
     "name": "stderr",
     "output_type": "stream",
     "text": [
      "stty: 'standard input': Inappropriate ioctl for device\n"
     ]
    },
    {
     "name": "stdout",
     "output_type": "stream",
     "text": [
      "240711-13:21:10,696 nipype.workflow INFO:\n",
      "\t Workflow vbm_segment_2_T2_223 settings: ['check', 'execution', 'logging', 'monitoring']\n",
      "240711-13:21:10,702 nipype.workflow INFO:\n",
      "\t Running serially.\n",
      "240711-13:21:10,703 nipype.workflow INFO:\n",
      "\t [Node] Setting-up \"vbm_segment_2_T2_223.segment_T2_223_2\" in \"/home/sharapova/vbm_pipline/data/analysis_conditions/control_analysis/T2_223/segmentation/2_segment/vbm_segment_2_T2_223/segment_T2_223_2\".\n",
      "240711-13:21:10,706 nipype.workflow INFO:\n",
      "\t [Node] Executing \"segment_T2_223_2\" <nipype.interfaces.spm.preprocess.NewSegment>\n",
      "240711-13:21:50,112 nipype.workflow INFO:\n",
      "\t [Node] Finished \"segment_T2_223_2\", elapsed time 39.405365s.\n",
      "240711-13:21:50,116 nipype.workflow INFO:\n",
      "\t [Node] Setting-up \"vbm_segment_2_T2_223.data_sink_T2_223_2\" in \"/home/sharapova/vbm_pipline/data/analysis_conditions/control_analysis/T2_223/segmentation/2_segment/vbm_segment_2_T2_223/data_sink_T2_223_2\".\n",
      "240711-13:21:50,121 nipype.workflow INFO:\n",
      "\t [Node] Executing \"data_sink_T2_223_2\" <nipype.interfaces.io.DataSink>\n",
      "240711-13:21:50,124 nipype.workflow INFO:\n",
      "\t [Node] Finished \"data_sink_T2_223_2\", elapsed time 0.002044s.\n"
     ]
    },
    {
     "name": "stderr",
     "output_type": "stream",
     "text": [
      "stty: 'standard input': Inappropriate ioctl for device\n"
     ]
    },
    {
     "name": "stdout",
     "output_type": "stream",
     "text": [
      "240711-13:21:50,737 nipype.workflow INFO:\n",
      "\t Workflow vbm_segment_3_T2_223 settings: ['check', 'execution', 'logging', 'monitoring']\n",
      "240711-13:21:50,740 nipype.workflow INFO:\n",
      "\t Running serially.\n",
      "240711-13:21:50,741 nipype.workflow INFO:\n",
      "\t [Node] Setting-up \"vbm_segment_3_T2_223.segment_T2_223_3\" in \"/home/sharapova/vbm_pipline/data/analysis_conditions/control_analysis/T2_223/segmentation/3_segment/vbm_segment_3_T2_223/segment_T2_223_3\".\n",
      "240711-13:21:50,744 nipype.workflow INFO:\n",
      "\t [Node] Executing \"segment_T2_223_3\" <nipype.interfaces.spm.preprocess.NewSegment>\n",
      "240711-13:22:27,884 nipype.workflow INFO:\n",
      "\t [Node] Finished \"segment_T2_223_3\", elapsed time 37.139621s.\n",
      "240711-13:22:27,888 nipype.workflow INFO:\n",
      "\t [Node] Setting-up \"vbm_segment_3_T2_223.data_sink_T2_223_3\" in \"/home/sharapova/vbm_pipline/data/analysis_conditions/control_analysis/T2_223/segmentation/3_segment/vbm_segment_3_T2_223/data_sink_T2_223_3\".\n",
      "240711-13:22:27,892 nipype.workflow INFO:\n",
      "\t [Node] Executing \"data_sink_T2_223_3\" <nipype.interfaces.io.DataSink>\n",
      "240711-13:22:27,895 nipype.workflow INFO:\n",
      "\t [Node] Finished \"data_sink_T2_223_3\", elapsed time 0.001487s.\n"
     ]
    },
    {
     "name": "stderr",
     "output_type": "stream",
     "text": [
      "stty: 'standard input': Inappropriate ioctl for device\n"
     ]
    },
    {
     "name": "stdout",
     "output_type": "stream",
     "text": [
      "240711-13:22:28,547 nipype.workflow INFO:\n",
      "\t Workflow vbm_segment_1_T2_226 settings: ['check', 'execution', 'logging', 'monitoring']\n",
      "240711-13:22:28,549 nipype.workflow INFO:\n",
      "\t Running serially.\n",
      "240711-13:22:28,550 nipype.workflow INFO:\n",
      "\t [Node] Setting-up \"vbm_segment_1_T2_226.segment_T2_226_1\" in \"/home/sharapova/vbm_pipline/data/analysis_conditions/control_analysis/T2_226/segmentation/1_segment/vbm_segment_1_T2_226/segment_T2_226_1\".\n",
      "240711-13:22:28,554 nipype.workflow INFO:\n",
      "\t [Node] Executing \"segment_T2_226_1\" <nipype.interfaces.spm.preprocess.NewSegment>\n",
      "240711-13:23:12,899 nipype.workflow INFO:\n",
      "\t [Node] Finished \"segment_T2_226_1\", elapsed time 44.344069s.\n",
      "240711-13:23:12,905 nipype.workflow INFO:\n",
      "\t [Node] Setting-up \"vbm_segment_1_T2_226.data_sink_T2_226_1\" in \"/home/sharapova/vbm_pipline/data/analysis_conditions/control_analysis/T2_226/segmentation/1_segment/vbm_segment_1_T2_226/data_sink_T2_226_1\".\n",
      "240711-13:23:12,912 nipype.workflow INFO:\n",
      "\t [Node] Executing \"data_sink_T2_226_1\" <nipype.interfaces.io.DataSink>\n",
      "240711-13:23:12,918 nipype.workflow INFO:\n",
      "\t [Node] Finished \"data_sink_T2_226_1\", elapsed time 0.002916s.\n"
     ]
    },
    {
     "name": "stderr",
     "output_type": "stream",
     "text": [
      "stty: 'standard input': Inappropriate ioctl for device\n"
     ]
    },
    {
     "name": "stdout",
     "output_type": "stream",
     "text": [
      "240711-13:23:13,548 nipype.workflow INFO:\n",
      "\t Workflow vbm_segment_2_T2_226 settings: ['check', 'execution', 'logging', 'monitoring']\n",
      "240711-13:23:13,551 nipype.workflow INFO:\n",
      "\t Running serially.\n",
      "240711-13:23:13,552 nipype.workflow INFO:\n",
      "\t [Node] Setting-up \"vbm_segment_2_T2_226.segment_T2_226_2\" in \"/home/sharapova/vbm_pipline/data/analysis_conditions/control_analysis/T2_226/segmentation/2_segment/vbm_segment_2_T2_226/segment_T2_226_2\".\n",
      "240711-13:23:13,555 nipype.workflow INFO:\n",
      "\t [Node] Executing \"segment_T2_226_2\" <nipype.interfaces.spm.preprocess.NewSegment>\n",
      "240711-13:23:54,441 nipype.workflow INFO:\n",
      "\t [Node] Finished \"segment_T2_226_2\", elapsed time 40.884819s.\n",
      "240711-13:23:54,445 nipype.workflow INFO:\n",
      "\t [Node] Setting-up \"vbm_segment_2_T2_226.data_sink_T2_226_2\" in \"/home/sharapova/vbm_pipline/data/analysis_conditions/control_analysis/T2_226/segmentation/2_segment/vbm_segment_2_T2_226/data_sink_T2_226_2\".\n",
      "240711-13:23:54,450 nipype.workflow INFO:\n",
      "\t [Node] Executing \"data_sink_T2_226_2\" <nipype.interfaces.io.DataSink>\n",
      "240711-13:23:54,453 nipype.workflow INFO:\n",
      "\t [Node] Finished \"data_sink_T2_226_2\", elapsed time 0.001776s.\n"
     ]
    },
    {
     "name": "stderr",
     "output_type": "stream",
     "text": [
      "stty: 'standard input': Inappropriate ioctl for device\n"
     ]
    },
    {
     "name": "stdout",
     "output_type": "stream",
     "text": [
      "240711-13:23:55,86 nipype.workflow INFO:\n",
      "\t Workflow vbm_segment_3_T2_226 settings: ['check', 'execution', 'logging', 'monitoring']\n",
      "240711-13:23:55,90 nipype.workflow INFO:\n",
      "\t Running serially.\n",
      "240711-13:23:55,90 nipype.workflow INFO:\n",
      "\t [Node] Setting-up \"vbm_segment_3_T2_226.segment_T2_226_3\" in \"/home/sharapova/vbm_pipline/data/analysis_conditions/control_analysis/T2_226/segmentation/3_segment/vbm_segment_3_T2_226/segment_T2_226_3\".\n",
      "240711-13:23:55,93 nipype.workflow INFO:\n",
      "\t [Node] Executing \"segment_T2_226_3\" <nipype.interfaces.spm.preprocess.NewSegment>\n",
      "240711-13:24:32,537 nipype.workflow INFO:\n",
      "\t [Node] Finished \"segment_T2_226_3\", elapsed time 37.442863s.\n",
      "240711-13:24:32,540 nipype.workflow INFO:\n",
      "\t [Node] Setting-up \"vbm_segment_3_T2_226.data_sink_T2_226_3\" in \"/home/sharapova/vbm_pipline/data/analysis_conditions/control_analysis/T2_226/segmentation/3_segment/vbm_segment_3_T2_226/data_sink_T2_226_3\".\n",
      "240711-13:24:32,545 nipype.workflow INFO:\n",
      "\t [Node] Executing \"data_sink_T2_226_3\" <nipype.interfaces.io.DataSink>\n",
      "240711-13:24:32,547 nipype.workflow INFO:\n",
      "\t [Node] Finished \"data_sink_T2_226_3\", elapsed time 0.001482s.\n"
     ]
    },
    {
     "name": "stderr",
     "output_type": "stream",
     "text": [
      "stty: 'standard input': Inappropriate ioctl for device\n"
     ]
    },
    {
     "name": "stdout",
     "output_type": "stream",
     "text": [
      "240711-13:24:33,180 nipype.workflow INFO:\n",
      "\t Workflow vbm_segment_1_T2_228 settings: ['check', 'execution', 'logging', 'monitoring']\n",
      "240711-13:24:33,183 nipype.workflow INFO:\n",
      "\t Running serially.\n",
      "240711-13:24:33,184 nipype.workflow INFO:\n",
      "\t [Node] Setting-up \"vbm_segment_1_T2_228.segment_T2_228_1\" in \"/home/sharapova/vbm_pipline/data/analysis_conditions/control_analysis/T2_228/segmentation/1_segment/vbm_segment_1_T2_228/segment_T2_228_1\".\n",
      "240711-13:24:33,187 nipype.workflow INFO:\n",
      "\t [Node] Executing \"segment_T2_228_1\" <nipype.interfaces.spm.preprocess.NewSegment>\n",
      "240711-13:25:20,557 nipype.workflow INFO:\n",
      "\t [Node] Finished \"segment_T2_228_1\", elapsed time 47.368214s.\n",
      "240711-13:25:20,562 nipype.workflow INFO:\n",
      "\t [Node] Setting-up \"vbm_segment_1_T2_228.data_sink_T2_228_1\" in \"/home/sharapova/vbm_pipline/data/analysis_conditions/control_analysis/T2_228/segmentation/1_segment/vbm_segment_1_T2_228/data_sink_T2_228_1\".\n",
      "240711-13:25:20,569 nipype.workflow INFO:\n",
      "\t [Node] Executing \"data_sink_T2_228_1\" <nipype.interfaces.io.DataSink>\n",
      "240711-13:25:20,574 nipype.workflow INFO:\n",
      "\t [Node] Finished \"data_sink_T2_228_1\", elapsed time 0.001935s.\n"
     ]
    },
    {
     "name": "stderr",
     "output_type": "stream",
     "text": [
      "stty: 'standard input': Inappropriate ioctl for device\n"
     ]
    },
    {
     "name": "stdout",
     "output_type": "stream",
     "text": [
      "240711-13:25:21,256 nipype.workflow INFO:\n",
      "\t Workflow vbm_segment_2_T2_228 settings: ['check', 'execution', 'logging', 'monitoring']\n",
      "240711-13:25:21,266 nipype.workflow INFO:\n",
      "\t Running serially.\n",
      "240711-13:25:21,267 nipype.workflow INFO:\n",
      "\t [Node] Setting-up \"vbm_segment_2_T2_228.segment_T2_228_2\" in \"/home/sharapova/vbm_pipline/data/analysis_conditions/control_analysis/T2_228/segmentation/2_segment/vbm_segment_2_T2_228/segment_T2_228_2\".\n",
      "240711-13:25:21,271 nipype.workflow INFO:\n",
      "\t [Node] Executing \"segment_T2_228_2\" <nipype.interfaces.spm.preprocess.NewSegment>\n",
      "240711-13:26:04,641 nipype.workflow INFO:\n",
      "\t [Node] Finished \"segment_T2_228_2\", elapsed time 43.367935s.\n",
      "240711-13:26:04,644 nipype.workflow INFO:\n",
      "\t [Node] Setting-up \"vbm_segment_2_T2_228.data_sink_T2_228_2\" in \"/home/sharapova/vbm_pipline/data/analysis_conditions/control_analysis/T2_228/segmentation/2_segment/vbm_segment_2_T2_228/data_sink_T2_228_2\".\n",
      "240711-13:26:04,648 nipype.workflow INFO:\n",
      "\t [Node] Executing \"data_sink_T2_228_2\" <nipype.interfaces.io.DataSink>\n",
      "240711-13:26:04,651 nipype.workflow INFO:\n",
      "\t [Node] Finished \"data_sink_T2_228_2\", elapsed time 0.002043s.\n"
     ]
    },
    {
     "name": "stderr",
     "output_type": "stream",
     "text": [
      "stty: 'standard input': Inappropriate ioctl for device\n"
     ]
    },
    {
     "name": "stdout",
     "output_type": "stream",
     "text": [
      "240711-13:26:05,255 nipype.workflow INFO:\n",
      "\t Workflow vbm_segment_3_T2_228 settings: ['check', 'execution', 'logging', 'monitoring']\n",
      "240711-13:26:05,258 nipype.workflow INFO:\n",
      "\t Running serially.\n",
      "240711-13:26:05,259 nipype.workflow INFO:\n",
      "\t [Node] Setting-up \"vbm_segment_3_T2_228.segment_T2_228_3\" in \"/home/sharapova/vbm_pipline/data/analysis_conditions/control_analysis/T2_228/segmentation/3_segment/vbm_segment_3_T2_228/segment_T2_228_3\".\n",
      "240711-13:26:05,262 nipype.workflow INFO:\n",
      "\t [Node] Executing \"segment_T2_228_3\" <nipype.interfaces.spm.preprocess.NewSegment>\n",
      "240711-13:26:39,769 nipype.workflow INFO:\n",
      "\t [Node] Finished \"segment_T2_228_3\", elapsed time 34.505455s.\n",
      "240711-13:26:39,773 nipype.workflow INFO:\n",
      "\t [Node] Setting-up \"vbm_segment_3_T2_228.data_sink_T2_228_3\" in \"/home/sharapova/vbm_pipline/data/analysis_conditions/control_analysis/T2_228/segmentation/3_segment/vbm_segment_3_T2_228/data_sink_T2_228_3\".\n",
      "240711-13:26:39,778 nipype.workflow INFO:\n",
      "\t [Node] Executing \"data_sink_T2_228_3\" <nipype.interfaces.io.DataSink>\n",
      "240711-13:26:39,781 nipype.workflow INFO:\n",
      "\t [Node] Finished \"data_sink_T2_228_3\", elapsed time 0.001346s.\n"
     ]
    },
    {
     "name": "stderr",
     "output_type": "stream",
     "text": [
      "stty: 'standard input': Inappropriate ioctl for device\n"
     ]
    },
    {
     "name": "stdout",
     "output_type": "stream",
     "text": [
      "240711-13:26:40,355 nipype.workflow INFO:\n",
      "\t Workflow vbm_segment_1_T2_225 settings: ['check', 'execution', 'logging', 'monitoring']\n",
      "240711-13:26:40,358 nipype.workflow INFO:\n",
      "\t Running serially.\n",
      "240711-13:26:40,359 nipype.workflow INFO:\n",
      "\t [Node] Setting-up \"vbm_segment_1_T2_225.segment_T2_225_1\" in \"/home/sharapova/vbm_pipline/data/analysis_conditions/control_analysis/T2_225/segmentation/1_segment/vbm_segment_1_T2_225/segment_T2_225_1\".\n",
      "240711-13:26:40,361 nipype.workflow INFO:\n",
      "\t [Node] Executing \"segment_T2_225_1\" <nipype.interfaces.spm.preprocess.NewSegment>\n",
      "240711-13:27:27,142 nipype.workflow INFO:\n",
      "\t [Node] Finished \"segment_T2_225_1\", elapsed time 46.779346s.\n",
      "240711-13:27:27,146 nipype.workflow INFO:\n",
      "\t [Node] Setting-up \"vbm_segment_1_T2_225.data_sink_T2_225_1\" in \"/home/sharapova/vbm_pipline/data/analysis_conditions/control_analysis/T2_225/segmentation/1_segment/vbm_segment_1_T2_225/data_sink_T2_225_1\".\n",
      "240711-13:27:27,152 nipype.workflow INFO:\n",
      "\t [Node] Executing \"data_sink_T2_225_1\" <nipype.interfaces.io.DataSink>\n",
      "240711-13:27:27,156 nipype.workflow INFO:\n",
      "\t [Node] Finished \"data_sink_T2_225_1\", elapsed time 0.003057s.\n"
     ]
    },
    {
     "name": "stderr",
     "output_type": "stream",
     "text": [
      "stty: 'standard input': Inappropriate ioctl for device\n"
     ]
    },
    {
     "name": "stdout",
     "output_type": "stream",
     "text": [
      "240711-13:27:27,847 nipype.workflow INFO:\n",
      "\t Workflow vbm_segment_2_T2_225 settings: ['check', 'execution', 'logging', 'monitoring']\n",
      "240711-13:27:27,852 nipype.workflow INFO:\n",
      "\t Running serially.\n",
      "240711-13:27:27,853 nipype.workflow INFO:\n",
      "\t [Node] Setting-up \"vbm_segment_2_T2_225.segment_T2_225_2\" in \"/home/sharapova/vbm_pipline/data/analysis_conditions/control_analysis/T2_225/segmentation/2_segment/vbm_segment_2_T2_225/segment_T2_225_2\".\n",
      "240711-13:27:27,857 nipype.workflow INFO:\n",
      "\t [Node] Executing \"segment_T2_225_2\" <nipype.interfaces.spm.preprocess.NewSegment>\n",
      "240711-13:28:05,44 nipype.workflow INFO:\n",
      "\t [Node] Finished \"segment_T2_225_2\", elapsed time 37.185221s.\n",
      "240711-13:28:05,48 nipype.workflow INFO:\n",
      "\t [Node] Setting-up \"vbm_segment_2_T2_225.data_sink_T2_225_2\" in \"/home/sharapova/vbm_pipline/data/analysis_conditions/control_analysis/T2_225/segmentation/2_segment/vbm_segment_2_T2_225/data_sink_T2_225_2\".\n",
      "240711-13:28:05,52 nipype.workflow INFO:\n",
      "\t [Node] Executing \"data_sink_T2_225_2\" <nipype.interfaces.io.DataSink>\n",
      "240711-13:28:05,55 nipype.workflow INFO:\n",
      "\t [Node] Finished \"data_sink_T2_225_2\", elapsed time 0.001713s.\n"
     ]
    },
    {
     "name": "stderr",
     "output_type": "stream",
     "text": [
      "stty: 'standard input': Inappropriate ioctl for device\n"
     ]
    },
    {
     "name": "stdout",
     "output_type": "stream",
     "text": [
      "240711-13:28:05,697 nipype.workflow INFO:\n",
      "\t Workflow vbm_segment_3_T2_225 settings: ['check', 'execution', 'logging', 'monitoring']\n",
      "240711-13:28:05,701 nipype.workflow INFO:\n",
      "\t Running serially.\n",
      "240711-13:28:05,701 nipype.workflow INFO:\n",
      "\t [Node] Setting-up \"vbm_segment_3_T2_225.segment_T2_225_3\" in \"/home/sharapova/vbm_pipline/data/analysis_conditions/control_analysis/T2_225/segmentation/3_segment/vbm_segment_3_T2_225/segment_T2_225_3\".\n",
      "240711-13:28:05,704 nipype.workflow INFO:\n",
      "\t [Node] Executing \"segment_T2_225_3\" <nipype.interfaces.spm.preprocess.NewSegment>\n",
      "240711-13:28:42,172 nipype.workflow INFO:\n",
      "\t [Node] Finished \"segment_T2_225_3\", elapsed time 36.466092s.\n",
      "240711-13:28:42,177 nipype.workflow INFO:\n",
      "\t [Node] Setting-up \"vbm_segment_3_T2_225.data_sink_T2_225_3\" in \"/home/sharapova/vbm_pipline/data/analysis_conditions/control_analysis/T2_225/segmentation/3_segment/vbm_segment_3_T2_225/data_sink_T2_225_3\".\n",
      "240711-13:28:42,184 nipype.workflow INFO:\n",
      "\t [Node] Executing \"data_sink_T2_225_3\" <nipype.interfaces.io.DataSink>\n",
      "240711-13:28:42,189 nipype.workflow INFO:\n",
      "\t [Node] Finished \"data_sink_T2_225_3\", elapsed time 0.003292s.\n"
     ]
    },
    {
     "name": "stderr",
     "output_type": "stream",
     "text": [
      "stty: 'standard input': Inappropriate ioctl for device\n"
     ]
    },
    {
     "name": "stdout",
     "output_type": "stream",
     "text": [
      "240711-13:28:42,828 nipype.workflow INFO:\n",
      "\t Workflow vbm_segment_1_T2_224 settings: ['check', 'execution', 'logging', 'monitoring']\n",
      "240711-13:28:42,831 nipype.workflow INFO:\n",
      "\t Running serially.\n",
      "240711-13:28:42,831 nipype.workflow INFO:\n",
      "\t [Node] Setting-up \"vbm_segment_1_T2_224.segment_T2_224_1\" in \"/home/sharapova/vbm_pipline/data/analysis_conditions/control_analysis/T2_224/segmentation/1_segment/vbm_segment_1_T2_224/segment_T2_224_1\".\n",
      "240711-13:28:42,834 nipype.workflow INFO:\n",
      "\t [Node] Executing \"segment_T2_224_1\" <nipype.interfaces.spm.preprocess.NewSegment>\n",
      "240711-13:29:54,5 nipype.workflow INFO:\n",
      "\t [Node] Finished \"segment_T2_224_1\", elapsed time 71.16967s.\n",
      "240711-13:29:54,11 nipype.workflow INFO:\n",
      "\t [Node] Setting-up \"vbm_segment_1_T2_224.data_sink_T2_224_1\" in \"/home/sharapova/vbm_pipline/data/analysis_conditions/control_analysis/T2_224/segmentation/1_segment/vbm_segment_1_T2_224/data_sink_T2_224_1\".\n",
      "240711-13:29:54,20 nipype.workflow INFO:\n",
      "\t [Node] Executing \"data_sink_T2_224_1\" <nipype.interfaces.io.DataSink>\n",
      "240711-13:29:54,24 nipype.workflow INFO:\n",
      "\t [Node] Finished \"data_sink_T2_224_1\", elapsed time 0.002258s.\n"
     ]
    },
    {
     "name": "stderr",
     "output_type": "stream",
     "text": [
      "stty: 'standard input': Inappropriate ioctl for device\n"
     ]
    },
    {
     "name": "stdout",
     "output_type": "stream",
     "text": [
      "240711-13:29:54,673 nipype.workflow INFO:\n",
      "\t Workflow vbm_segment_2_T2_224 settings: ['check', 'execution', 'logging', 'monitoring']\n",
      "240711-13:29:54,676 nipype.workflow INFO:\n",
      "\t Running serially.\n",
      "240711-13:29:54,677 nipype.workflow INFO:\n",
      "\t [Node] Setting-up \"vbm_segment_2_T2_224.segment_T2_224_2\" in \"/home/sharapova/vbm_pipline/data/analysis_conditions/control_analysis/T2_224/segmentation/2_segment/vbm_segment_2_T2_224/segment_T2_224_2\".\n",
      "240711-13:29:54,680 nipype.workflow INFO:\n",
      "\t [Node] Executing \"segment_T2_224_2\" <nipype.interfaces.spm.preprocess.NewSegment>\n",
      "240711-13:30:42,282 nipype.workflow INFO:\n",
      "\t [Node] Finished \"segment_T2_224_2\", elapsed time 47.598968s.\n",
      "240711-13:30:42,286 nipype.workflow INFO:\n",
      "\t [Node] Setting-up \"vbm_segment_2_T2_224.data_sink_T2_224_2\" in \"/home/sharapova/vbm_pipline/data/analysis_conditions/control_analysis/T2_224/segmentation/2_segment/vbm_segment_2_T2_224/data_sink_T2_224_2\".\n",
      "240711-13:30:42,291 nipype.workflow INFO:\n",
      "\t [Node] Executing \"data_sink_T2_224_2\" <nipype.interfaces.io.DataSink>\n",
      "240711-13:30:42,293 nipype.workflow INFO:\n",
      "\t [Node] Finished \"data_sink_T2_224_2\", elapsed time 0.001646s.\n"
     ]
    },
    {
     "name": "stderr",
     "output_type": "stream",
     "text": [
      "stty: 'standard input': Inappropriate ioctl for device\n"
     ]
    },
    {
     "name": "stdout",
     "output_type": "stream",
     "text": [
      "240711-13:30:42,941 nipype.workflow INFO:\n",
      "\t Workflow vbm_segment_3_T2_224 settings: ['check', 'execution', 'logging', 'monitoring']\n",
      "240711-13:30:42,945 nipype.workflow INFO:\n",
      "\t Running serially.\n",
      "240711-13:30:42,945 nipype.workflow INFO:\n",
      "\t [Node] Setting-up \"vbm_segment_3_T2_224.segment_T2_224_3\" in \"/home/sharapova/vbm_pipline/data/analysis_conditions/control_analysis/T2_224/segmentation/3_segment/vbm_segment_3_T2_224/segment_T2_224_3\".\n",
      "240711-13:30:42,949 nipype.workflow INFO:\n",
      "\t [Node] Executing \"segment_T2_224_3\" <nipype.interfaces.spm.preprocess.NewSegment>\n",
      "240711-13:31:21,33 nipype.workflow INFO:\n",
      "\t [Node] Finished \"segment_T2_224_3\", elapsed time 38.082377s.\n",
      "240711-13:31:21,38 nipype.workflow INFO:\n",
      "\t [Node] Setting-up \"vbm_segment_3_T2_224.data_sink_T2_224_3\" in \"/home/sharapova/vbm_pipline/data/analysis_conditions/control_analysis/T2_224/segmentation/3_segment/vbm_segment_3_T2_224/data_sink_T2_224_3\".\n",
      "240711-13:31:21,44 nipype.workflow INFO:\n",
      "\t [Node] Executing \"data_sink_T2_224_3\" <nipype.interfaces.io.DataSink>\n",
      "240711-13:31:21,50 nipype.workflow INFO:\n",
      "\t [Node] Finished \"data_sink_T2_224_3\", elapsed time 0.003272s.\n"
     ]
    },
    {
     "name": "stderr",
     "output_type": "stream",
     "text": [
      "stty: 'standard input': Inappropriate ioctl for device\n"
     ]
    },
    {
     "name": "stdout",
     "output_type": "stream",
     "text": [
      "General report saved at: data/analysis_conditions/general_report.html\n"
     ]
    }
   ],
   "source": [
    "import os\n",
    "from modalities.test_mask_segment import  segment_brain_images, mask_brain_images\n",
    "from modalities.report_segmentation import traverse_and_generate_report\n",
    "\n",
    "def run_segmentation_and_masking(input_folder: str, tpm_path: str):\n",
    "    # searching for .nii files within the subdirectories of input_folder\n",
    "    subject_ids = []\n",
    "    for root, _, files in os.walk(input_folder):\n",
    "        for file in files:\n",
    "            if file.endswith('.nii'):\n",
    "                subject_ids.append(os.path.join(root, file))\n",
    "    \n",
    "    print(subject_ids)  # check .nii files\n",
    "\n",
    "    for input_file in subject_ids:\n",
    "        subject_id = os.path.basename(input_file).split('.')[0]\n",
    "        subject_folder = os.path.dirname(input_file)\n",
    "        segmentation_folder = os.path.join(subject_folder, 'segmentation')\n",
    "        os.makedirs(segmentation_folder, exist_ok=True)\n",
    "        \n",
    "        for iteration in range(1, 4):\n",
    "            segmentation_output = segment_brain_images(input_file, tpm_path, iteration, subject_id, subject_folder)\n",
    "            if not segmentation_output:\n",
    "                print(f\"Segmentation failed for {input_file} in iteration {iteration}\")\n",
    "                break\n",
    "            mask_output = mask_brain_images(os.path.join(segmentation_folder, f'{iteration}_segment'), subject_folder, subject_id, iteration)\n",
    "            input_file = os.path.join(segmentation_folder, f'{iteration}_mask', f'masked_{subject_id}.nii')\n",
    "            \n",
    "            # renaming the masked output to the original file name for the next iter\n",
    "            next_input_file = os.path.join(segmentation_folder, f'{iteration}_mask', f'{subject_id}.nii') \n",
    "            os.rename(input_file, next_input_file)\n",
    "            input_file = next_input_file\n",
    "    \n",
    "    # Generate the report after all subjects have been processed\n",
    "    traverse_and_generate_report(input_folder, input_folder)\n",
    "\n",
    "# Example usage:\n",
    "input_folder = 'data/analysis_conditions/'\n",
    "tpm_path = 'data/TPM'\n",
    "run_segmentation_and_masking(input_folder, tpm_path)"
   ]
  },
  {
   "cell_type": "markdown",
   "metadata": {},
   "source": [
    "# Dartel"
   ]
  },
  {
   "cell_type": "code",
   "execution_count": 7,
   "metadata": {},
   "outputs": [
    {
     "name": "stdout",
     "output_type": "stream",
     "text": [
      "The autoreload extension is already loaded. To reload it, use:\n",
      "  %reload_ext autoreload\n",
      "Copied /home/sharapova/vbm_pipline/data/analysis_conditions/Treated_by_psilocin_analysis/T2_176/segmentation/3_segment/native_class_images/c1T2_176.nii to /home/sharapova/vbm_pipline/data/analysis_conditions/Dartel/c1/c1T2_176.nii\n",
      "Copied /home/sharapova/vbm_pipline/data/analysis_conditions/Treated_by_psilocin_analysis/T2_176/segmentation/3_segment/native_class_images/c2T2_176.nii to /home/sharapova/vbm_pipline/data/analysis_conditions/Dartel/c2/c2T2_176.nii\n",
      "Copied /home/sharapova/vbm_pipline/data/analysis_conditions/Treated_by_psilocin_analysis/T2_176/segmentation/3_segment/dartel_input_images/rc1T2_176.nii to /home/sharapova/vbm_pipline/data/analysis_conditions/Dartel/rc1/rc1T2_176.nii\n",
      "Copied /home/sharapova/vbm_pipline/data/analysis_conditions/Treated_by_psilocin_analysis/T2_176/segmentation/3_segment/dartel_input_images/rc2T2_176.nii to /home/sharapova/vbm_pipline/data/analysis_conditions/Dartel/rc2/rc2T2_176.nii\n",
      "Copied /home/sharapova/vbm_pipline/data/analysis_conditions/Treated_by_psilocin_analysis/T2_176/segmentation/3_segment/dartel_input_images/rc3T2_176.nii to /home/sharapova/vbm_pipline/data/analysis_conditions/Dartel/rc3/rc3T2_176.nii\n",
      "Copied /home/sharapova/vbm_pipline/data/analysis_conditions/Treated_by_psilocin_analysis/T2_177/segmentation/3_segment/native_class_images/c1T2_177.nii to /home/sharapova/vbm_pipline/data/analysis_conditions/Dartel/c1/c1T2_177.nii\n",
      "Copied /home/sharapova/vbm_pipline/data/analysis_conditions/Treated_by_psilocin_analysis/T2_177/segmentation/3_segment/native_class_images/c2T2_177.nii to /home/sharapova/vbm_pipline/data/analysis_conditions/Dartel/c2/c2T2_177.nii\n",
      "Copied /home/sharapova/vbm_pipline/data/analysis_conditions/Treated_by_psilocin_analysis/T2_177/segmentation/3_segment/dartel_input_images/rc1T2_177.nii to /home/sharapova/vbm_pipline/data/analysis_conditions/Dartel/rc1/rc1T2_177.nii\n",
      "Copied /home/sharapova/vbm_pipline/data/analysis_conditions/Treated_by_psilocin_analysis/T2_177/segmentation/3_segment/dartel_input_images/rc2T2_177.nii to /home/sharapova/vbm_pipline/data/analysis_conditions/Dartel/rc2/rc2T2_177.nii\n",
      "Copied /home/sharapova/vbm_pipline/data/analysis_conditions/Treated_by_psilocin_analysis/T2_177/segmentation/3_segment/dartel_input_images/rc3T2_177.nii to /home/sharapova/vbm_pipline/data/analysis_conditions/Dartel/rc3/rc3T2_177.nii\n",
      "Copied /home/sharapova/vbm_pipline/data/analysis_conditions/Treated_by_psilocin_analysis/T2_174/segmentation/3_segment/native_class_images/c1T2_174.nii to /home/sharapova/vbm_pipline/data/analysis_conditions/Dartel/c1/c1T2_174.nii\n",
      "Copied /home/sharapova/vbm_pipline/data/analysis_conditions/Treated_by_psilocin_analysis/T2_174/segmentation/3_segment/native_class_images/c2T2_174.nii to /home/sharapova/vbm_pipline/data/analysis_conditions/Dartel/c2/c2T2_174.nii\n",
      "Copied /home/sharapova/vbm_pipline/data/analysis_conditions/Treated_by_psilocin_analysis/T2_174/segmentation/3_segment/dartel_input_images/rc1T2_174.nii to /home/sharapova/vbm_pipline/data/analysis_conditions/Dartel/rc1/rc1T2_174.nii\n",
      "Copied /home/sharapova/vbm_pipline/data/analysis_conditions/Treated_by_psilocin_analysis/T2_174/segmentation/3_segment/dartel_input_images/rc2T2_174.nii to /home/sharapova/vbm_pipline/data/analysis_conditions/Dartel/rc2/rc2T2_174.nii\n",
      "Copied /home/sharapova/vbm_pipline/data/analysis_conditions/Treated_by_psilocin_analysis/T2_174/segmentation/3_segment/dartel_input_images/rc3T2_174.nii to /home/sharapova/vbm_pipline/data/analysis_conditions/Dartel/rc3/rc3T2_174.nii\n",
      "Copied /home/sharapova/vbm_pipline/data/analysis_conditions/Treated_by_psilocin_analysis/T2_178/segmentation/3_segment/native_class_images/c1T2_178.nii to /home/sharapova/vbm_pipline/data/analysis_conditions/Dartel/c1/c1T2_178.nii\n",
      "Copied /home/sharapova/vbm_pipline/data/analysis_conditions/Treated_by_psilocin_analysis/T2_178/segmentation/3_segment/native_class_images/c2T2_178.nii to /home/sharapova/vbm_pipline/data/analysis_conditions/Dartel/c2/c2T2_178.nii\n",
      "Copied /home/sharapova/vbm_pipline/data/analysis_conditions/Treated_by_psilocin_analysis/T2_178/segmentation/3_segment/dartel_input_images/rc1T2_178.nii to /home/sharapova/vbm_pipline/data/analysis_conditions/Dartel/rc1/rc1T2_178.nii\n",
      "Copied /home/sharapova/vbm_pipline/data/analysis_conditions/Treated_by_psilocin_analysis/T2_178/segmentation/3_segment/dartel_input_images/rc2T2_178.nii to /home/sharapova/vbm_pipline/data/analysis_conditions/Dartel/rc2/rc2T2_178.nii\n",
      "Copied /home/sharapova/vbm_pipline/data/analysis_conditions/Treated_by_psilocin_analysis/T2_178/segmentation/3_segment/dartel_input_images/rc3T2_178.nii to /home/sharapova/vbm_pipline/data/analysis_conditions/Dartel/rc3/rc3T2_178.nii\n",
      "Copied /home/sharapova/vbm_pipline/data/analysis_conditions/Treated_by_psilocin_analysis/T2_201/segmentation/3_segment/native_class_images/c1T2_201.nii to /home/sharapova/vbm_pipline/data/analysis_conditions/Dartel/c1/c1T2_201.nii\n",
      "Copied /home/sharapova/vbm_pipline/data/analysis_conditions/Treated_by_psilocin_analysis/T2_201/segmentation/3_segment/native_class_images/c2T2_201.nii to /home/sharapova/vbm_pipline/data/analysis_conditions/Dartel/c2/c2T2_201.nii\n",
      "Copied /home/sharapova/vbm_pipline/data/analysis_conditions/Treated_by_psilocin_analysis/T2_201/segmentation/3_segment/dartel_input_images/rc1T2_201.nii to /home/sharapova/vbm_pipline/data/analysis_conditions/Dartel/rc1/rc1T2_201.nii\n",
      "Copied /home/sharapova/vbm_pipline/data/analysis_conditions/Treated_by_psilocin_analysis/T2_201/segmentation/3_segment/dartel_input_images/rc2T2_201.nii to /home/sharapova/vbm_pipline/data/analysis_conditions/Dartel/rc2/rc2T2_201.nii\n",
      "Copied /home/sharapova/vbm_pipline/data/analysis_conditions/Treated_by_psilocin_analysis/T2_201/segmentation/3_segment/dartel_input_images/rc3T2_201.nii to /home/sharapova/vbm_pipline/data/analysis_conditions/Dartel/rc3/rc3T2_201.nii\n",
      "Copied /home/sharapova/vbm_pipline/data/analysis_conditions/control_analysis/T2_227/segmentation/3_segment/native_class_images/c1T2_227.nii to /home/sharapova/vbm_pipline/data/analysis_conditions/Dartel/c1/c1T2_227.nii\n",
      "Copied /home/sharapova/vbm_pipline/data/analysis_conditions/control_analysis/T2_227/segmentation/3_segment/native_class_images/c2T2_227.nii to /home/sharapova/vbm_pipline/data/analysis_conditions/Dartel/c2/c2T2_227.nii\n",
      "Copied /home/sharapova/vbm_pipline/data/analysis_conditions/control_analysis/T2_227/segmentation/3_segment/dartel_input_images/rc1T2_227.nii to /home/sharapova/vbm_pipline/data/analysis_conditions/Dartel/rc1/rc1T2_227.nii\n",
      "Copied /home/sharapova/vbm_pipline/data/analysis_conditions/control_analysis/T2_227/segmentation/3_segment/dartel_input_images/rc2T2_227.nii to /home/sharapova/vbm_pipline/data/analysis_conditions/Dartel/rc2/rc2T2_227.nii\n",
      "Copied /home/sharapova/vbm_pipline/data/analysis_conditions/control_analysis/T2_227/segmentation/3_segment/dartel_input_images/rc3T2_227.nii to /home/sharapova/vbm_pipline/data/analysis_conditions/Dartel/rc3/rc3T2_227.nii\n",
      "Copied /home/sharapova/vbm_pipline/data/analysis_conditions/control_analysis/T2_223/segmentation/3_segment/native_class_images/c1T2_223.nii to /home/sharapova/vbm_pipline/data/analysis_conditions/Dartel/c1/c1T2_223.nii\n",
      "Copied /home/sharapova/vbm_pipline/data/analysis_conditions/control_analysis/T2_223/segmentation/3_segment/native_class_images/c2T2_223.nii to /home/sharapova/vbm_pipline/data/analysis_conditions/Dartel/c2/c2T2_223.nii\n",
      "Copied /home/sharapova/vbm_pipline/data/analysis_conditions/control_analysis/T2_223/segmentation/3_segment/dartel_input_images/rc1T2_223.nii to /home/sharapova/vbm_pipline/data/analysis_conditions/Dartel/rc1/rc1T2_223.nii\n",
      "Copied /home/sharapova/vbm_pipline/data/analysis_conditions/control_analysis/T2_223/segmentation/3_segment/dartel_input_images/rc2T2_223.nii to /home/sharapova/vbm_pipline/data/analysis_conditions/Dartel/rc2/rc2T2_223.nii\n",
      "Copied /home/sharapova/vbm_pipline/data/analysis_conditions/control_analysis/T2_223/segmentation/3_segment/dartel_input_images/rc3T2_223.nii to /home/sharapova/vbm_pipline/data/analysis_conditions/Dartel/rc3/rc3T2_223.nii\n",
      "Copied /home/sharapova/vbm_pipline/data/analysis_conditions/control_analysis/T2_226/segmentation/3_segment/native_class_images/c1T2_226.nii to /home/sharapova/vbm_pipline/data/analysis_conditions/Dartel/c1/c1T2_226.nii\n",
      "Copied /home/sharapova/vbm_pipline/data/analysis_conditions/control_analysis/T2_226/segmentation/3_segment/native_class_images/c2T2_226.nii to /home/sharapova/vbm_pipline/data/analysis_conditions/Dartel/c2/c2T2_226.nii\n",
      "Copied /home/sharapova/vbm_pipline/data/analysis_conditions/control_analysis/T2_226/segmentation/3_segment/dartel_input_images/rc1T2_226.nii to /home/sharapova/vbm_pipline/data/analysis_conditions/Dartel/rc1/rc1T2_226.nii\n",
      "Copied /home/sharapova/vbm_pipline/data/analysis_conditions/control_analysis/T2_226/segmentation/3_segment/dartel_input_images/rc2T2_226.nii to /home/sharapova/vbm_pipline/data/analysis_conditions/Dartel/rc2/rc2T2_226.nii\n",
      "Copied /home/sharapova/vbm_pipline/data/analysis_conditions/control_analysis/T2_226/segmentation/3_segment/dartel_input_images/rc3T2_226.nii to /home/sharapova/vbm_pipline/data/analysis_conditions/Dartel/rc3/rc3T2_226.nii\n",
      "Copied /home/sharapova/vbm_pipline/data/analysis_conditions/control_analysis/T2_228/segmentation/3_segment/native_class_images/c1T2_228.nii to /home/sharapova/vbm_pipline/data/analysis_conditions/Dartel/c1/c1T2_228.nii\n",
      "Copied /home/sharapova/vbm_pipline/data/analysis_conditions/control_analysis/T2_228/segmentation/3_segment/native_class_images/c2T2_228.nii to /home/sharapova/vbm_pipline/data/analysis_conditions/Dartel/c2/c2T2_228.nii\n",
      "Copied /home/sharapova/vbm_pipline/data/analysis_conditions/control_analysis/T2_228/segmentation/3_segment/dartel_input_images/rc1T2_228.nii to /home/sharapova/vbm_pipline/data/analysis_conditions/Dartel/rc1/rc1T2_228.nii\n",
      "Copied /home/sharapova/vbm_pipline/data/analysis_conditions/control_analysis/T2_228/segmentation/3_segment/dartel_input_images/rc2T2_228.nii to /home/sharapova/vbm_pipline/data/analysis_conditions/Dartel/rc2/rc2T2_228.nii\n",
      "Copied /home/sharapova/vbm_pipline/data/analysis_conditions/control_analysis/T2_228/segmentation/3_segment/dartel_input_images/rc3T2_228.nii to /home/sharapova/vbm_pipline/data/analysis_conditions/Dartel/rc3/rc3T2_228.nii\n",
      "Copied /home/sharapova/vbm_pipline/data/analysis_conditions/control_analysis/T2_225/segmentation/3_segment/native_class_images/c1T2_225.nii to /home/sharapova/vbm_pipline/data/analysis_conditions/Dartel/c1/c1T2_225.nii\n",
      "Copied /home/sharapova/vbm_pipline/data/analysis_conditions/control_analysis/T2_225/segmentation/3_segment/native_class_images/c2T2_225.nii to /home/sharapova/vbm_pipline/data/analysis_conditions/Dartel/c2/c2T2_225.nii\n",
      "Copied /home/sharapova/vbm_pipline/data/analysis_conditions/control_analysis/T2_225/segmentation/3_segment/dartel_input_images/rc1T2_225.nii to /home/sharapova/vbm_pipline/data/analysis_conditions/Dartel/rc1/rc1T2_225.nii\n",
      "Copied /home/sharapova/vbm_pipline/data/analysis_conditions/control_analysis/T2_225/segmentation/3_segment/dartel_input_images/rc2T2_225.nii to /home/sharapova/vbm_pipline/data/analysis_conditions/Dartel/rc2/rc2T2_225.nii\n",
      "Copied /home/sharapova/vbm_pipline/data/analysis_conditions/control_analysis/T2_225/segmentation/3_segment/dartel_input_images/rc3T2_225.nii to /home/sharapova/vbm_pipline/data/analysis_conditions/Dartel/rc3/rc3T2_225.nii\n",
      "Copied /home/sharapova/vbm_pipline/data/analysis_conditions/control_analysis/T2_224/segmentation/3_segment/native_class_images/c1T2_224.nii to /home/sharapova/vbm_pipline/data/analysis_conditions/Dartel/c1/c1T2_224.nii\n",
      "Copied /home/sharapova/vbm_pipline/data/analysis_conditions/control_analysis/T2_224/segmentation/3_segment/native_class_images/c2T2_224.nii to /home/sharapova/vbm_pipline/data/analysis_conditions/Dartel/c2/c2T2_224.nii\n",
      "Copied /home/sharapova/vbm_pipline/data/analysis_conditions/control_analysis/T2_224/segmentation/3_segment/dartel_input_images/rc1T2_224.nii to /home/sharapova/vbm_pipline/data/analysis_conditions/Dartel/rc1/rc1T2_224.nii\n",
      "Copied /home/sharapova/vbm_pipline/data/analysis_conditions/control_analysis/T2_224/segmentation/3_segment/dartel_input_images/rc2T2_224.nii to /home/sharapova/vbm_pipline/data/analysis_conditions/Dartel/rc2/rc2T2_224.nii\n",
      "Copied /home/sharapova/vbm_pipline/data/analysis_conditions/control_analysis/T2_224/segmentation/3_segment/dartel_input_images/rc3T2_224.nii to /home/sharapova/vbm_pipline/data/analysis_conditions/Dartel/rc3/rc3T2_224.nii\n",
      "Current working directory: /home/sharapova/vbm_pipline\n",
      "rc1 files: ['/home/sharapova/vbm_pipline/data/analysis_conditions/Dartel/rc1/rc1T2_227.nii', '/home/sharapova/vbm_pipline/data/analysis_conditions/Dartel/rc1/rc1T2_224.nii', '/home/sharapova/vbm_pipline/data/analysis_conditions/Dartel/rc1/rc1T2_226.nii', '/home/sharapova/vbm_pipline/data/analysis_conditions/Dartel/rc1/rc1T2_223.nii', '/home/sharapova/vbm_pipline/data/analysis_conditions/Dartel/rc1/rc1T2_178.nii', '/home/sharapova/vbm_pipline/data/analysis_conditions/Dartel/rc1/rc1T2_177.nii', '/home/sharapova/vbm_pipline/data/analysis_conditions/Dartel/rc1/rc1T2_176.nii', '/home/sharapova/vbm_pipline/data/analysis_conditions/Dartel/rc1/rc1T2_225.nii', '/home/sharapova/vbm_pipline/data/analysis_conditions/Dartel/rc1/rc1T2_201.nii', '/home/sharapova/vbm_pipline/data/analysis_conditions/Dartel/rc1/rc1T2_228.nii', '/home/sharapova/vbm_pipline/data/analysis_conditions/Dartel/rc1/rc1T2_174.nii']\n",
      "rc2 files: ['/home/sharapova/vbm_pipline/data/analysis_conditions/Dartel/rc2/rc2T2_224.nii', '/home/sharapova/vbm_pipline/data/analysis_conditions/Dartel/rc2/rc2T2_225.nii', '/home/sharapova/vbm_pipline/data/analysis_conditions/Dartel/rc2/rc2T2_201.nii', '/home/sharapova/vbm_pipline/data/analysis_conditions/Dartel/rc2/rc2T2_178.nii', '/home/sharapova/vbm_pipline/data/analysis_conditions/Dartel/rc2/rc2T2_176.nii', '/home/sharapova/vbm_pipline/data/analysis_conditions/Dartel/rc2/rc2T2_174.nii', '/home/sharapova/vbm_pipline/data/analysis_conditions/Dartel/rc2/rc2T2_177.nii', '/home/sharapova/vbm_pipline/data/analysis_conditions/Dartel/rc2/rc2T2_228.nii', '/home/sharapova/vbm_pipline/data/analysis_conditions/Dartel/rc2/rc2T2_227.nii', '/home/sharapova/vbm_pipline/data/analysis_conditions/Dartel/rc2/rc2T2_223.nii', '/home/sharapova/vbm_pipline/data/analysis_conditions/Dartel/rc2/rc2T2_226.nii']\n",
      "rc3 files: ['/home/sharapova/vbm_pipline/data/analysis_conditions/Dartel/rc3/rc3T2_177.nii', '/home/sharapova/vbm_pipline/data/analysis_conditions/Dartel/rc3/rc3T2_226.nii', '/home/sharapova/vbm_pipline/data/analysis_conditions/Dartel/rc3/rc3T2_178.nii', '/home/sharapova/vbm_pipline/data/analysis_conditions/Dartel/rc3/rc3T2_223.nii', '/home/sharapova/vbm_pipline/data/analysis_conditions/Dartel/rc3/rc3T2_225.nii', '/home/sharapova/vbm_pipline/data/analysis_conditions/Dartel/rc3/rc3T2_227.nii', '/home/sharapova/vbm_pipline/data/analysis_conditions/Dartel/rc3/rc3T2_228.nii', '/home/sharapova/vbm_pipline/data/analysis_conditions/Dartel/rc3/rc3T2_176.nii', '/home/sharapova/vbm_pipline/data/analysis_conditions/Dartel/rc3/rc3T2_174.nii', '/home/sharapova/vbm_pipline/data/analysis_conditions/Dartel/rc3/rc3T2_201.nii', '/home/sharapova/vbm_pipline/data/analysis_conditions/Dartel/rc3/rc3T2_224.nii']\n",
      "DataSink base directory: /home/sharapova/vbm_pipline/data/analysis_conditions/Dartel/output\n",
      "240711-13:39:17,555 nipype.workflow INFO:\n",
      "\t Workflow vbm_dartel settings: ['check', 'execution', 'logging', 'monitoring']\n",
      "240711-13:39:17,561 nipype.workflow INFO:\n",
      "\t Running serially.\n",
      "240711-13:39:17,562 nipype.workflow INFO:\n",
      "\t [Node] Setting-up \"vbm_dartel.dartel\" in \"/home/sharapova/vbm_pipline/data/analysis_conditions/Dartel/work/vbm_dartel/dartel\".\n",
      "240711-13:39:17,575 nipype.workflow INFO:\n",
      "\t [Node] Executing \"dartel\" <nipype.interfaces.spm.preprocess.DARTEL>\n",
      "240711-13:51:49,854 nipype.workflow INFO:\n",
      "\t [Node] Finished \"dartel\", elapsed time 752.27722s.\n",
      "240711-13:51:49,867 nipype.workflow INFO:\n",
      "\t [Node] Setting-up \"vbm_dartel.data_sink\" in \"/home/sharapova/vbm_pipline/data/analysis_conditions/Dartel/work/vbm_dartel/data_sink\".\n",
      "240711-13:51:49,871 nipype.workflow INFO:\n",
      "\t [Node] Executing \"data_sink\" <nipype.interfaces.io.DataSink>\n",
      "240711-13:51:49,876 nipype.workflow INFO:\n",
      "\t [Node] Finished \"data_sink\", elapsed time 0.002942s.\n"
     ]
    },
    {
     "name": "stderr",
     "output_type": "stream",
     "text": [
      "stty: 'standard input': Inappropriate ioctl for device\n"
     ]
    }
   ],
   "source": [
    "%load_ext autoreload\n",
    "%autoreload 2\n",
    "import os\n",
    "from modalities.dartel import create_dartel_structure, perform_dartel, copy_segment_files, find_subject_id\n",
    "\n",
    "def main(base_path: str):\n",
    "    condition_folders = [folder for folder in os.listdir(base_path) if os.path.isdir(os.path.join(base_path, folder))]\n",
    "    dartel_dir = create_dartel_structure(base_path)\n",
    "    copy_segment_files(base_path, condition_folders, dartel_dir)\n",
    "    perform_dartel(dartel_dir)\n",
    "\n",
    "main('/home/sharapova/vbm_pipline/data/analysis_conditions')"
   ]
  },
  {
   "cell_type": "markdown",
   "metadata": {},
   "source": [
    "# Normalization"
   ]
  },
  {
   "cell_type": "code",
   "execution_count": 8,
   "metadata": {},
   "outputs": [
    {
     "name": "stdout",
     "output_type": "stream",
     "text": [
      "The autoreload extension is already loaded. To reload it, use:\n",
      "  %reload_ext autoreload\n",
      "c1_files: ['/home/sharapova/vbm_pipline/data/analysis_conditions/Dartel/c1/c1T2_174.nii', '/home/sharapova/vbm_pipline/data/analysis_conditions/Dartel/c1/c1T2_176.nii', '/home/sharapova/vbm_pipline/data/analysis_conditions/Dartel/c1/c1T2_177.nii', '/home/sharapova/vbm_pipline/data/analysis_conditions/Dartel/c1/c1T2_178.nii', '/home/sharapova/vbm_pipline/data/analysis_conditions/Dartel/c1/c1T2_201.nii', '/home/sharapova/vbm_pipline/data/analysis_conditions/Dartel/c1/c1T2_223.nii', '/home/sharapova/vbm_pipline/data/analysis_conditions/Dartel/c1/c1T2_224.nii', '/home/sharapova/vbm_pipline/data/analysis_conditions/Dartel/c1/c1T2_225.nii', '/home/sharapova/vbm_pipline/data/analysis_conditions/Dartel/c1/c1T2_226.nii', '/home/sharapova/vbm_pipline/data/analysis_conditions/Dartel/c1/c1T2_227.nii', '/home/sharapova/vbm_pipline/data/analysis_conditions/Dartel/c1/c1T2_228.nii']\n",
      "flow_field_files: ['/home/sharapova/vbm_pipline/data/analysis_conditions/Dartel/output/flowfields/u_rc1T2_174_Template.nii', '/home/sharapova/vbm_pipline/data/analysis_conditions/Dartel/output/flowfields/u_rc1T2_176_Template.nii', '/home/sharapova/vbm_pipline/data/analysis_conditions/Dartel/output/flowfields/u_rc1T2_177_Template.nii', '/home/sharapova/vbm_pipline/data/analysis_conditions/Dartel/output/flowfields/u_rc1T2_178_Template.nii', '/home/sharapova/vbm_pipline/data/analysis_conditions/Dartel/output/flowfields/u_rc1T2_201_Template.nii', '/home/sharapova/vbm_pipline/data/analysis_conditions/Dartel/output/flowfields/u_rc1T2_223_Template.nii', '/home/sharapova/vbm_pipline/data/analysis_conditions/Dartel/output/flowfields/u_rc1T2_224_Template.nii', '/home/sharapova/vbm_pipline/data/analysis_conditions/Dartel/output/flowfields/u_rc1T2_225_Template.nii', '/home/sharapova/vbm_pipline/data/analysis_conditions/Dartel/output/flowfields/u_rc1T2_226_Template.nii', '/home/sharapova/vbm_pipline/data/analysis_conditions/Dartel/output/flowfields/u_rc1T2_227_Template.nii', '/home/sharapova/vbm_pipline/data/analysis_conditions/Dartel/output/flowfields/u_rc1T2_228_Template.nii']\n",
      "240711-13:53:51,528 nipype.workflow INFO:\n",
      "\t Workflow vbm_normalization settings: ['check', 'execution', 'logging', 'monitoring']\n",
      "240711-13:53:51,543 nipype.workflow INFO:\n",
      "\t Running serially.\n",
      "240711-13:53:51,544 nipype.workflow INFO:\n",
      "\t [Node] Setting-up \"vbm_normalization.normalization\" in \"/home/sharapova/vbm_pipline/data/analysis_conditions/Dartel/work/vbm_normalization/normalization\".\n",
      "240711-13:53:51,557 nipype.workflow INFO:\n",
      "\t [Node] Executing \"normalization\" <nipype.interfaces.spm.preprocess.CreateWarped>\n",
      "240711-13:54:12,743 nipype.workflow INFO:\n",
      "\t [Node] Finished \"normalization\", elapsed time 21.183444s.\n",
      "240711-13:54:12,746 nipype.workflow INFO:\n",
      "\t [Node] Setting-up \"vbm_normalization.data_sink\" in \"/home/sharapova/vbm_pipline/data/analysis_conditions/Dartel/work/vbm_normalization/data_sink\".\n",
      "240711-13:54:12,749 nipype.workflow INFO:\n",
      "\t [Node] Executing \"data_sink\" <nipype.interfaces.io.DataSink>\n",
      "240711-13:54:12,751 nipype.workflow INFO:\n",
      "\t [Node] Finished \"data_sink\", elapsed time 0.001228s.\n",
      "['/home/sharapova/vbm_pipline/data/analysis_conditions/Dartel/output/warped_files/warped_files/mwc1T2_174.nii', '/home/sharapova/vbm_pipline/data/analysis_conditions/Dartel/output/warped_files/warped_files/mwc1T2_201.nii', '/home/sharapova/vbm_pipline/data/analysis_conditions/Dartel/output/warped_files/warped_files/mwc1T2_228.nii', '/home/sharapova/vbm_pipline/data/analysis_conditions/Dartel/output/warped_files/warped_files/mwc1T2_226.nii', '/home/sharapova/vbm_pipline/data/analysis_conditions/Dartel/output/warped_files/warped_files/mwc1T2_178.nii', '/home/sharapova/vbm_pipline/data/analysis_conditions/Dartel/output/warped_files/warped_files/mwc1T2_176.nii', '/home/sharapova/vbm_pipline/data/analysis_conditions/Dartel/output/warped_files/warped_files/mwc1T2_227.nii', '/home/sharapova/vbm_pipline/data/analysis_conditions/Dartel/output/warped_files/warped_files/mwc1T2_225.nii', '/home/sharapova/vbm_pipline/data/analysis_conditions/Dartel/output/warped_files/warped_files/mwc1T2_224.nii', '/home/sharapova/vbm_pipline/data/analysis_conditions/Dartel/output/warped_files/warped_files/mwc1T2_177.nii', '/home/sharapova/vbm_pipline/data/analysis_conditions/Dartel/output/warped_files/warped_files/mwc1T2_223.nii']\n"
     ]
    },
    {
     "name": "stderr",
     "output_type": "stream",
     "text": [
      "stty: 'standard input': Inappropriate ioctl for device\n"
     ]
    }
   ],
   "source": [
    "%load_ext autoreload\n",
    "%autoreload 2\n",
    "import os\n",
    "from modalities.normalization import normalize_brain_images\n",
    "\n",
    "root_derivatives_dir_path = os.path.abspath('/home/sharapova/vbm_pipline/data/analysis_conditions')\n",
    "output_files = normalize_brain_images(root_derivatives_dir_path)\n",
    "print(output_files)"
   ]
  },
  {
   "cell_type": "markdown",
   "metadata": {},
   "source": [
    "# Smoothing"
   ]
  },
  {
   "cell_type": "code",
   "execution_count": 9,
   "metadata": {},
   "outputs": [
    {
     "name": "stdout",
     "output_type": "stream",
     "text": [
      "The autoreload extension is already loaded. To reload it, use:\n",
      "  %reload_ext autoreload\n",
      "normalize_files: ['/home/sharapova/vbm_pipline/data/analysis_conditions/Dartel/output/warped_files/warped_files/mwc1T2_174.nii', '/home/sharapova/vbm_pipline/data/analysis_conditions/Dartel/output/warped_files/warped_files/mwc1T2_176.nii', '/home/sharapova/vbm_pipline/data/analysis_conditions/Dartel/output/warped_files/warped_files/mwc1T2_177.nii', '/home/sharapova/vbm_pipline/data/analysis_conditions/Dartel/output/warped_files/warped_files/mwc1T2_178.nii', '/home/sharapova/vbm_pipline/data/analysis_conditions/Dartel/output/warped_files/warped_files/mwc1T2_201.nii', '/home/sharapova/vbm_pipline/data/analysis_conditions/Dartel/output/warped_files/warped_files/mwc1T2_223.nii', '/home/sharapova/vbm_pipline/data/analysis_conditions/Dartel/output/warped_files/warped_files/mwc1T2_224.nii', '/home/sharapova/vbm_pipline/data/analysis_conditions/Dartel/output/warped_files/warped_files/mwc1T2_225.nii', '/home/sharapova/vbm_pipline/data/analysis_conditions/Dartel/output/warped_files/warped_files/mwc1T2_226.nii', '/home/sharapova/vbm_pipline/data/analysis_conditions/Dartel/output/warped_files/warped_files/mwc1T2_227.nii', '/home/sharapova/vbm_pipline/data/analysis_conditions/Dartel/output/warped_files/warped_files/mwc1T2_228.nii']\n",
      "240711-13:55:09,913 nipype.workflow INFO:\n",
      "\t Workflow vbm_smoothing settings: ['check', 'execution', 'logging', 'monitoring']\n",
      "240711-13:55:09,917 nipype.workflow INFO:\n",
      "\t Running serially.\n",
      "240711-13:55:09,918 nipype.workflow INFO:\n",
      "\t [Node] Setting-up \"vbm_smoothing.smoothing\" in \"/home/sharapova/vbm_pipline/data/analysis_conditions/Dartel/work/vbm_smoothing/smoothing\".\n",
      "240711-13:55:09,932 nipype.workflow INFO:\n",
      "\t [Node] Executing \"smoothing\" <nipype.interfaces.spm.preprocess.Smooth>\n"
     ]
    },
    {
     "name": "stdout",
     "output_type": "stream",
     "text": [
      "240711-13:55:24,809 nipype.workflow INFO:\n",
      "\t [Node] Finished \"smoothing\", elapsed time 14.870629s.\n",
      "240711-13:55:24,812 nipype.workflow INFO:\n",
      "\t [Node] Setting-up \"vbm_smoothing.data_sink\" in \"/home/sharapova/vbm_pipline/data/analysis_conditions/Dartel/work/vbm_smoothing/data_sink\".\n",
      "240711-13:55:24,815 nipype.workflow INFO:\n",
      "\t [Node] Executing \"data_sink\" <nipype.interfaces.io.DataSink>\n",
      "240711-13:55:24,816 nipype.workflow INFO:\n",
      "\t [Node] Finished \"data_sink\", elapsed time 0.000735s.\n",
      "['/home/sharapova/vbm_pipline/data/analysis_conditions/Dartel/output/smoothed_files/smoothed_files/smwc1T2_224.nii', '/home/sharapova/vbm_pipline/data/analysis_conditions/Dartel/output/smoothed_files/smoothed_files/smwc1T2_227.nii', '/home/sharapova/vbm_pipline/data/analysis_conditions/Dartel/output/smoothed_files/smoothed_files/smwc1T2_178.nii', '/home/sharapova/vbm_pipline/data/analysis_conditions/Dartel/output/smoothed_files/smoothed_files/smwc1T2_225.nii', '/home/sharapova/vbm_pipline/data/analysis_conditions/Dartel/output/smoothed_files/smoothed_files/smwc1T2_223.nii', '/home/sharapova/vbm_pipline/data/analysis_conditions/Dartel/output/smoothed_files/smoothed_files/smwc1T2_176.nii', '/home/sharapova/vbm_pipline/data/analysis_conditions/Dartel/output/smoothed_files/smoothed_files/smwc1T2_226.nii', '/home/sharapova/vbm_pipline/data/analysis_conditions/Dartel/output/smoothed_files/smoothed_files/smwc1T2_174.nii', '/home/sharapova/vbm_pipline/data/analysis_conditions/Dartel/output/smoothed_files/smoothed_files/smwc1T2_177.nii', '/home/sharapova/vbm_pipline/data/analysis_conditions/Dartel/output/smoothed_files/smoothed_files/smwc1T2_228.nii', '/home/sharapova/vbm_pipline/data/analysis_conditions/Dartel/output/smoothed_files/smoothed_files/smwc1T2_201.nii']\n"
     ]
    },
    {
     "name": "stderr",
     "output_type": "stream",
     "text": [
      "stty: 'standard input': Inappropriate ioctl for device\n"
     ]
    }
   ],
   "source": [
    "%load_ext autoreload\n",
    "%autoreload 2\n",
    "import os\n",
    "from modalities.smoothing import smooth_brain_images\n",
    "\n",
    "root_derivatives_dir_path = os.path.abspath('/home/sharapova/vbm_pipline/data/analysis_conditions')\n",
    "\n",
    "# Define the full width at half maximum (FWHM) for smoothing\n",
    "fwhm = [3, 3, 3] \n",
    "\n",
    "\n",
    "output_files = smooth_brain_images(root_derivatives_dir_path, fwhm)\n",
    "print(output_files)"
   ]
  },
  {
   "cell_type": "markdown",
   "metadata": {},
   "source": [
    "# Statistical modeling and estimation"
   ]
  },
  {
   "cell_type": "code",
   "execution_count": 10,
   "metadata": {},
   "outputs": [
    {
     "name": "stdout",
     "output_type": "stream",
     "text": [
      "The autoreload extension is already loaded. To reload it, use:\n",
      "  %reload_ext autoreload\n",
      "Detected conditions: ['Treated_by_psilocin_analysis', 'control_analysis']\n",
      "Detected subjects for Treated_by_psilocin_analysis: ['T2_176', 'T2_177', 'T2_174', 'T2_178', 'T2_201']\n",
      "Detected subjects for control_analysis: ['T2_227', 'T2_223', 'T2_226', 'T2_228', 'T2_225', 'T2_224']\n",
      "240711-13:56:31,739 nipype.workflow DEBUG:\n",
      "\t [MultiProc] Starting (n_procs=4, mem_gb=28.10, cwd=/home/sharapova/vbm_pipline)\n",
      "240711-13:56:31,744 nipype.workflow DEBUG:\n",
      "\t Creating flat graph for workflow: vbm_stats_modeling\n",
      "240711-13:56:31,746 nipype.workflow DEBUG:\n",
      "\t expanding workflow: vbm_stats_modeling\n",
      "240711-13:56:31,746 nipype.workflow DEBUG:\n",
      "\t processing node: vbm_stats_modeling.vbm_stats_modeling\n",
      "240711-13:56:31,747 nipype.workflow DEBUG:\n",
      "\t processing node: vbm_stats_modeling.data_sink\n",
      "240711-13:56:31,747 nipype.workflow DEBUG:\n",
      "\t finished expanding workflow: vbm_stats_modeling\n",
      "240711-13:56:31,748 nipype.workflow INFO:\n",
      "\t Workflow vbm_stats_modeling settings: ['check', 'execution', 'logging', 'monitoring']\n",
      "240711-13:56:31,750 nipype.workflow DEBUG:\n",
      "\t PE: expanding iterables\n",
      "240711-13:56:31,750 nipype.workflow DEBUG:\n",
      "\t Detected iterable nodes []\n",
      "240711-13:56:31,751 nipype.workflow DEBUG:\n",
      "\t PE: expanding iterables ... done\n",
      "240711-13:56:31,752 nipype.workflow DEBUG:\n",
      "\t Performing depth first search\n",
      "240711-13:56:31,754 nipype.workflow INFO:\n",
      "\t Running in parallel.\n",
      "240711-13:56:31,761 nipype.workflow DEBUG:\n",
      "\t Progress: 2 jobs, 0/0/1 (done/running/ready), 0/2 (pending_tasks/waiting).\n",
      "240711-13:56:31,762 nipype.workflow DEBUG:\n",
      "\t Tasks currently running: 0. Pending: 0.\n",
      "240711-13:56:31,763 nipype.workflow INFO:\n",
      "\t [MultiProc] Running 0 tasks, and 1 jobs ready. Free memory (GB): 28.10/28.10, Free processors: 4/4.\n",
      "240711-13:56:31,829 nipype.workflow DEBUG:\n",
      "\t Allocating vbm_stats_modeling.vbm_stats_modeling ID=0 (0.20GB, 1 threads). Free: 27.90GB, 3 threads.\n",
      "240711-13:56:31,830 nipype.workflow DEBUG:\n",
      "\t [Node] Not cached \"/home/sharapova/vbm_pipline/data/analysis_conditions/Dartel/work/vbm_stats_modeling/vbm_stats_modeling\".\n",
      "240711-13:56:31,830 nipype.workflow DEBUG:\n",
      "\t Checking hash \"vbm_stats_modeling.vbm_stats_modeling\" locally: cached=False, updated=False.\n",
      "240711-13:56:31,894 nipype.workflow DEBUG:\n",
      "\t [MultiProc] Submitted task vbm_stats_modeling.vbm_stats_modeling (taskid=1).\n",
      "240711-13:56:31,904 nipype.workflow INFO:\n",
      "\t [Node] Setting-up \"vbm_stats_modeling.vbm_stats_modeling\" in \"/home/sharapova/vbm_pipline/data/analysis_conditions/Dartel/work/vbm_stats_modeling/vbm_stats_modeling\".\n",
      "240711-13:56:31,911 nipype.workflow DEBUG:\n",
      "\t [Node] Not cached \"/home/sharapova/vbm_pipline/data/analysis_conditions/Dartel/work/vbm_stats_modeling/vbm_stats_modeling\".\n",
      "240711-13:56:31,914 nipype.workflow DEBUG:\n",
      "\t [Node] Writing pre-exec report to \"/home/sharapova/vbm_pipline/data/analysis_conditions/Dartel/work/vbm_stats_modeling/vbm_stats_modeling/_report/report.rst\"\n",
      "240711-13:56:31,918 nipype.workflow INFO:\n",
      "\t [Node] Executing \"vbm_stats_modeling\" <nipype.interfaces.spm.model.TwoSampleTTestDesign>\n",
      "240711-13:56:33,762 nipype.workflow DEBUG:\n",
      "\t Progress: 2 jobs, 0/1/0 (done/running/ready), 1/1 (pending_tasks/waiting).\n",
      "240711-13:56:33,763 nipype.workflow DEBUG:\n",
      "\t Tasks currently running: 1. Pending: 1.\n",
      "240711-13:56:33,765 nipype.workflow INFO:\n",
      "\t [MultiProc] Running 1 tasks, and 0 jobs ready. Free memory (GB): 27.90/28.10, Free processors: 3/4.\n",
      "                     Currently running:\n",
      "                       * vbm_stats_modeling.vbm_stats_modeling\n",
      "240711-13:56:42,767 nipype.workflow INFO:\n",
      "\t [Node] Finished \"vbm_stats_modeling\", elapsed time 10.846031s.\n",
      "240711-13:56:42,768 nipype.workflow DEBUG:\n",
      "\t Needed files: /home/sharapova/vbm_pipline/data/analysis_conditions/Dartel/work/vbm_stats_modeling/vbm_stats_modeling/SPM.hdr;/home/sharapova/vbm_pipline/data/analysis_conditions/Dartel/work/vbm_stats_modeling/vbm_stats_modeling/SPM.img;/home/sharapova/vbm_pipline/data/analysis_conditions/Dartel/work/vbm_stats_modeling/vbm_stats_modeling/SPM.mat;/home/sharapova/vbm_pipline/data/analysis_conditions/Dartel/work/vbm_stats_modeling/vbm_stats_modeling/SPM.nii;/home/sharapova/vbm_pipline/data/analysis_conditions/Dartel/work/vbm_stats_modeling/vbm_stats_modeling/SPM.mat;/home/sharapova/vbm_pipline/data/analysis_conditions/Dartel/work/vbm_stats_modeling/vbm_stats_modeling/_0x7dfe09c6c2168fb49d8ba926fac98225_unfinished.json;/home/sharapova/vbm_pipline/data/analysis_conditions/Dartel/work/vbm_stats_modeling/vbm_stats_modeling/pyscript_twosamplettestdesign.m;/home/sharapova/vbm_pipline/data/analysis_conditions/Dartel/work/vbm_stats_modeling/vbm_stats_modeling/_inputs.pklz;/home/sharapova/vbm_pipline/data/analysis_conditions/Dartel/work/vbm_stats_modeling/vbm_stats_modeling/_node.pklz\n",
      "240711-13:56:42,769 nipype.workflow DEBUG:\n",
      "\t Needed dirs: /home/sharapova/vbm_pipline/data/analysis_conditions/Dartel/work/vbm_stats_modeling/vbm_stats_modeling/_report\n",
      "240711-13:56:42,770 nipype.workflow DEBUG:\n",
      "\t Removing files: \n",
      "240711-13:56:42,770 nipype.workflow DEBUG:\n",
      "\t Saving results file: '/home/sharapova/vbm_pipline/data/analysis_conditions/Dartel/work/vbm_stats_modeling/vbm_stats_modeling/result_vbm_stats_modeling.pklz'\n",
      "240711-13:56:42,772 nipype.workflow DEBUG:\n",
      "\t [Node] Writing post-exec report to \"/home/sharapova/vbm_pipline/data/analysis_conditions/Dartel/work/vbm_stats_modeling/vbm_stats_modeling/_report/report.rst\"\n"
     ]
    },
    {
     "name": "stderr",
     "output_type": "stream",
     "text": [
      "stty: 'standard input': Inappropriate ioctl for device\n"
     ]
    },
    {
     "name": "stdout",
     "output_type": "stream",
     "text": [
      "240711-13:56:43,763 nipype.workflow INFO:\n",
      "\t [Job 0] Completed (vbm_stats_modeling.vbm_stats_modeling).\n",
      "240711-13:56:43,776 nipype.workflow DEBUG:\n",
      "\t Tasks currently running: 0. Pending: 0.\n",
      "240711-13:56:43,779 nipype.workflow INFO:\n",
      "\t [MultiProc] Running 0 tasks, and 1 jobs ready. Free memory (GB): 28.10/28.10, Free processors: 4/4.\n",
      "240711-13:56:43,838 nipype.workflow DEBUG:\n",
      "\t Allocating vbm_stats_modeling.data_sink ID=1 (0.20GB, 1 threads). Free: 27.90GB, 3 threads.\n",
      "240711-13:56:43,838 nipype.workflow DEBUG:\n",
      "\t [Node] Not cached \"/home/sharapova/vbm_pipline/data/analysis_conditions/Dartel/work/vbm_stats_modeling/data_sink\".\n",
      "240711-13:56:43,839 nipype.workflow DEBUG:\n",
      "\t Checking hash \"vbm_stats_modeling.data_sink\" locally: cached=False, updated=False.\n",
      "240711-13:56:43,841 nipype.workflow DEBUG:\n",
      "\t [MultiProc] Submitted task vbm_stats_modeling.data_sink (taskid=2).\n",
      "240711-13:56:43,843 nipype.workflow INFO:\n",
      "\t [Node] Setting-up \"vbm_stats_modeling.data_sink\" in \"/home/sharapova/vbm_pipline/data/analysis_conditions/Dartel/work/vbm_stats_modeling/data_sink\".\n",
      "240711-13:56:43,845 nipype.workflow DEBUG:\n",
      "\t [Node] Not cached \"/home/sharapova/vbm_pipline/data/analysis_conditions/Dartel/work/vbm_stats_modeling/data_sink\".\n",
      "240711-13:56:43,847 nipype.workflow DEBUG:\n",
      "\t [Node] Setting 1 connected inputs of node \"data_sink\" from 1 previous nodes.\n",
      "240711-13:56:43,850 nipype.workflow DEBUG:\n",
      "\t Resolving paths in outputs loaded from results file.\n",
      "240711-13:56:43,853 nipype.workflow DEBUG:\n",
      "\t output: spm_mat_file\n",
      "240711-13:56:43,855 nipype.workflow DEBUG:\n",
      "\t [Node] data_sink - setting input example_contrast_new_logic.@spm_mat_file = /home/sharapova/vbm_pipline/data/analysis_conditions/Dartel/work/vbm_stats_modeling/vbm_stats_modeling/SPM.mat\n",
      "240711-13:56:43,858 nipype.workflow DEBUG:\n",
      "\t [Node] Writing pre-exec report to \"/home/sharapova/vbm_pipline/data/analysis_conditions/Dartel/work/vbm_stats_modeling/data_sink/_report/report.rst\"\n",
      "240711-13:56:43,863 nipype.workflow INFO:\n",
      "\t [Node] Executing \"data_sink\" <nipype.interfaces.io.DataSink>\n",
      "240711-13:56:43,867 nipype.interface INFO:\n",
      "\t sub: /home/sharapova/vbm_pipline/data/analysis_conditions/Dartel/output/example_contrast_new_logic/SPM.mat -> /home/sharapova/vbm_pipline/data/analysis_conditions/Dartel/output/SPM.mat\n",
      "240711-13:56:43,869 nipype.workflow INFO:\n",
      "\t [Node] Finished \"data_sink\", elapsed time 0.002065s.\n",
      "240711-13:56:43,871 nipype.workflow DEBUG:\n",
      "\t Needed files: /home/sharapova/vbm_pipline/data/analysis_conditions/Dartel/output/SPM.hdr;/home/sharapova/vbm_pipline/data/analysis_conditions/Dartel/output/SPM.img;/home/sharapova/vbm_pipline/data/analysis_conditions/Dartel/output/SPM.mat;/home/sharapova/vbm_pipline/data/analysis_conditions/Dartel/output/SPM.nii;/home/sharapova/vbm_pipline/data/analysis_conditions/Dartel/output/SPM.mat;/home/sharapova/vbm_pipline/data/analysis_conditions/Dartel/work/vbm_stats_modeling/data_sink/_0x1c8e120db804e69739cbcc169b8c1e59_unfinished.json;/home/sharapova/vbm_pipline/data/analysis_conditions/Dartel/work/vbm_stats_modeling/data_sink/_inputs.pklz;/home/sharapova/vbm_pipline/data/analysis_conditions/Dartel/work/vbm_stats_modeling/data_sink/_node.pklz\n",
      "240711-13:56:43,873 nipype.workflow DEBUG:\n",
      "\t Needed dirs: /home/sharapova/vbm_pipline/data/analysis_conditions/Dartel/work/vbm_stats_modeling/data_sink/_report\n",
      "240711-13:56:43,875 nipype.workflow DEBUG:\n",
      "\t Removing files: \n",
      "240711-13:56:43,876 nipype.workflow DEBUG:\n",
      "\t Saving results file: '/home/sharapova/vbm_pipline/data/analysis_conditions/Dartel/work/vbm_stats_modeling/data_sink/result_data_sink.pklz'\n",
      "240711-13:56:43,878 nipype.workflow DEBUG:\n",
      "\t [Node] Writing post-exec report to \"/home/sharapova/vbm_pipline/data/analysis_conditions/Dartel/work/vbm_stats_modeling/data_sink/_report/report.rst\"\n",
      "240711-13:56:45,764 nipype.workflow DEBUG:\n",
      "\t Progress: 2 jobs, 1/1/0 (done/running/ready), 1/0 (pending_tasks/waiting).\n",
      "240711-13:56:45,765 nipype.workflow INFO:\n",
      "\t [Job 1] Completed (vbm_stats_modeling.data_sink).\n",
      "240711-13:56:45,768 nipype.workflow DEBUG:\n",
      "\t Tasks currently running: 0. Pending: 0.\n",
      "240711-13:56:45,770 nipype.workflow INFO:\n",
      "\t [MultiProc] Running 0 tasks, and 0 jobs ready. Free memory (GB): 28.10/28.10, Free processors: 4/4.\n",
      "240711-13:56:45,772 nipype.workflow DEBUG:\n",
      "\t No tasks are being run, and no jobs can be submitted to the queue. Potential deadlock\n",
      "240711-13:56:47,787 nipype.workflow DEBUG:\n",
      "\t [MultiProc] Starting (n_procs=4, mem_gb=28.10, cwd=/home/sharapova/vbm_pipline)\n",
      "240711-13:56:47,789 nipype.workflow DEBUG:\n",
      "\t Creating flat graph for workflow: vbm_estimate_model\n",
      "240711-13:56:47,790 nipype.workflow DEBUG:\n",
      "\t expanding workflow: vbm_estimate_model\n",
      "240711-13:56:47,791 nipype.workflow DEBUG:\n",
      "\t processing node: vbm_estimate_model.estimate_model\n",
      "240711-13:56:47,791 nipype.workflow DEBUG:\n",
      "\t finished expanding workflow: vbm_estimate_model\n",
      "240711-13:56:47,792 nipype.workflow INFO:\n",
      "\t Workflow vbm_estimate_model settings: ['check', 'execution', 'logging', 'monitoring']\n",
      "240711-13:56:47,793 nipype.workflow DEBUG:\n",
      "\t PE: expanding iterables\n",
      "240711-13:56:47,793 nipype.workflow DEBUG:\n",
      "\t Detected iterable nodes []\n",
      "240711-13:56:47,794 nipype.workflow DEBUG:\n",
      "\t PE: expanding iterables ... done\n",
      "240711-13:56:47,797 nipype.workflow DEBUG:\n",
      "\t Performing depth first search\n",
      "240711-13:56:47,800 nipype.workflow INFO:\n",
      "\t Running in parallel.\n",
      "240711-13:56:47,803 nipype.workflow DEBUG:\n",
      "\t Progress: 1 jobs, 0/0/1 (done/running/ready), 0/1 (pending_tasks/waiting).\n",
      "240711-13:56:47,804 nipype.workflow DEBUG:\n",
      "\t Tasks currently running: 0. Pending: 0.\n",
      "240711-13:56:47,807 nipype.workflow INFO:\n",
      "\t [MultiProc] Running 0 tasks, and 1 jobs ready. Free memory (GB): 28.10/28.10, Free processors: 4/4.\n",
      "240711-13:56:47,878 nipype.workflow DEBUG:\n",
      "\t Allocating vbm_estimate_model.estimate_model ID=0 (0.20GB, 1 threads). Free: 27.90GB, 3 threads.\n",
      "240711-13:56:47,879 nipype.workflow DEBUG:\n",
      "\t [Node] Not cached \"/home/sharapova/vbm_pipline/data/analysis_conditions/Dartel/work/vbm_estimate_model/estimate_model\".\n",
      "240711-13:56:47,879 nipype.workflow DEBUG:\n",
      "\t Checking hash \"vbm_estimate_model.estimate_model\" locally: cached=False, updated=False.\n",
      "240711-13:56:47,905 nipype.workflow DEBUG:\n",
      "\t [MultiProc] Submitted task vbm_estimate_model.estimate_model (taskid=1).\n",
      "240711-13:56:47,911 nipype.workflow INFO:\n",
      "\t [Node] Setting-up \"vbm_estimate_model.estimate_model\" in \"/home/sharapova/vbm_pipline/data/analysis_conditions/Dartel/work/vbm_estimate_model/estimate_model\".\n",
      "240711-13:56:47,913 nipype.workflow DEBUG:\n",
      "\t [Node] Not cached \"/home/sharapova/vbm_pipline/data/analysis_conditions/Dartel/work/vbm_estimate_model/estimate_model\".\n",
      "240711-13:56:47,916 nipype.workflow DEBUG:\n",
      "\t [Node] Writing pre-exec report to \"/home/sharapova/vbm_pipline/data/analysis_conditions/Dartel/work/vbm_estimate_model/estimate_model/_report/report.rst\"\n",
      "240711-13:56:47,921 nipype.workflow DEBUG:\n",
      "\t copying files to wd [execute=True, linksonly=False]\n",
      "240711-13:56:47,924 nipype.workflow INFO:\n",
      "\t [Node] Executing \"estimate_model\" <nipype.interfaces.spm.model.EstimateModel>\n",
      "240711-13:56:49,804 nipype.workflow DEBUG:\n",
      "\t Progress: 1 jobs, 0/1/0 (done/running/ready), 1/0 (pending_tasks/waiting).\n",
      "240711-13:56:49,805 nipype.workflow DEBUG:\n",
      "\t Tasks currently running: 1. Pending: 1.\n",
      "240711-13:56:49,808 nipype.workflow INFO:\n",
      "\t [MultiProc] Running 1 tasks, and 0 jobs ready. Free memory (GB): 27.90/28.10, Free processors: 3/4.\n",
      "                     Currently running:\n",
      "                       * vbm_estimate_model.estimate_model\n",
      "240711-13:57:02,983 nipype.workflow INFO:\n",
      "\t [Node] Finished \"estimate_model\", elapsed time 15.056781s.\n",
      "240711-13:57:02,985 nipype.workflow DEBUG:\n",
      "\t Needed files: /home/sharapova/vbm_pipline/data/analysis_conditions/Dartel/work/vbm_estimate_model/estimate_model/mask.nii;/home/sharapova/vbm_pipline/data/analysis_conditions/Dartel/work/vbm_estimate_model/estimate_model/mask.mat;/home/sharapova/vbm_pipline/data/analysis_conditions/Dartel/work/vbm_estimate_model/estimate_model/beta_0001.nii;/home/sharapova/vbm_pipline/data/analysis_conditions/Dartel/work/vbm_estimate_model/estimate_model/beta_0001.mat;/home/sharapova/vbm_pipline/data/analysis_conditions/Dartel/work/vbm_estimate_model/estimate_model/beta_0002.nii;/home/sharapova/vbm_pipline/data/analysis_conditions/Dartel/work/vbm_estimate_model/estimate_model/beta_0002.mat;/home/sharapova/vbm_pipline/data/analysis_conditions/Dartel/work/vbm_estimate_model/estimate_model/ResMS.nii;/home/sharapova/vbm_pipline/data/analysis_conditions/Dartel/work/vbm_estimate_model/estimate_model/ResMS.mat;/home/sharapova/vbm_pipline/data/analysis_conditions/Dartel/work/vbm_estimate_model/estimate_model/RPV.nii;/home/sharapova/vbm_pipline/data/analysis_conditions/Dartel/work/vbm_estimate_model/estimate_model/RPV.mat;/home/sharapova/vbm_pipline/data/analysis_conditions/Dartel/work/vbm_estimate_model/estimate_model/SPM.hdr;/home/sharapova/vbm_pipline/data/analysis_conditions/Dartel/work/vbm_estimate_model/estimate_model/SPM.img;/home/sharapova/vbm_pipline/data/analysis_conditions/Dartel/work/vbm_estimate_model/estimate_model/SPM.mat;/home/sharapova/vbm_pipline/data/analysis_conditions/Dartel/work/vbm_estimate_model/estimate_model/SPM.nii;/home/sharapova/vbm_pipline/data/analysis_conditions/Dartel/work/vbm_estimate_model/estimate_model/SPM.mat;/home/sharapova/vbm_pipline/data/analysis_conditions/Dartel/work/vbm_estimate_model/estimate_model/_0xbfecedc278e95bfbf8232f524eaf7f7a_unfinished.json;/home/sharapova/vbm_pipline/data/analysis_conditions/Dartel/work/vbm_estimate_model/estimate_model/pyscript_estimatemodel.m;/home/sharapova/vbm_pipline/data/analysis_conditions/Dartel/work/vbm_estimate_model/estimate_model/_inputs.pklz;/home/sharapova/vbm_pipline/data/analysis_conditions/Dartel/work/vbm_estimate_model/estimate_model/_node.pklz\n",
      "240711-13:57:02,986 nipype.workflow DEBUG:\n",
      "\t Needed dirs: /home/sharapova/vbm_pipline/data/analysis_conditions/Dartel/work/vbm_estimate_model/estimate_model/_report\n",
      "240711-13:57:02,987 nipype.workflow DEBUG:\n",
      "\t Removing files: \n",
      "240711-13:57:02,987 nipype.workflow DEBUG:\n",
      "\t Saving results file: '/home/sharapova/vbm_pipline/data/analysis_conditions/Dartel/work/vbm_estimate_model/estimate_model/result_estimate_model.pklz'\n",
      "240711-13:57:02,990 nipype.workflow DEBUG:\n",
      "\t [Node] Writing post-exec report to \"/home/sharapova/vbm_pipline/data/analysis_conditions/Dartel/work/vbm_estimate_model/estimate_model/_report/report.rst\"\n"
     ]
    },
    {
     "name": "stderr",
     "output_type": "stream",
     "text": [
      "stty: 'standard input': Inappropriate ioctl for device\n"
     ]
    },
    {
     "name": "stdout",
     "output_type": "stream",
     "text": [
      "240711-13:57:03,807 nipype.workflow INFO:\n",
      "\t [Job 0] Completed (vbm_estimate_model.estimate_model).\n",
      "240711-13:57:03,811 nipype.workflow DEBUG:\n",
      "\t Tasks currently running: 0. Pending: 0.\n",
      "240711-13:57:03,814 nipype.workflow INFO:\n",
      "\t [MultiProc] Running 0 tasks, and 0 jobs ready. Free memory (GB): 28.10/28.10, Free processors: 4/4.\n",
      "240711-13:57:03,815 nipype.workflow DEBUG:\n",
      "\t No tasks are being run, and no jobs can be submitted to the queue. Potential deadlock\n",
      "['/home/sharapova/vbm_pipline/data/analysis_conditions/statistical_analysis/RPV.nii', '/home/sharapova/vbm_pipline/data/analysis_conditions/statistical_analysis/mask.nii', '/home/sharapova/vbm_pipline/data/analysis_conditions/statistical_analysis/ResMS.nii', '/home/sharapova/vbm_pipline/data/analysis_conditions/statistical_analysis/beta_0001.nii', '/home/sharapova/vbm_pipline/data/analysis_conditions/statistical_analysis/SPM.mat', '/home/sharapova/vbm_pipline/data/analysis_conditions/statistical_analysis/beta_0002.nii']\n"
     ]
    }
   ],
   "source": [
    "%load_ext autoreload\n",
    "%autoreload 2\n",
    "import os\n",
    "from modalities.statistical_modeling_t_test_model import create_two_sample_t_test_model\n",
    "\n",
    "contrasts_name = 'example_contrast_new_logic'\n",
    "output_files = create_two_sample_t_test_model('/home/sharapova/vbm_pipline/data/analysis_conditions', contrasts_name)\n",
    "print(output_files)"
   ]
  },
  {
   "cell_type": "markdown",
   "metadata": {},
   "source": []
  }
 ],
 "metadata": {
  "kernelspec": {
   "display_name": "base",
   "language": "python",
   "name": "python3"
  },
  "language_info": {
   "codemirror_mode": {
    "name": "ipython",
    "version": 3
   },
   "file_extension": ".py",
   "mimetype": "text/x-python",
   "name": "python",
   "nbconvert_exporter": "python",
   "pygments_lexer": "ipython3",
   "version": "3.11.5"
  }
 },
 "nbformat": 4,
 "nbformat_minor": 2
}
