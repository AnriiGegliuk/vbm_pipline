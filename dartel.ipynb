{
 "cells": [
  {
   "cell_type": "code",
   "execution_count": 18,
   "metadata": {},
   "outputs": [
    {
     "name": "stdout",
     "output_type": "stream",
     "text": [
      "The autoreload extension is already loaded. To reload it, use:\n",
      "  %reload_ext autoreload\n"
     ]
    }
   ],
   "source": [
    "%load_ext autoreload\n",
    "%autoreload 2\n",
    "from modalities.dartel import create_dartel_structure, perform_dartel, copy_segment_files"
   ]
  },
  {
   "cell_type": "code",
   "execution_count": 48,
   "metadata": {},
   "outputs": [],
   "source": [
    "# perform_dartel('data/segmentation_test_3_times/')"
   ]
  },
  {
   "cell_type": "code",
   "execution_count": 17,
   "metadata": {},
   "outputs": [
    {
     "name": "stdout",
     "output_type": "stream",
     "text": [
      "The autoreload extension is already loaded. To reload it, use:\n",
      "  %reload_ext autoreload\n"
     ]
    }
   ],
   "source": [
    "%load_ext autoreload\n",
    "%autoreload 2\n",
    "import os\n",
    "from modalities.dartel import create_dartel_structure, perform_dartel, copy_segment_files, find_subject_id"
   ]
  },
  {
   "cell_type": "code",
   "execution_count": 19,
   "metadata": {},
   "outputs": [
    {
     "name": "stdout",
     "output_type": "stream",
     "text": [
      "Copied /home/sharapova/vbm_pipline/data/analysis_conditions/Treated_by_psilocin_analysis/T2_176/segmentation/3_segment/native_class_images/c1T2_176.nii to /home/sharapova/vbm_pipline/data/analysis_conditions/Dartel/c1/c1T2_176.nii\n",
      "Copied /home/sharapova/vbm_pipline/data/analysis_conditions/Treated_by_psilocin_analysis/T2_176/segmentation/3_segment/native_class_images/c2T2_176.nii to /home/sharapova/vbm_pipline/data/analysis_conditions/Dartel/c2/c2T2_176.nii\n",
      "Copied /home/sharapova/vbm_pipline/data/analysis_conditions/Treated_by_psilocin_analysis/T2_176/segmentation/3_segment/dartel_input_images/rc1T2_176.nii to /home/sharapova/vbm_pipline/data/analysis_conditions/Dartel/rc1/rc1T2_176.nii\n",
      "Copied /home/sharapova/vbm_pipline/data/analysis_conditions/Treated_by_psilocin_analysis/T2_176/segmentation/3_segment/dartel_input_images/rc2T2_176.nii to /home/sharapova/vbm_pipline/data/analysis_conditions/Dartel/rc2/rc2T2_176.nii\n",
      "Copied /home/sharapova/vbm_pipline/data/analysis_conditions/Treated_by_psilocin_analysis/T2_176/segmentation/3_segment/dartel_input_images/rc3T2_176.nii to /home/sharapova/vbm_pipline/data/analysis_conditions/Dartel/rc3/rc3T2_176.nii\n",
      "Copied /home/sharapova/vbm_pipline/data/analysis_conditions/Treated_by_psilocin_analysis/T2_177/segmentation/3_segment/native_class_images/c1T2_177.nii to /home/sharapova/vbm_pipline/data/analysis_conditions/Dartel/c1/c1T2_177.nii\n",
      "Copied /home/sharapova/vbm_pipline/data/analysis_conditions/Treated_by_psilocin_analysis/T2_177/segmentation/3_segment/native_class_images/c2T2_177.nii to /home/sharapova/vbm_pipline/data/analysis_conditions/Dartel/c2/c2T2_177.nii\n",
      "Copied /home/sharapova/vbm_pipline/data/analysis_conditions/Treated_by_psilocin_analysis/T2_177/segmentation/3_segment/dartel_input_images/rc1T2_177.nii to /home/sharapova/vbm_pipline/data/analysis_conditions/Dartel/rc1/rc1T2_177.nii\n",
      "Copied /home/sharapova/vbm_pipline/data/analysis_conditions/Treated_by_psilocin_analysis/T2_177/segmentation/3_segment/dartel_input_images/rc2T2_177.nii to /home/sharapova/vbm_pipline/data/analysis_conditions/Dartel/rc2/rc2T2_177.nii\n",
      "Copied /home/sharapova/vbm_pipline/data/analysis_conditions/Treated_by_psilocin_analysis/T2_177/segmentation/3_segment/dartel_input_images/rc3T2_177.nii to /home/sharapova/vbm_pipline/data/analysis_conditions/Dartel/rc3/rc3T2_177.nii\n",
      "Copied /home/sharapova/vbm_pipline/data/analysis_conditions/Treated_by_psilocin_analysis/T2_174/segmentation/3_segment/native_class_images/c1T2_174.nii to /home/sharapova/vbm_pipline/data/analysis_conditions/Dartel/c1/c1T2_174.nii\n",
      "Copied /home/sharapova/vbm_pipline/data/analysis_conditions/Treated_by_psilocin_analysis/T2_174/segmentation/3_segment/native_class_images/c2T2_174.nii to /home/sharapova/vbm_pipline/data/analysis_conditions/Dartel/c2/c2T2_174.nii\n",
      "Copied /home/sharapova/vbm_pipline/data/analysis_conditions/Treated_by_psilocin_analysis/T2_174/segmentation/3_segment/dartel_input_images/rc1T2_174.nii to /home/sharapova/vbm_pipline/data/analysis_conditions/Dartel/rc1/rc1T2_174.nii\n",
      "Copied /home/sharapova/vbm_pipline/data/analysis_conditions/Treated_by_psilocin_analysis/T2_174/segmentation/3_segment/dartel_input_images/rc2T2_174.nii to /home/sharapova/vbm_pipline/data/analysis_conditions/Dartel/rc2/rc2T2_174.nii\n",
      "Copied /home/sharapova/vbm_pipline/data/analysis_conditions/Treated_by_psilocin_analysis/T2_174/segmentation/3_segment/dartel_input_images/rc3T2_174.nii to /home/sharapova/vbm_pipline/data/analysis_conditions/Dartel/rc3/rc3T2_174.nii\n",
      "Copied /home/sharapova/vbm_pipline/data/analysis_conditions/Treated_by_psilocin_analysis/T2_178/segmentation/3_segment/native_class_images/c1T2_178.nii to /home/sharapova/vbm_pipline/data/analysis_conditions/Dartel/c1/c1T2_178.nii\n",
      "Copied /home/sharapova/vbm_pipline/data/analysis_conditions/Treated_by_psilocin_analysis/T2_178/segmentation/3_segment/native_class_images/c2T2_178.nii to /home/sharapova/vbm_pipline/data/analysis_conditions/Dartel/c2/c2T2_178.nii\n",
      "Copied /home/sharapova/vbm_pipline/data/analysis_conditions/Treated_by_psilocin_analysis/T2_178/segmentation/3_segment/dartel_input_images/rc1T2_178.nii to /home/sharapova/vbm_pipline/data/analysis_conditions/Dartel/rc1/rc1T2_178.nii\n",
      "Copied /home/sharapova/vbm_pipline/data/analysis_conditions/Treated_by_psilocin_analysis/T2_178/segmentation/3_segment/dartel_input_images/rc2T2_178.nii to /home/sharapova/vbm_pipline/data/analysis_conditions/Dartel/rc2/rc2T2_178.nii\n",
      "Copied /home/sharapova/vbm_pipline/data/analysis_conditions/Treated_by_psilocin_analysis/T2_178/segmentation/3_segment/dartel_input_images/rc3T2_178.nii to /home/sharapova/vbm_pipline/data/analysis_conditions/Dartel/rc3/rc3T2_178.nii\n",
      "Copied /home/sharapova/vbm_pipline/data/analysis_conditions/Treated_by_psilocin_analysis/T2_201/segmentation/3_segment/native_class_images/c1T2_201.nii to /home/sharapova/vbm_pipline/data/analysis_conditions/Dartel/c1/c1T2_201.nii\n",
      "Copied /home/sharapova/vbm_pipline/data/analysis_conditions/Treated_by_psilocin_analysis/T2_201/segmentation/3_segment/native_class_images/c2T2_201.nii to /home/sharapova/vbm_pipline/data/analysis_conditions/Dartel/c2/c2T2_201.nii\n",
      "Copied /home/sharapova/vbm_pipline/data/analysis_conditions/Treated_by_psilocin_analysis/T2_201/segmentation/3_segment/dartel_input_images/rc1T2_201.nii to /home/sharapova/vbm_pipline/data/analysis_conditions/Dartel/rc1/rc1T2_201.nii\n",
      "Copied /home/sharapova/vbm_pipline/data/analysis_conditions/Treated_by_psilocin_analysis/T2_201/segmentation/3_segment/dartel_input_images/rc2T2_201.nii to /home/sharapova/vbm_pipline/data/analysis_conditions/Dartel/rc2/rc2T2_201.nii\n",
      "Copied /home/sharapova/vbm_pipline/data/analysis_conditions/Treated_by_psilocin_analysis/T2_201/segmentation/3_segment/dartel_input_images/rc3T2_201.nii to /home/sharapova/vbm_pipline/data/analysis_conditions/Dartel/rc3/rc3T2_201.nii\n",
      "Copied /home/sharapova/vbm_pipline/data/analysis_conditions/control_analysis/T2_227/segmentation/3_segment/native_class_images/c1T2_227.nii to /home/sharapova/vbm_pipline/data/analysis_conditions/Dartel/c1/c1T2_227.nii\n",
      "Copied /home/sharapova/vbm_pipline/data/analysis_conditions/control_analysis/T2_227/segmentation/3_segment/native_class_images/c2T2_227.nii to /home/sharapova/vbm_pipline/data/analysis_conditions/Dartel/c2/c2T2_227.nii\n",
      "Copied /home/sharapova/vbm_pipline/data/analysis_conditions/control_analysis/T2_227/segmentation/3_segment/dartel_input_images/rc1T2_227.nii to /home/sharapova/vbm_pipline/data/analysis_conditions/Dartel/rc1/rc1T2_227.nii\n",
      "Copied /home/sharapova/vbm_pipline/data/analysis_conditions/control_analysis/T2_227/segmentation/3_segment/dartel_input_images/rc2T2_227.nii to /home/sharapova/vbm_pipline/data/analysis_conditions/Dartel/rc2/rc2T2_227.nii\n",
      "Copied /home/sharapova/vbm_pipline/data/analysis_conditions/control_analysis/T2_227/segmentation/3_segment/dartel_input_images/rc3T2_227.nii to /home/sharapova/vbm_pipline/data/analysis_conditions/Dartel/rc3/rc3T2_227.nii\n",
      "Copied /home/sharapova/vbm_pipline/data/analysis_conditions/control_analysis/T2_223/segmentation/3_segment/native_class_images/c1T2_223.nii to /home/sharapova/vbm_pipline/data/analysis_conditions/Dartel/c1/c1T2_223.nii\n",
      "Copied /home/sharapova/vbm_pipline/data/analysis_conditions/control_analysis/T2_223/segmentation/3_segment/native_class_images/c2T2_223.nii to /home/sharapova/vbm_pipline/data/analysis_conditions/Dartel/c2/c2T2_223.nii\n",
      "Copied /home/sharapova/vbm_pipline/data/analysis_conditions/control_analysis/T2_223/segmentation/3_segment/dartel_input_images/rc1T2_223.nii to /home/sharapova/vbm_pipline/data/analysis_conditions/Dartel/rc1/rc1T2_223.nii\n",
      "Copied /home/sharapova/vbm_pipline/data/analysis_conditions/control_analysis/T2_223/segmentation/3_segment/dartel_input_images/rc2T2_223.nii to /home/sharapova/vbm_pipline/data/analysis_conditions/Dartel/rc2/rc2T2_223.nii\n",
      "Copied /home/sharapova/vbm_pipline/data/analysis_conditions/control_analysis/T2_223/segmentation/3_segment/dartel_input_images/rc3T2_223.nii to /home/sharapova/vbm_pipline/data/analysis_conditions/Dartel/rc3/rc3T2_223.nii\n",
      "Copied /home/sharapova/vbm_pipline/data/analysis_conditions/control_analysis/T2_226/segmentation/3_segment/native_class_images/c1T2_226.nii to /home/sharapova/vbm_pipline/data/analysis_conditions/Dartel/c1/c1T2_226.nii\n",
      "Copied /home/sharapova/vbm_pipline/data/analysis_conditions/control_analysis/T2_226/segmentation/3_segment/native_class_images/c2T2_226.nii to /home/sharapova/vbm_pipline/data/analysis_conditions/Dartel/c2/c2T2_226.nii\n",
      "Copied /home/sharapova/vbm_pipline/data/analysis_conditions/control_analysis/T2_226/segmentation/3_segment/dartel_input_images/rc1T2_226.nii to /home/sharapova/vbm_pipline/data/analysis_conditions/Dartel/rc1/rc1T2_226.nii\n",
      "Copied /home/sharapova/vbm_pipline/data/analysis_conditions/control_analysis/T2_226/segmentation/3_segment/dartel_input_images/rc2T2_226.nii to /home/sharapova/vbm_pipline/data/analysis_conditions/Dartel/rc2/rc2T2_226.nii\n",
      "Copied /home/sharapova/vbm_pipline/data/analysis_conditions/control_analysis/T2_226/segmentation/3_segment/dartel_input_images/rc3T2_226.nii to /home/sharapova/vbm_pipline/data/analysis_conditions/Dartel/rc3/rc3T2_226.nii\n",
      "Copied /home/sharapova/vbm_pipline/data/analysis_conditions/control_analysis/T2_228/segmentation/3_segment/native_class_images/c1T2_228.nii to /home/sharapova/vbm_pipline/data/analysis_conditions/Dartel/c1/c1T2_228.nii\n",
      "Copied /home/sharapova/vbm_pipline/data/analysis_conditions/control_analysis/T2_228/segmentation/3_segment/native_class_images/c2T2_228.nii to /home/sharapova/vbm_pipline/data/analysis_conditions/Dartel/c2/c2T2_228.nii\n",
      "Copied /home/sharapova/vbm_pipline/data/analysis_conditions/control_analysis/T2_228/segmentation/3_segment/dartel_input_images/rc1T2_228.nii to /home/sharapova/vbm_pipline/data/analysis_conditions/Dartel/rc1/rc1T2_228.nii\n",
      "Copied /home/sharapova/vbm_pipline/data/analysis_conditions/control_analysis/T2_228/segmentation/3_segment/dartel_input_images/rc2T2_228.nii to /home/sharapova/vbm_pipline/data/analysis_conditions/Dartel/rc2/rc2T2_228.nii\n",
      "Copied /home/sharapova/vbm_pipline/data/analysis_conditions/control_analysis/T2_228/segmentation/3_segment/dartel_input_images/rc3T2_228.nii to /home/sharapova/vbm_pipline/data/analysis_conditions/Dartel/rc3/rc3T2_228.nii\n",
      "Copied /home/sharapova/vbm_pipline/data/analysis_conditions/control_analysis/T2_225/segmentation/3_segment/native_class_images/c1T2_225.nii to /home/sharapova/vbm_pipline/data/analysis_conditions/Dartel/c1/c1T2_225.nii\n",
      "Copied /home/sharapova/vbm_pipline/data/analysis_conditions/control_analysis/T2_225/segmentation/3_segment/native_class_images/c2T2_225.nii to /home/sharapova/vbm_pipline/data/analysis_conditions/Dartel/c2/c2T2_225.nii\n",
      "Copied /home/sharapova/vbm_pipline/data/analysis_conditions/control_analysis/T2_225/segmentation/3_segment/dartel_input_images/rc1T2_225.nii to /home/sharapova/vbm_pipline/data/analysis_conditions/Dartel/rc1/rc1T2_225.nii\n",
      "Copied /home/sharapova/vbm_pipline/data/analysis_conditions/control_analysis/T2_225/segmentation/3_segment/dartel_input_images/rc2T2_225.nii to /home/sharapova/vbm_pipline/data/analysis_conditions/Dartel/rc2/rc2T2_225.nii\n",
      "Copied /home/sharapova/vbm_pipline/data/analysis_conditions/control_analysis/T2_225/segmentation/3_segment/dartel_input_images/rc3T2_225.nii to /home/sharapova/vbm_pipline/data/analysis_conditions/Dartel/rc3/rc3T2_225.nii\n",
      "Copied /home/sharapova/vbm_pipline/data/analysis_conditions/control_analysis/T2_224/segmentation/3_segment/native_class_images/c1T2_224.nii to /home/sharapova/vbm_pipline/data/analysis_conditions/Dartel/c1/c1T2_224.nii\n",
      "Copied /home/sharapova/vbm_pipline/data/analysis_conditions/control_analysis/T2_224/segmentation/3_segment/native_class_images/c2T2_224.nii to /home/sharapova/vbm_pipline/data/analysis_conditions/Dartel/c2/c2T2_224.nii\n",
      "Copied /home/sharapova/vbm_pipline/data/analysis_conditions/control_analysis/T2_224/segmentation/3_segment/dartel_input_images/rc1T2_224.nii to /home/sharapova/vbm_pipline/data/analysis_conditions/Dartel/rc1/rc1T2_224.nii\n",
      "Copied /home/sharapova/vbm_pipline/data/analysis_conditions/control_analysis/T2_224/segmentation/3_segment/dartel_input_images/rc2T2_224.nii to /home/sharapova/vbm_pipline/data/analysis_conditions/Dartel/rc2/rc2T2_224.nii\n",
      "Copied /home/sharapova/vbm_pipline/data/analysis_conditions/control_analysis/T2_224/segmentation/3_segment/dartel_input_images/rc3T2_224.nii to /home/sharapova/vbm_pipline/data/analysis_conditions/Dartel/rc3/rc3T2_224.nii\n",
      "Current working directory: /home/sharapova/vbm_pipline\n",
      "rc1 files: ['/home/sharapova/vbm_pipline/data/analysis_conditions/Dartel/rc1/rc1T2_227.nii', '/home/sharapova/vbm_pipline/data/analysis_conditions/Dartel/rc1/rc1T2_224.nii', '/home/sharapova/vbm_pipline/data/analysis_conditions/Dartel/rc1/rc1T2_226.nii', '/home/sharapova/vbm_pipline/data/analysis_conditions/Dartel/rc1/rc1T2_223.nii', '/home/sharapova/vbm_pipline/data/analysis_conditions/Dartel/rc1/rc1T2_178.nii', '/home/sharapova/vbm_pipline/data/analysis_conditions/Dartel/rc1/rc1T2_177.nii', '/home/sharapova/vbm_pipline/data/analysis_conditions/Dartel/rc1/rc1T2_176.nii', '/home/sharapova/vbm_pipline/data/analysis_conditions/Dartel/rc1/rc1T2_225.nii', '/home/sharapova/vbm_pipline/data/analysis_conditions/Dartel/rc1/rc1T2_201.nii', '/home/sharapova/vbm_pipline/data/analysis_conditions/Dartel/rc1/rc1T2_228.nii', '/home/sharapova/vbm_pipline/data/analysis_conditions/Dartel/rc1/rc1T2_174.nii']\n",
      "rc2 files: ['/home/sharapova/vbm_pipline/data/analysis_conditions/Dartel/rc2/rc2T2_224.nii', '/home/sharapova/vbm_pipline/data/analysis_conditions/Dartel/rc2/rc2T2_225.nii', '/home/sharapova/vbm_pipline/data/analysis_conditions/Dartel/rc2/rc2T2_201.nii', '/home/sharapova/vbm_pipline/data/analysis_conditions/Dartel/rc2/rc2T2_178.nii', '/home/sharapova/vbm_pipline/data/analysis_conditions/Dartel/rc2/rc2T2_176.nii', '/home/sharapova/vbm_pipline/data/analysis_conditions/Dartel/rc2/rc2T2_174.nii', '/home/sharapova/vbm_pipline/data/analysis_conditions/Dartel/rc2/rc2T2_177.nii', '/home/sharapova/vbm_pipline/data/analysis_conditions/Dartel/rc2/rc2T2_228.nii', '/home/sharapova/vbm_pipline/data/analysis_conditions/Dartel/rc2/rc2T2_227.nii', '/home/sharapova/vbm_pipline/data/analysis_conditions/Dartel/rc2/rc2T2_223.nii', '/home/sharapova/vbm_pipline/data/analysis_conditions/Dartel/rc2/rc2T2_226.nii']\n",
      "rc3 files: ['/home/sharapova/vbm_pipline/data/analysis_conditions/Dartel/rc3/rc3T2_177.nii', '/home/sharapova/vbm_pipline/data/analysis_conditions/Dartel/rc3/rc3T2_226.nii', '/home/sharapova/vbm_pipline/data/analysis_conditions/Dartel/rc3/rc3T2_178.nii', '/home/sharapova/vbm_pipline/data/analysis_conditions/Dartel/rc3/rc3T2_223.nii', '/home/sharapova/vbm_pipline/data/analysis_conditions/Dartel/rc3/rc3T2_225.nii', '/home/sharapova/vbm_pipline/data/analysis_conditions/Dartel/rc3/rc3T2_227.nii', '/home/sharapova/vbm_pipline/data/analysis_conditions/Dartel/rc3/rc3T2_228.nii', '/home/sharapova/vbm_pipline/data/analysis_conditions/Dartel/rc3/rc3T2_176.nii', '/home/sharapova/vbm_pipline/data/analysis_conditions/Dartel/rc3/rc3T2_174.nii', '/home/sharapova/vbm_pipline/data/analysis_conditions/Dartel/rc3/rc3T2_201.nii', '/home/sharapova/vbm_pipline/data/analysis_conditions/Dartel/rc3/rc3T2_224.nii']\n",
      "DataSink base directory: /home/sharapova/vbm_pipline/data/analysis_conditions/Dartel/output\n",
      "240710-13:58:35,952 nipype.workflow INFO:\n",
      "\t Workflow vbm_dartel settings: ['check', 'execution', 'logging', 'monitoring']\n",
      "240710-13:58:35,957 nipype.workflow INFO:\n",
      "\t Running serially.\n",
      "240710-13:58:35,957 nipype.workflow INFO:\n",
      "\t [Node] Setting-up \"vbm_dartel.dartel\" in \"/home/sharapova/vbm_pipline/data/analysis_conditions/Dartel/work/vbm_dartel/dartel\".\n",
      "240710-13:58:35,970 nipype.workflow INFO:\n",
      "\t [Node] Executing \"dartel\" <nipype.interfaces.spm.preprocess.DARTEL>\n",
      "240710-14:10:08,436 nipype.workflow INFO:\n",
      "\t [Node] Finished \"dartel\", elapsed time 692.465648s.\n",
      "240710-14:10:08,448 nipype.workflow INFO:\n",
      "\t [Node] Setting-up \"vbm_dartel.data_sink\" in \"/home/sharapova/vbm_pipline/data/analysis_conditions/Dartel/work/vbm_dartel/data_sink\".\n",
      "240710-14:10:08,452 nipype.workflow INFO:\n",
      "\t [Node] Executing \"data_sink\" <nipype.interfaces.io.DataSink>\n",
      "240710-14:10:08,458 nipype.workflow INFO:\n",
      "\t [Node] Finished \"data_sink\", elapsed time 0.003015s.\n"
     ]
    },
    {
     "name": "stderr",
     "output_type": "stream",
     "text": [
      "stty: 'standard input': Inappropriate ioctl for device\n"
     ]
    }
   ],
   "source": [
    "def main(base_path: str):\n",
    "    condition_folders = [folder for folder in os.listdir(base_path) if os.path.isdir(os.path.join(base_path, folder))]\n",
    "    dartel_dir = create_dartel_structure(base_path)\n",
    "    copy_segment_files(base_path, condition_folders, dartel_dir)\n",
    "    perform_dartel(dartel_dir)\n",
    "\n",
    "main('/home/sharapova/vbm_pipline/data/analysis_conditions')"
   ]
  },
  {
   "cell_type": "code",
   "execution_count": 3,
   "metadata": {},
   "outputs": [
    {
     "name": "stdout",
     "output_type": "stream",
     "text": [
      "Copied /home/sharapova/vbm_pipline/data/analysis_/control_analysis/T2_227/segmentation/3_segment/native_class_images/c1T2_227.nii to /home/sharapova/vbm_pipline/data/analysis_/control_analysis/Dartel/c1/c1T2_227.nii\n",
      "Copied /home/sharapova/vbm_pipline/data/analysis_/control_analysis/T2_227/segmentation/3_segment/native_class_images/c2T2_227.nii to /home/sharapova/vbm_pipline/data/analysis_/control_analysis/Dartel/c2/c2T2_227.nii\n",
      "Copied /home/sharapova/vbm_pipline/data/analysis_/control_analysis/T2_227/segmentation/3_segment/dartel_input_images/rc1T2_227.nii to /home/sharapova/vbm_pipline/data/analysis_/control_analysis/Dartel/rc1/rc1T2_227.nii\n",
      "Copied /home/sharapova/vbm_pipline/data/analysis_/control_analysis/T2_227/segmentation/3_segment/dartel_input_images/rc2T2_227.nii to /home/sharapova/vbm_pipline/data/analysis_/control_analysis/Dartel/rc2/rc2T2_227.nii\n",
      "Copied /home/sharapova/vbm_pipline/data/analysis_/control_analysis/T2_227/segmentation/3_segment/dartel_input_images/rc3T2_227.nii to /home/sharapova/vbm_pipline/data/analysis_/control_analysis/Dartel/rc3/rc3T2_227.nii\n",
      "Copied /home/sharapova/vbm_pipline/data/analysis_/control_analysis/T2_223/segmentation/3_segment/native_class_images/c1T2_223.nii to /home/sharapova/vbm_pipline/data/analysis_/control_analysis/Dartel/c1/c1T2_223.nii\n",
      "Copied /home/sharapova/vbm_pipline/data/analysis_/control_analysis/T2_223/segmentation/3_segment/native_class_images/c2T2_223.nii to /home/sharapova/vbm_pipline/data/analysis_/control_analysis/Dartel/c2/c2T2_223.nii\n",
      "Copied /home/sharapova/vbm_pipline/data/analysis_/control_analysis/T2_223/segmentation/3_segment/dartel_input_images/rc1T2_223.nii to /home/sharapova/vbm_pipline/data/analysis_/control_analysis/Dartel/rc1/rc1T2_223.nii\n",
      "Copied /home/sharapova/vbm_pipline/data/analysis_/control_analysis/T2_223/segmentation/3_segment/dartel_input_images/rc2T2_223.nii to /home/sharapova/vbm_pipline/data/analysis_/control_analysis/Dartel/rc2/rc2T2_223.nii\n",
      "Copied /home/sharapova/vbm_pipline/data/analysis_/control_analysis/T2_223/segmentation/3_segment/dartel_input_images/rc3T2_223.nii to /home/sharapova/vbm_pipline/data/analysis_/control_analysis/Dartel/rc3/rc3T2_223.nii\n",
      "No segmentation directory found for T2_226\n",
      "Copied /home/sharapova/vbm_pipline/data/analysis_/control_analysis/T2_228/segmentation/3_segment/native_class_images/c1T2_228.nii to /home/sharapova/vbm_pipline/data/analysis_/control_analysis/Dartel/c1/c1T2_228.nii\n",
      "Copied /home/sharapova/vbm_pipline/data/analysis_/control_analysis/T2_228/segmentation/3_segment/native_class_images/c2T2_228.nii to /home/sharapova/vbm_pipline/data/analysis_/control_analysis/Dartel/c2/c2T2_228.nii\n",
      "Copied /home/sharapova/vbm_pipline/data/analysis_/control_analysis/T2_228/segmentation/3_segment/dartel_input_images/rc1T2_228.nii to /home/sharapova/vbm_pipline/data/analysis_/control_analysis/Dartel/rc1/rc1T2_228.nii\n",
      "Copied /home/sharapova/vbm_pipline/data/analysis_/control_analysis/T2_228/segmentation/3_segment/dartel_input_images/rc2T2_228.nii to /home/sharapova/vbm_pipline/data/analysis_/control_analysis/Dartel/rc2/rc2T2_228.nii\n",
      "Copied /home/sharapova/vbm_pipline/data/analysis_/control_analysis/T2_228/segmentation/3_segment/dartel_input_images/rc3T2_228.nii to /home/sharapova/vbm_pipline/data/analysis_/control_analysis/Dartel/rc3/rc3T2_228.nii\n",
      "No NIfTI file found in /home/sharapova/vbm_pipline/data/analysis_/control_analysis/Dartel\n",
      "Copied /home/sharapova/vbm_pipline/data/analysis_/control_analysis/T2_225/segmentation/3_segment/native_class_images/c1T2_225.nii to /home/sharapova/vbm_pipline/data/analysis_/control_analysis/Dartel/c1/c1T2_225.nii\n",
      "Copied /home/sharapova/vbm_pipline/data/analysis_/control_analysis/T2_225/segmentation/3_segment/native_class_images/c2T2_225.nii to /home/sharapova/vbm_pipline/data/analysis_/control_analysis/Dartel/c2/c2T2_225.nii\n",
      "Copied /home/sharapova/vbm_pipline/data/analysis_/control_analysis/T2_225/segmentation/3_segment/dartel_input_images/rc1T2_225.nii to /home/sharapova/vbm_pipline/data/analysis_/control_analysis/Dartel/rc1/rc1T2_225.nii\n",
      "Copied /home/sharapova/vbm_pipline/data/analysis_/control_analysis/T2_225/segmentation/3_segment/dartel_input_images/rc2T2_225.nii to /home/sharapova/vbm_pipline/data/analysis_/control_analysis/Dartel/rc2/rc2T2_225.nii\n",
      "Copied /home/sharapova/vbm_pipline/data/analysis_/control_analysis/T2_225/segmentation/3_segment/dartel_input_images/rc3T2_225.nii to /home/sharapova/vbm_pipline/data/analysis_/control_analysis/Dartel/rc3/rc3T2_225.nii\n",
      "Copied /home/sharapova/vbm_pipline/data/analysis_/control_analysis/T2_224/segmentation/3_segment/native_class_images/c1T2_224.nii to /home/sharapova/vbm_pipline/data/analysis_/control_analysis/Dartel/c1/c1T2_224.nii\n",
      "Copied /home/sharapova/vbm_pipline/data/analysis_/control_analysis/T2_224/segmentation/3_segment/native_class_images/c2T2_224.nii to /home/sharapova/vbm_pipline/data/analysis_/control_analysis/Dartel/c2/c2T2_224.nii\n",
      "Copied /home/sharapova/vbm_pipline/data/analysis_/control_analysis/T2_224/segmentation/3_segment/dartel_input_images/rc1T2_224.nii to /home/sharapova/vbm_pipline/data/analysis_/control_analysis/Dartel/rc1/rc1T2_224.nii\n",
      "Copied /home/sharapova/vbm_pipline/data/analysis_/control_analysis/T2_224/segmentation/3_segment/dartel_input_images/rc2T2_224.nii to /home/sharapova/vbm_pipline/data/analysis_/control_analysis/Dartel/rc2/rc2T2_224.nii\n",
      "Copied /home/sharapova/vbm_pipline/data/analysis_/control_analysis/T2_224/segmentation/3_segment/dartel_input_images/rc3T2_224.nii to /home/sharapova/vbm_pipline/data/analysis_/control_analysis/Dartel/rc3/rc3T2_224.nii\n",
      "Current working directory: /home/sharapova/vbm_pipline\n",
      "rc1 files: ['/home/sharapova/vbm_pipline/data/analysis_/control_analysis/Dartel/rc1/rc1T2_227.nii', '/home/sharapova/vbm_pipline/data/analysis_/control_analysis/Dartel/rc1/rc1T2_224.nii', '/home/sharapova/vbm_pipline/data/analysis_/control_analysis/Dartel/rc1/rc1T2_223.nii', '/home/sharapova/vbm_pipline/data/analysis_/control_analysis/Dartel/rc1/rc1T2_225.nii', '/home/sharapova/vbm_pipline/data/analysis_/control_analysis/Dartel/rc1/rc1T2_228.nii']\n",
      "rc2 files: ['/home/sharapova/vbm_pipline/data/analysis_/control_analysis/Dartel/rc2/rc2T2_224.nii', '/home/sharapova/vbm_pipline/data/analysis_/control_analysis/Dartel/rc2/rc2T2_225.nii', '/home/sharapova/vbm_pipline/data/analysis_/control_analysis/Dartel/rc2/rc2T2_228.nii', '/home/sharapova/vbm_pipline/data/analysis_/control_analysis/Dartel/rc2/rc2T2_227.nii', '/home/sharapova/vbm_pipline/data/analysis_/control_analysis/Dartel/rc2/rc2T2_223.nii']\n",
      "rc3 files: ['/home/sharapova/vbm_pipline/data/analysis_/control_analysis/Dartel/rc3/rc3T2_223.nii', '/home/sharapova/vbm_pipline/data/analysis_/control_analysis/Dartel/rc3/rc3T2_225.nii', '/home/sharapova/vbm_pipline/data/analysis_/control_analysis/Dartel/rc3/rc3T2_227.nii', '/home/sharapova/vbm_pipline/data/analysis_/control_analysis/Dartel/rc3/rc3T2_228.nii', '/home/sharapova/vbm_pipline/data/analysis_/control_analysis/Dartel/rc3/rc3T2_224.nii']\n",
      "240709-10:09:26,397 nipype.workflow INFO:\n",
      "\t Workflow vbm_dartel settings: ['check', 'execution', 'logging', 'monitoring']\n",
      "240709-10:09:26,400 nipype.workflow INFO:\n",
      "\t Running serially.\n",
      "240709-10:09:26,401 nipype.workflow INFO:\n",
      "\t [Node] Setting-up \"vbm_dartel.dartel\" in \"/home/sharapova/vbm_pipline/data/analysis_/control_analysis/Dartel/work/vbm_dartel/dartel\".\n",
      "240709-10:09:26,406 nipype.workflow INFO:\n",
      "\t [Node] Executing \"dartel\" <nipype.interfaces.spm.preprocess.DARTEL>\n",
      "240709-10:16:14,279 nipype.workflow INFO:\n",
      "\t [Node] Finished \"dartel\", elapsed time 407.87237s.\n",
      "240709-10:16:14,286 nipype.workflow INFO:\n",
      "\t [Node] Setting-up \"vbm_dartel.data_sink\" in \"/home/sharapova/vbm_pipline/data/analysis_/control_analysis/Dartel/work/vbm_dartel/data_sink\".\n",
      "240709-10:16:14,289 nipype.workflow INFO:\n",
      "\t [Node] Executing \"data_sink\" <nipype.interfaces.io.DataSink>\n",
      "240709-10:16:14,292 nipype.workflow INFO:\n",
      "\t [Node] Finished \"data_sink\", elapsed time 0.001284s.\n"
     ]
    },
    {
     "name": "stderr",
     "output_type": "stream",
     "text": [
      "stty: 'standard input': Inappropriate ioctl for device\n"
     ]
    }
   ],
   "source": [
    "# test new data\n",
    "import os\n",
    "base_path = os.path.abspath('data/analysis_/control_analysis/')\n",
    "dartel_dir = create_dartel_structure(base_path)\n",
    "copy_segment_files(base_path, dartel_dir)\n",
    "perform_dartel(dartel_dir)"
   ]
  },
  {
   "cell_type": "code",
   "execution_count": null,
   "metadata": {},
   "outputs": [],
   "source": [
    "# test condition folder\n",
    "\n"
   ]
  },
  {
   "cell_type": "code",
   "execution_count": 47,
   "metadata": {},
   "outputs": [
    {
     "name": "stdout",
     "output_type": "stream",
     "text": [
      "Copied /home/sharapova/vbm_pipline/data/segmentation_test_3_times/AA013/segmentation/3_segment/native_class_images/c1T2_H483_AA013.nii to /home/sharapova/vbm_pipline/data/segmentation_test_3_times/Dartel/c1/c1T2_H483_AA013.nii\n",
      "Copied /home/sharapova/vbm_pipline/data/segmentation_test_3_times/AA013/segmentation/3_segment/native_class_images/c2T2_H483_AA013.nii to /home/sharapova/vbm_pipline/data/segmentation_test_3_times/Dartel/c2/c2T2_H483_AA013.nii\n",
      "Copied /home/sharapova/vbm_pipline/data/segmentation_test_3_times/AA013/segmentation/3_segment/dartel_input_images/rc1T2_H483_AA013.nii to /home/sharapova/vbm_pipline/data/segmentation_test_3_times/Dartel/rc1/rc1T2_H483_AA013.nii\n",
      "Copied /home/sharapova/vbm_pipline/data/segmentation_test_3_times/AA013/segmentation/3_segment/dartel_input_images/rc2T2_H483_AA013.nii to /home/sharapova/vbm_pipline/data/segmentation_test_3_times/Dartel/rc2/rc2T2_H483_AA013.nii\n",
      "Copied /home/sharapova/vbm_pipline/data/segmentation_test_3_times/AA013/segmentation/3_segment/dartel_input_images/rc3T2_H483_AA013.nii to /home/sharapova/vbm_pipline/data/segmentation_test_3_times/Dartel/rc3/rc3T2_H483_AA013.nii\n",
      "Copied /home/sharapova/vbm_pipline/data/segmentation_test_3_times/SU003/segmentation/3_segment/native_class_images/c1T2_H473_SU003.nii to /home/sharapova/vbm_pipline/data/segmentation_test_3_times/Dartel/c1/c1T2_H473_SU003.nii\n",
      "Copied /home/sharapova/vbm_pipline/data/segmentation_test_3_times/SU003/segmentation/3_segment/native_class_images/c2T2_H473_SU003.nii to /home/sharapova/vbm_pipline/data/segmentation_test_3_times/Dartel/c2/c2T2_H473_SU003.nii\n",
      "Copied /home/sharapova/vbm_pipline/data/segmentation_test_3_times/SU003/segmentation/3_segment/dartel_input_images/rc1T2_H473_SU003.nii to /home/sharapova/vbm_pipline/data/segmentation_test_3_times/Dartel/rc1/rc1T2_H473_SU003.nii\n",
      "Copied /home/sharapova/vbm_pipline/data/segmentation_test_3_times/SU003/segmentation/3_segment/dartel_input_images/rc2T2_H473_SU003.nii to /home/sharapova/vbm_pipline/data/segmentation_test_3_times/Dartel/rc2/rc2T2_H473_SU003.nii\n",
      "Copied /home/sharapova/vbm_pipline/data/segmentation_test_3_times/SU003/segmentation/3_segment/dartel_input_images/rc3T2_H473_SU003.nii to /home/sharapova/vbm_pipline/data/segmentation_test_3_times/Dartel/rc3/rc3T2_H473_SU003.nii\n",
      "No NIfTI file found in /home/sharapova/vbm_pipline/data/segmentation_test_3_times/Dartel\n",
      "Copied /home/sharapova/vbm_pipline/data/segmentation_test_3_times/SU004/segmentation/3_segment/native_class_images/c1T2_H474_SU004.nii to /home/sharapova/vbm_pipline/data/segmentation_test_3_times/Dartel/c1/c1T2_H474_SU004.nii\n",
      "Copied /home/sharapova/vbm_pipline/data/segmentation_test_3_times/SU004/segmentation/3_segment/native_class_images/c2T2_H474_SU004.nii to /home/sharapova/vbm_pipline/data/segmentation_test_3_times/Dartel/c2/c2T2_H474_SU004.nii\n",
      "Copied /home/sharapova/vbm_pipline/data/segmentation_test_3_times/SU004/segmentation/3_segment/dartel_input_images/rc1T2_H474_SU004.nii to /home/sharapova/vbm_pipline/data/segmentation_test_3_times/Dartel/rc1/rc1T2_H474_SU004.nii\n",
      "Copied /home/sharapova/vbm_pipline/data/segmentation_test_3_times/SU004/segmentation/3_segment/dartel_input_images/rc2T2_H474_SU004.nii to /home/sharapova/vbm_pipline/data/segmentation_test_3_times/Dartel/rc2/rc2T2_H474_SU004.nii\n",
      "Copied /home/sharapova/vbm_pipline/data/segmentation_test_3_times/SU004/segmentation/3_segment/dartel_input_images/rc3T2_H474_SU004.nii to /home/sharapova/vbm_pipline/data/segmentation_test_3_times/Dartel/rc3/rc3T2_H474_SU004.nii\n",
      "Current working directory: /home/sharapova/vbm_pipline\n",
      "rc1 files: ['/home/sharapova/vbm_pipline/data/segmentation_test_3_times/Dartel/rc1/rc1T2_H483_AA013.nii', '/home/sharapova/vbm_pipline/data/segmentation_test_3_times/Dartel/rc1/rc1T2_H473_SU003.nii', '/home/sharapova/vbm_pipline/data/segmentation_test_3_times/Dartel/rc1/rc1T2_H474_SU004.nii']\n",
      "rc2 files: ['/home/sharapova/vbm_pipline/data/segmentation_test_3_times/Dartel/rc2/rc2T2_H474_SU004.nii', '/home/sharapova/vbm_pipline/data/segmentation_test_3_times/Dartel/rc2/rc2T2_H483_AA013.nii', '/home/sharapova/vbm_pipline/data/segmentation_test_3_times/Dartel/rc2/rc2T2_H473_SU003.nii']\n",
      "rc3 files: ['/home/sharapova/vbm_pipline/data/segmentation_test_3_times/Dartel/rc3/rc3T2_H483_AA013.nii', '/home/sharapova/vbm_pipline/data/segmentation_test_3_times/Dartel/rc3/rc3T2_H474_SU004.nii', '/home/sharapova/vbm_pipline/data/segmentation_test_3_times/Dartel/rc3/rc3T2_H473_SU003.nii']\n",
      "240703-12:46:52,69 nipype.workflow INFO:\n",
      "\t Workflow vbm_dartel settings: ['check', 'execution', 'logging', 'monitoring']\n",
      "240703-12:46:52,72 nipype.workflow INFO:\n",
      "\t Running serially.\n",
      "240703-12:46:52,73 nipype.workflow INFO:\n",
      "\t [Node] Setting-up \"vbm_dartel.dartel\" in \"/home/sharapova/vbm_pipline/data/segmentation_test_3_times/Dartel/work/vbm_dartel/dartel\".\n",
      "240703-12:46:52,81 nipype.workflow INFO:\n",
      "\t [Node] Executing \"dartel\" <nipype.interfaces.spm.preprocess.DARTEL>\n",
      "240703-12:52:51,375 nipype.workflow INFO:\n",
      "\t [Node] Finished \"dartel\", elapsed time 359.292764s.\n",
      "240703-12:52:51,379 nipype.workflow INFO:\n",
      "\t [Node] Setting-up \"vbm_dartel.data_sink\" in \"/home/sharapova/vbm_pipline/data/segmentation_test_3_times/Dartel/work/vbm_dartel/data_sink\".\n",
      "240703-12:52:51,383 nipype.workflow INFO:\n",
      "\t [Node] Executing \"data_sink\" <nipype.interfaces.io.DataSink>\n",
      "240703-12:52:51,386 nipype.workflow INFO:\n",
      "\t [Node] Finished \"data_sink\", elapsed time 0.001401s.\n"
     ]
    },
    {
     "name": "stderr",
     "output_type": "stream",
     "text": [
      "stty: 'standard input': Inappropriate ioctl for device\n"
     ]
    }
   ],
   "source": [
    "import os\n",
    "base_path = os.path.abspath('data/segmentation_test_3_times')\n",
    "dartel_dir = create_dartel_structure(base_path)\n",
    "copy_segment_files(base_path, dartel_dir)\n",
    "perform_dartel(dartel_dir)"
   ]
  },
  {
   "cell_type": "code",
   "execution_count": null,
   "metadata": {},
   "outputs": [],
   "source": []
  },
  {
   "cell_type": "code",
   "execution_count": null,
   "metadata": {},
   "outputs": [],
   "source": []
  }
 ],
 "metadata": {
  "kernelspec": {
   "display_name": "base",
   "language": "python",
   "name": "python3"
  },
  "language_info": {
   "codemirror_mode": {
    "name": "ipython",
    "version": 3
   },
   "file_extension": ".py",
   "mimetype": "text/x-python",
   "name": "python",
   "nbconvert_exporter": "python",
   "pygments_lexer": "ipython3",
   "version": "3.11.5"
  }
 },
 "nbformat": 4,
 "nbformat_minor": 2
}
