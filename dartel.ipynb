{
 "cells": [
  {
   "cell_type": "code",
   "execution_count": 18,
   "metadata": {},
   "outputs": [
    {
     "name": "stdout",
     "output_type": "stream",
     "text": [
      "The autoreload extension is already loaded. To reload it, use:\n",
      "  %reload_ext autoreload\n"
     ]
    }
   ],
   "source": [
    "%load_ext autoreload\n",
    "%autoreload 2\n",
    "from modalities.dartel import create_dartel_structure, perform_dartel, copy_segment_files"
   ]
  },
  {
   "cell_type": "code",
   "execution_count": 48,
   "metadata": {},
   "outputs": [],
   "source": [
    "# perform_dartel('data/segmentation_test_3_times/')"
   ]
  },
  {
   "cell_type": "code",
   "execution_count": 46,
   "metadata": {},
   "outputs": [
    {
     "name": "stdout",
     "output_type": "stream",
     "text": [
      "The autoreload extension is already loaded. To reload it, use:\n",
      "  %reload_ext autoreload\n"
     ]
    }
   ],
   "source": [
    "%load_ext autoreload\n",
    "%autoreload 2\n",
    "from modalities.dartel import create_dartel_structure, perform_dartel, copy_segment_files, find_subject_id"
   ]
  },
  {
   "cell_type": "code",
   "execution_count": 47,
   "metadata": {},
   "outputs": [
    {
     "name": "stdout",
     "output_type": "stream",
     "text": [
      "Copied /home/sharapova/vbm_pipline/data/segmentation_test_3_times/AA013/segmentation/3_segment/native_class_images/c1T2_H483_AA013.nii to /home/sharapova/vbm_pipline/data/segmentation_test_3_times/Dartel/c1/c1T2_H483_AA013.nii\n",
      "Copied /home/sharapova/vbm_pipline/data/segmentation_test_3_times/AA013/segmentation/3_segment/native_class_images/c2T2_H483_AA013.nii to /home/sharapova/vbm_pipline/data/segmentation_test_3_times/Dartel/c2/c2T2_H483_AA013.nii\n",
      "Copied /home/sharapova/vbm_pipline/data/segmentation_test_3_times/AA013/segmentation/3_segment/dartel_input_images/rc1T2_H483_AA013.nii to /home/sharapova/vbm_pipline/data/segmentation_test_3_times/Dartel/rc1/rc1T2_H483_AA013.nii\n",
      "Copied /home/sharapova/vbm_pipline/data/segmentation_test_3_times/AA013/segmentation/3_segment/dartel_input_images/rc2T2_H483_AA013.nii to /home/sharapova/vbm_pipline/data/segmentation_test_3_times/Dartel/rc2/rc2T2_H483_AA013.nii\n",
      "Copied /home/sharapova/vbm_pipline/data/segmentation_test_3_times/AA013/segmentation/3_segment/dartel_input_images/rc3T2_H483_AA013.nii to /home/sharapova/vbm_pipline/data/segmentation_test_3_times/Dartel/rc3/rc3T2_H483_AA013.nii\n",
      "Copied /home/sharapova/vbm_pipline/data/segmentation_test_3_times/SU003/segmentation/3_segment/native_class_images/c1T2_H473_SU003.nii to /home/sharapova/vbm_pipline/data/segmentation_test_3_times/Dartel/c1/c1T2_H473_SU003.nii\n",
      "Copied /home/sharapova/vbm_pipline/data/segmentation_test_3_times/SU003/segmentation/3_segment/native_class_images/c2T2_H473_SU003.nii to /home/sharapova/vbm_pipline/data/segmentation_test_3_times/Dartel/c2/c2T2_H473_SU003.nii\n",
      "Copied /home/sharapova/vbm_pipline/data/segmentation_test_3_times/SU003/segmentation/3_segment/dartel_input_images/rc1T2_H473_SU003.nii to /home/sharapova/vbm_pipline/data/segmentation_test_3_times/Dartel/rc1/rc1T2_H473_SU003.nii\n",
      "Copied /home/sharapova/vbm_pipline/data/segmentation_test_3_times/SU003/segmentation/3_segment/dartel_input_images/rc2T2_H473_SU003.nii to /home/sharapova/vbm_pipline/data/segmentation_test_3_times/Dartel/rc2/rc2T2_H473_SU003.nii\n",
      "Copied /home/sharapova/vbm_pipline/data/segmentation_test_3_times/SU003/segmentation/3_segment/dartel_input_images/rc3T2_H473_SU003.nii to /home/sharapova/vbm_pipline/data/segmentation_test_3_times/Dartel/rc3/rc3T2_H473_SU003.nii\n",
      "No NIfTI file found in /home/sharapova/vbm_pipline/data/segmentation_test_3_times/Dartel\n",
      "Copied /home/sharapova/vbm_pipline/data/segmentation_test_3_times/SU004/segmentation/3_segment/native_class_images/c1T2_H474_SU004.nii to /home/sharapova/vbm_pipline/data/segmentation_test_3_times/Dartel/c1/c1T2_H474_SU004.nii\n",
      "Copied /home/sharapova/vbm_pipline/data/segmentation_test_3_times/SU004/segmentation/3_segment/native_class_images/c2T2_H474_SU004.nii to /home/sharapova/vbm_pipline/data/segmentation_test_3_times/Dartel/c2/c2T2_H474_SU004.nii\n",
      "Copied /home/sharapova/vbm_pipline/data/segmentation_test_3_times/SU004/segmentation/3_segment/dartel_input_images/rc1T2_H474_SU004.nii to /home/sharapova/vbm_pipline/data/segmentation_test_3_times/Dartel/rc1/rc1T2_H474_SU004.nii\n",
      "Copied /home/sharapova/vbm_pipline/data/segmentation_test_3_times/SU004/segmentation/3_segment/dartel_input_images/rc2T2_H474_SU004.nii to /home/sharapova/vbm_pipline/data/segmentation_test_3_times/Dartel/rc2/rc2T2_H474_SU004.nii\n",
      "Copied /home/sharapova/vbm_pipline/data/segmentation_test_3_times/SU004/segmentation/3_segment/dartel_input_images/rc3T2_H474_SU004.nii to /home/sharapova/vbm_pipline/data/segmentation_test_3_times/Dartel/rc3/rc3T2_H474_SU004.nii\n",
      "Current working directory: /home/sharapova/vbm_pipline\n",
      "rc1 files: ['/home/sharapova/vbm_pipline/data/segmentation_test_3_times/Dartel/rc1/rc1T2_H483_AA013.nii', '/home/sharapova/vbm_pipline/data/segmentation_test_3_times/Dartel/rc1/rc1T2_H473_SU003.nii', '/home/sharapova/vbm_pipline/data/segmentation_test_3_times/Dartel/rc1/rc1T2_H474_SU004.nii']\n",
      "rc2 files: ['/home/sharapova/vbm_pipline/data/segmentation_test_3_times/Dartel/rc2/rc2T2_H474_SU004.nii', '/home/sharapova/vbm_pipline/data/segmentation_test_3_times/Dartel/rc2/rc2T2_H483_AA013.nii', '/home/sharapova/vbm_pipline/data/segmentation_test_3_times/Dartel/rc2/rc2T2_H473_SU003.nii']\n",
      "rc3 files: ['/home/sharapova/vbm_pipline/data/segmentation_test_3_times/Dartel/rc3/rc3T2_H483_AA013.nii', '/home/sharapova/vbm_pipline/data/segmentation_test_3_times/Dartel/rc3/rc3T2_H474_SU004.nii', '/home/sharapova/vbm_pipline/data/segmentation_test_3_times/Dartel/rc3/rc3T2_H473_SU003.nii']\n",
      "240703-12:46:52,69 nipype.workflow INFO:\n",
      "\t Workflow vbm_dartel settings: ['check', 'execution', 'logging', 'monitoring']\n",
      "240703-12:46:52,72 nipype.workflow INFO:\n",
      "\t Running serially.\n",
      "240703-12:46:52,73 nipype.workflow INFO:\n",
      "\t [Node] Setting-up \"vbm_dartel.dartel\" in \"/home/sharapova/vbm_pipline/data/segmentation_test_3_times/Dartel/work/vbm_dartel/dartel\".\n",
      "240703-12:46:52,81 nipype.workflow INFO:\n",
      "\t [Node] Executing \"dartel\" <nipype.interfaces.spm.preprocess.DARTEL>\n",
      "240703-12:52:51,375 nipype.workflow INFO:\n",
      "\t [Node] Finished \"dartel\", elapsed time 359.292764s.\n",
      "240703-12:52:51,379 nipype.workflow INFO:\n",
      "\t [Node] Setting-up \"vbm_dartel.data_sink\" in \"/home/sharapova/vbm_pipline/data/segmentation_test_3_times/Dartel/work/vbm_dartel/data_sink\".\n",
      "240703-12:52:51,383 nipype.workflow INFO:\n",
      "\t [Node] Executing \"data_sink\" <nipype.interfaces.io.DataSink>\n",
      "240703-12:52:51,386 nipype.workflow INFO:\n",
      "\t [Node] Finished \"data_sink\", elapsed time 0.001401s.\n"
     ]
    },
    {
     "name": "stderr",
     "output_type": "stream",
     "text": [
      "stty: 'standard input': Inappropriate ioctl for device\n"
     ]
    }
   ],
   "source": [
    "import os\n",
    "base_path = os.path.abspath('data/segmentation_test_3_times')\n",
    "dartel_dir = create_dartel_structure(base_path)\n",
    "copy_segment_files(base_path, dartel_dir)\n",
    "perform_dartel(dartel_dir)"
   ]
  },
  {
   "cell_type": "code",
   "execution_count": null,
   "metadata": {},
   "outputs": [],
   "source": []
  },
  {
   "cell_type": "code",
   "execution_count": null,
   "metadata": {},
   "outputs": [],
   "source": []
  }
 ],
 "metadata": {
  "kernelspec": {
   "display_name": "base",
   "language": "python",
   "name": "python3"
  },
  "language_info": {
   "codemirror_mode": {
    "name": "ipython",
    "version": 3
   },
   "file_extension": ".py",
   "mimetype": "text/x-python",
   "name": "python",
   "nbconvert_exporter": "python",
   "pygments_lexer": "ipython3",
   "version": "3.11.5"
  }
 },
 "nbformat": 4,
 "nbformat_minor": 2
}
