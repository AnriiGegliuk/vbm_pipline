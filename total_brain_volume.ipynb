{
 "cells": [
  {
   "cell_type": "code",
   "execution_count": 1,
   "metadata": {},
   "outputs": [],
   "source": [
    "%load_ext autoreload\n",
    "%autoreload 2\n",
    "# import os\n",
    "from modalities.total_brain_volume import create_final_csv"
   ]
  },
  {
   "cell_type": "code",
   "execution_count": 3,
   "metadata": {},
   "outputs": [
    {
     "name": "stdout",
     "output_type": "stream",
     "text": [
      "No native_class_images directory found for rc2T2_224\n",
      "No NIfTI file found in /home/sharapova/vbm_pipline/data/analysis_conditions/Dartel/output\n",
      "No native_class_images directory found for rc3T2_177\n",
      "No native_class_images directory found for c1T2_201\n",
      "No native_class_images directory found for rc1T2_227\n",
      "No native_class_images directory found for c2T2_224\n",
      "No NIfTI file found in /home/sharapova/vbm_pipline/data/analysis_conditions/Dartel/work\n"
     ]
    }
   ],
   "source": [
    "# this is working as expected\n",
    "base_path = '/home/sharapova/vbm_pipline/data/analysis_conditions'\n",
    "output_file = '/home/sharapova/vbm_pipline/data/analysis_conditionsBrain_Volumes/total_brain_volumes.csv'\n",
    "create_final_csv(base_path, output_file)"
   ]
  },
  {
   "cell_type": "code",
   "execution_count": 7,
   "metadata": {},
   "outputs": [
    {
     "name": "stdout",
     "output_type": "stream",
     "text": [
      "/home/sharapova/vbm_pipline/data/analysis_conditions/general_report.html\n",
      "/home/sharapova/vbm_pipline/data/analysis_conditions/statistical_analysis\n",
      "/home/sharapova/vbm_pipline/data/analysis_conditions/Treated_by_psilocin_analysis\n",
      "/home/sharapova/vbm_pipline/data/analysis_conditions/Dartel\n",
      "/home/sharapova/vbm_pipline/data/analysis_conditions/control_analysis\n"
     ]
    }
   ],
   "source": [
    "import os\n",
    "\n",
    "def find_subject_id(subject_folder: str) -> str:\n",
    "    for file in os.listdir(subject_folder):\n",
    "        item_path = os.path.join(subject_folder, file)\n",
    "        print(item_path)\n",
    "        if file.endswith('.nii'):\n",
    "            return os.path.splitext(file)[0]\n",
    "    return None\n",
    "\n",
    "find_subject_id('/home/sharapova/vbm_pipline/data/analysis_conditions')"
   ]
  },
  {
   "cell_type": "code",
   "execution_count": null,
   "metadata": {},
   "outputs": [],
   "source": []
  },
  {
   "cell_type": "code",
   "execution_count": 3,
   "metadata": {},
   "outputs": [
    {
     "data": {
      "text/plain": [
       "['data/segmentation_test_3_times/AA013',\n",
       " 'data/segmentation_test_3_times/SU003',\n",
       " 'data/segmentation_test_3_times/SU004']"
      ]
     },
     "execution_count": 3,
     "metadata": {},
     "output_type": "execute_result"
    }
   ],
   "source": [
    "# base_path = 'data/segmentation_test_3_times'\n",
    "# brain_volume_dir_path = 'data/segmentation_test_3_times/Brain_Volumes'\n",
    "# subject_folders = [os.path.join(base_path, d) for d in os.listdir(base_path) if os.path.isdir(os.path.join(base_path, d)) and d != 'Dartel']\n",
    "# subject_folders"
   ]
  },
  {
   "cell_type": "code",
   "execution_count": 4,
   "metadata": {},
   "outputs": [],
   "source": [
    "# for subject_folder in subject_folders:\n",
    "#     calc_total_brain_volume(subject_folder, brain_volume_dir_path)"
   ]
  }
 ],
 "metadata": {
  "kernelspec": {
   "display_name": "base",
   "language": "python",
   "name": "python3"
  },
  "language_info": {
   "codemirror_mode": {
    "name": "ipython",
    "version": 3
   },
   "file_extension": ".py",
   "mimetype": "text/x-python",
   "name": "python",
   "nbconvert_exporter": "python",
   "pygments_lexer": "ipython3",
   "version": "3.11.5"
  }
 },
 "nbformat": 4,
 "nbformat_minor": 2
}
