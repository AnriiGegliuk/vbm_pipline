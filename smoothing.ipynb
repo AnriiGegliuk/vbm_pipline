{
 "cells": [
  {
   "cell_type": "code",
   "execution_count": 5,
   "metadata": {},
   "outputs": [
    {
     "name": "stdout",
     "output_type": "stream",
     "text": [
      "The autoreload extension is already loaded. To reload it, use:\n",
      "  %reload_ext autoreload\n"
     ]
    }
   ],
   "source": [
    "%load_ext autoreload\n",
    "%autoreload 2\n",
    "import os\n",
    "from modalities.smoothing import smooth_brain_images"
   ]
  },
  {
   "cell_type": "code",
   "execution_count": 7,
   "metadata": {},
   "outputs": [
    {
     "name": "stdout",
     "output_type": "stream",
     "text": [
      "normalize_files: ['/home/sharapova/vbm_pipline/data/analysis_/control_analysis/Dartel/output/warped_files/mwc1T2_223.nii', '/home/sharapova/vbm_pipline/data/analysis_/control_analysis/Dartel/output/warped_files/mwc1T2_224.nii', '/home/sharapova/vbm_pipline/data/analysis_/control_analysis/Dartel/output/warped_files/mwc1T2_225.nii', '/home/sharapova/vbm_pipline/data/analysis_/control_analysis/Dartel/output/warped_files/mwc1T2_227.nii', '/home/sharapova/vbm_pipline/data/analysis_/control_analysis/Dartel/output/warped_files/mwc1T2_228.nii']\n",
      "240709-11:40:44,31 nipype.workflow INFO:\n",
      "\t Workflow vbm_smoothing settings: ['check', 'execution', 'logging', 'monitoring']\n",
      "240709-11:40:44,37 nipype.workflow INFO:\n",
      "\t Running serially.\n",
      "240709-11:40:44,37 nipype.workflow INFO:\n",
      "\t [Node] Setting-up \"vbm_smoothing.smoothing\" in \"/home/sharapova/vbm_pipline/data/analysis_/control_analysis/Dartel/work/vbm_smoothing/smoothing\".\n"
     ]
    },
    {
     "name": "stdout",
     "output_type": "stream",
     "text": [
      "240709-11:40:44,39 nipype.workflow INFO:\n",
      "\t [Node] Cached \"vbm_smoothing.smoothing\" - collecting precomputed outputs\n",
      "240709-11:40:44,40 nipype.workflow INFO:\n",
      "\t [Node] \"vbm_smoothing.smoothing\" found cached.\n",
      "240709-11:40:44,40 nipype.workflow INFO:\n",
      "\t [Node] Setting-up \"vbm_smoothing.data_sink\" in \"/home/sharapova/vbm_pipline/data/analysis_/control_analysis/Dartel/work/vbm_smoothing/data_sink\".\n",
      "240709-11:40:44,48 nipype.workflow INFO:\n",
      "\t [Node] Executing \"data_sink\" <nipype.interfaces.io.DataSink>\n",
      "240709-11:40:44,50 nipype.workflow INFO:\n",
      "\t [Node] Finished \"data_sink\", elapsed time 0.000835s.\n",
      "['/home/sharapova/vbm_pipline/data/analysis_/control_analysis/Dartel/output/smoothed_files/smoothed_files/smwc1T2_224.nii', '/home/sharapova/vbm_pipline/data/analysis_/control_analysis/Dartel/output/smoothed_files/smoothed_files/smwc1T2_227.nii', '/home/sharapova/vbm_pipline/data/analysis_/control_analysis/Dartel/output/smoothed_files/smoothed_files/smwc1T2_225.nii', '/home/sharapova/vbm_pipline/data/analysis_/control_analysis/Dartel/output/smoothed_files/smoothed_files/smwc1T2_223.nii', '/home/sharapova/vbm_pipline/data/analysis_/control_analysis/Dartel/output/smoothed_files/smoothed_files/smwc1T2_228.nii']\n"
     ]
    }
   ],
   "source": [
    "root_derivatives_dir_path = os.path.abspath('data/analysis_/control_analysis/')\n",
    "\n",
    "# Define the full width at half maximum (FWHM) for smoothing\n",
    "fwhm = [3, 3, 3]  # Example values, adjust as needed\n",
    "\n",
    "# Run the smoothing function\n",
    "output_files = smooth_brain_images(root_derivatives_dir_path, fwhm)\n",
    "\n",
    "# Print the output files\n",
    "print(output_files)"
   ]
  }
 ],
 "metadata": {
  "kernelspec": {
   "display_name": "base",
   "language": "python",
   "name": "python3"
  },
  "language_info": {
   "codemirror_mode": {
    "name": "ipython",
    "version": 3
   },
   "file_extension": ".py",
   "mimetype": "text/x-python",
   "name": "python",
   "nbconvert_exporter": "python",
   "pygments_lexer": "ipython3",
   "version": "3.11.5"
  }
 },
 "nbformat": 4,
 "nbformat_minor": 2
}
