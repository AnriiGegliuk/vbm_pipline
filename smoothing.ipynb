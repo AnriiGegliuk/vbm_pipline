{
 "cells": [
  {
   "cell_type": "code",
   "execution_count": 2,
   "metadata": {},
   "outputs": [],
   "source": [
    "%load_ext autoreload\n",
    "%autoreload 2\n",
    "import os\n",
    "from modalities.smoothing import smooth_brain_images"
   ]
  },
  {
   "cell_type": "code",
   "execution_count": 3,
   "metadata": {},
   "outputs": [
    {
     "name": "stdout",
     "output_type": "stream",
     "text": [
      "normalize_files: ['/home/sharapova/vbm_pipline/data/analysis_conditions/Dartel/output/warped_files/warped_files/mwc1T2_174.nii', '/home/sharapova/vbm_pipline/data/analysis_conditions/Dartel/output/warped_files/warped_files/mwc1T2_176.nii', '/home/sharapova/vbm_pipline/data/analysis_conditions/Dartel/output/warped_files/warped_files/mwc1T2_177.nii', '/home/sharapova/vbm_pipline/data/analysis_conditions/Dartel/output/warped_files/warped_files/mwc1T2_178.nii', '/home/sharapova/vbm_pipline/data/analysis_conditions/Dartel/output/warped_files/warped_files/mwc1T2_201.nii', '/home/sharapova/vbm_pipline/data/analysis_conditions/Dartel/output/warped_files/warped_files/mwc1T2_223.nii', '/home/sharapova/vbm_pipline/data/analysis_conditions/Dartel/output/warped_files/warped_files/mwc1T2_224.nii', '/home/sharapova/vbm_pipline/data/analysis_conditions/Dartel/output/warped_files/warped_files/mwc1T2_225.nii', '/home/sharapova/vbm_pipline/data/analysis_conditions/Dartel/output/warped_files/warped_files/mwc1T2_226.nii', '/home/sharapova/vbm_pipline/data/analysis_conditions/Dartel/output/warped_files/warped_files/mwc1T2_227.nii', '/home/sharapova/vbm_pipline/data/analysis_conditions/Dartel/output/warped_files/warped_files/mwc1T2_228.nii']\n",
      "240710-14:21:44,550 nipype.workflow INFO:\n",
      "\t Workflow vbm_smoothing settings: ['check', 'execution', 'logging', 'monitoring']\n",
      "240710-14:21:44,553 nipype.workflow INFO:\n",
      "\t Running serially.\n",
      "240710-14:21:44,554 nipype.workflow INFO:\n",
      "\t [Node] Setting-up \"vbm_smoothing.smoothing\" in \"/home/sharapova/vbm_pipline/data/analysis_conditions/Dartel/work/vbm_smoothing/smoothing\".\n",
      "240710-14:21:44,558 nipype.workflow INFO:\n",
      "\t [Node] Executing \"smoothing\" <nipype.interfaces.spm.preprocess.Smooth>\n"
     ]
    },
    {
     "name": "stderr",
     "output_type": "stream",
     "text": [
      "stty: 'standard input': Inappropriate ioctl for device\n"
     ]
    },
    {
     "name": "stdout",
     "output_type": "stream",
     "text": [
      "240710-14:21:57,217 nipype.workflow INFO:\n",
      "\t [Node] Finished \"smoothing\", elapsed time 12.656702s.\n",
      "240710-14:21:57,222 nipype.workflow INFO:\n",
      "\t [Node] Setting-up \"vbm_smoothing.data_sink\" in \"/home/sharapova/vbm_pipline/data/analysis_conditions/Dartel/work/vbm_smoothing/data_sink\".\n",
      "240710-14:21:57,236 nipype.workflow INFO:\n",
      "\t [Node] Executing \"data_sink\" <nipype.interfaces.io.DataSink>\n",
      "240710-14:21:57,240 nipype.workflow INFO:\n",
      "\t [Node] Finished \"data_sink\", elapsed time 0.000858s.\n",
      "['/home/sharapova/vbm_pipline/data/analysis_conditions/Dartel/output/smoothed_files/smoothed_files/smwc1T2_224.nii', '/home/sharapova/vbm_pipline/data/analysis_conditions/Dartel/output/smoothed_files/smoothed_files/smwc1T2_227.nii', '/home/sharapova/vbm_pipline/data/analysis_conditions/Dartel/output/smoothed_files/smoothed_files/smwc1T2_178.nii', '/home/sharapova/vbm_pipline/data/analysis_conditions/Dartel/output/smoothed_files/smoothed_files/smwc1T2_225.nii', '/home/sharapova/vbm_pipline/data/analysis_conditions/Dartel/output/smoothed_files/smoothed_files/smwc1T2_223.nii', '/home/sharapova/vbm_pipline/data/analysis_conditions/Dartel/output/smoothed_files/smoothed_files/smwc1T2_176.nii', '/home/sharapova/vbm_pipline/data/analysis_conditions/Dartel/output/smoothed_files/smoothed_files/smwc1T2_226.nii', '/home/sharapova/vbm_pipline/data/analysis_conditions/Dartel/output/smoothed_files/smoothed_files/smwc1T2_174.nii', '/home/sharapova/vbm_pipline/data/analysis_conditions/Dartel/output/smoothed_files/smoothed_files/smwc1T2_177.nii', '/home/sharapova/vbm_pipline/data/analysis_conditions/Dartel/output/smoothed_files/smoothed_files/smwc1T2_228.nii', '/home/sharapova/vbm_pipline/data/analysis_conditions/Dartel/output/smoothed_files/smoothed_files/smwc1T2_201.nii']\n"
     ]
    },
    {
     "name": "stderr",
     "output_type": "stream",
     "text": [
      "stty: 'standard input': Inappropriate ioctl for device\n"
     ]
    }
   ],
   "source": [
    "root_derivatives_dir_path = os.path.abspath('/home/sharapova/vbm_pipline/data/analysis_conditions')\n",
    "\n",
    "# Define the full width at half maximum (FWHM) for smoothing\n",
    "fwhm = [3, 3, 3]  # Example values, adjust as needed\n",
    "\n",
    "# Run the smoothing function\n",
    "output_files = smooth_brain_images(root_derivatives_dir_path, fwhm)\n",
    "\n",
    "# Print the output files\n",
    "print(output_files)"
   ]
  }
 ],
 "metadata": {
  "kernelspec": {
   "display_name": "base",
   "language": "python",
   "name": "python3"
  },
  "language_info": {
   "codemirror_mode": {
    "name": "ipython",
    "version": 3
   },
   "file_extension": ".py",
   "mimetype": "text/x-python",
   "name": "python",
   "nbconvert_exporter": "python",
   "pygments_lexer": "ipython3",
   "version": "3.11.5"
  }
 },
 "nbformat": 4,
 "nbformat_minor": 2
}
